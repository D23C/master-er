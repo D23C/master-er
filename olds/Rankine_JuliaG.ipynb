{
 "cells": [
  {
   "cell_type": "markdown",
   "metadata": {
    "pycharm": {
     "name": "#%% md\n"
    }
   },
   "source": [
    "# PRÁCTICA CONVENCIONAL, TURBINAS DE VAPOR\n"
   ]
  },
  {
   "cell_type": "markdown",
   "metadata": {
    "pycharm": {
     "name": "#%% md\n"
    }
   },
   "source": [
    "Júlia Gómez González"
   ]
  },
  {
   "cell_type": "code",
   "execution_count": 48,
   "metadata": {
    "pycharm": {
     "name": "#%%\n"
    }
   },
   "outputs": [
    {
     "name": "stdout",
     "output_type": "stream",
     "text": [
      "Requirement already satisfied: seuif97 in c:\\users\\usuari\\anaconda3\\lib\\site-packages (1.1.0.7)\n",
      "Note: you may need to restart the kernel to use updated packages.\n"
     ]
    }
   ],
   "source": [
    "pip install seuif97"
   ]
  },
  {
   "cell_type": "code",
   "execution_count": 49,
   "metadata": {
    "pycharm": {
     "name": "#%%\n"
    }
   },
   "outputs": [],
   "source": [
    "from seuif97 import *"
   ]
  },
  {
   "cell_type": "markdown",
   "metadata": {
    "pycharm": {
     "name": "#%% md\n"
    }
   },
   "source": [
    "#### DATOS (En ciclo ideal)\n",
    "\n",
    "P1 = 8 MPa  \n",
    "\n",
    "P2 = 0,008 MPa\n",
    "\n",
    "X1 = 1\n",
    "\n",
    "W cycle = 100 KW; W cycle = 100000 MW\n",
    "\n",
    "Entalpía,h (KJ/kg);   Entropía,S (KJ/Kg·K);   Temperatura, T (ºC);   Presión, P (MPa);   Calidad, X"
   ]
  },
  {
   "cell_type": "markdown",
   "metadata": {
    "pycharm": {
     "name": "#%% md\n"
    }
   },
   "source": [
    "### EJERCICIO 1: CICLO RANKINE IDEAL "
   ]
  },
  {
   "cell_type": "markdown",
   "metadata": {
    "pycharm": {
     "name": "#%% md\n"
    }
   },
   "source": [
    "El ciclo de vapor Rankine es un ciclo de potencia representativo del proceso termodinámico que tiene lugar en una central térmica. Es usado en plantas de potencia para generar electricidad aprovechando la expansión del vapor a alta Tª y P y utilizando un fluido de trabajo que alternativamente evapora y condensa. Por tanto, el ciclo de Rankine es el ciclo ideal que sirve de base al funcionamiento de las centrales térmicas.\n",
    "\n",
    "Son dispositivos de flujo estacionario, los componentes del ciclo Rankine: bomba, caldera, turbina y condensador.\n",
    "\n"
   ]
  },
  {
   "cell_type": "code",
   "execution_count": 50,
   "metadata": {
    "pycharm": {
     "name": "#%%\n"
    }
   },
   "outputs": [],
   "source": [
    "# DATOS\n",
    "P1 = 8 \n",
    "P2 = 0.008 \n",
    "X1=1\n",
    "Wcycle = 100000"
   ]
  },
  {
   "cell_type": "markdown",
   "metadata": {
    "pycharm": {
     "name": "#%% md\n"
    }
   },
   "source": [
    "#### a) Cálculo de los estados termodinámicos del proceso del ciclo ideal."
   ]
  },
  {
   "cell_type": "code",
   "execution_count": 51,
   "metadata": {
    "pycharm": {
     "name": "#%%\n"
    }
   },
   "outputs": [
    {
     "name": "stdout",
     "output_type": "stream",
     "text": [
      "T1 = 295.00912125631703 ºC\n",
      "h1 = 2758.611080680434 kJ/kg\n",
      "S1 = 5.744848808940075 kJ/kg·K\n"
     ]
    }
   ],
   "source": [
    "# Estado 1: X1=1; P1= 8\n",
    "T1 = px2t(P1,X1) \n",
    "h1 = px2h(P1,X1) \n",
    "S1 = px2s(P1,X1) \n",
    "print ('T1 =', T1, 'ºC')\n",
    "print ('h1 =',h1,'kJ/kg')\n",
    "print ('S1 =',S1,'kJ/kg·K')"
   ]
  },
  {
   "cell_type": "code",
   "execution_count": 52,
   "metadata": {
    "pycharm": {
     "name": "#%%\n"
    }
   },
   "outputs": [
    {
     "name": "stdout",
     "output_type": "stream",
     "text": [
      "T2 = 41.51005270424139\n",
      "h2 = 1795.0770367371815\n",
      "X2 = 0.6748393810242206\n",
      "V2 = 12.214543575697041 m^3/kg\n"
     ]
    }
   ],
   "source": [
    "# Estado 2: S2=S1=5.74; P2= 0.008\n",
    "S2=S1\n",
    "T2 = ps2t(P2,S2)\n",
    "h2 = ps2h(P2,S2)\n",
    "X2 = ps2x(P2,S2)\n",
    "V2 = ps2v(P2,S2)\n",
    "print ('T2 =',T2)\n",
    "print ('h2 =',h2)\n",
    "print ('X2 =',X2)\n",
    "print ('V2 =',V2, 'm^3/kg')"
   ]
  },
  {
   "cell_type": "code",
   "execution_count": 53,
   "metadata": {
    "pycharm": {
     "name": "#%%\n"
    }
   },
   "outputs": [
    {
     "name": "stdout",
     "output_type": "stream",
     "text": [
      "P3 = 0.007999999999999962\n",
      "h3 = 173.8517685972624\n",
      "S3 = 0.592531583591964\n",
      "V3 = 0.0010084729266462307\n"
     ]
    }
   ],
   "source": [
    "# Estado 3: T3=T2=41.510052; X3=0\n",
    "T3=T2\n",
    "X3 = 0\n",
    "P3 = tx2p(T3,X3)\n",
    "h3 = tx2h(T3,X3)\n",
    "S3 = tx2s(T3,X3)\n",
    "V3 = tx2v(T3,X3)\n",
    "print ('P3 =',P3)\n",
    "print ('h3 =',h3)\n",
    "print ('S3 =',S3)\n",
    "print ('V3 =',V3)"
   ]
  },
  {
   "cell_type": "code",
   "execution_count": 54,
   "metadata": {
    "pycharm": {
     "name": "#%%\n"
    }
   },
   "outputs": [
    {
     "name": "stdout",
     "output_type": "stream",
     "text": [
      "T4 = 41.75196883675659\n",
      "h4 = 181.89778626716353\n",
      "X4 = 0.0\n",
      "V4 = 0.001005058770876371\n"
     ]
    }
   ],
   "source": [
    "# Estado 4: S4=S3=0.59253; P4=P1=8\n",
    "S4=S3\n",
    "P4=P1\n",
    "T4 = ps2t(P4,S4)\n",
    "h4 = ps2h(P4,S4)\n",
    "X4 = ps2x(P4,S4)\n",
    "V4 = ps2v(P4,S4)\n",
    "print ('T4 =',T4)\n",
    "print ('h4 =',h4)\n",
    "print ('X4 =',X4)\n",
    "print ('V4 =',V4)"
   ]
  },
  {
   "cell_type": "code",
   "execution_count": 55,
   "metadata": {
    "pycharm": {
     "name": "#%%\n"
    }
   },
   "outputs": [
    {
     "name": "stdout",
     "output_type": "stream",
     "text": [
      "S5i = 3.207651008044679\n",
      "T5i = 295.00912125631703\n"
     ]
    }
   ],
   "source": [
    "# Estado 5\n",
    "T5i = px2t(P1,0)\n",
    "S5i = px2s(P1,0)\n",
    "print('S5i =',S5i)\n",
    "print('T5i =',T5i)"
   ]
  },
  {
   "cell_type": "markdown",
   "metadata": {
    "pycharm": {
     "name": "#%% md\n"
    }
   },
   "source": [
    "#### b) Rendimiento térmico "
   ]
  },
  {
   "cell_type": "code",
   "execution_count": 56,
   "metadata": {
    "pycharm": {
     "name": "#%%\n"
    }
   },
   "outputs": [
    {
     "name": "stdout",
     "output_type": "stream",
     "text": [
      "Rendimiento térmico (%) 37.08165857431649\n"
     ]
    }
   ],
   "source": [
    "m = Wcycle/((h1-h2)-(h4-h3))\n",
    "Wt = m * (h1-h2)\n",
    "Wp = m * (h4 - h3)\n",
    "Qin = m * (h4-h1)\n",
    "Qout = m * (h3-h2)\n",
    "Rendimiento = (abs((Wt-Wp)/Qin)*100)\n",
    "print ('Rendimiento térmico (%)',Rendimiento)"
   ]
  },
  {
   "cell_type": "markdown",
   "metadata": {
    "pycharm": {
     "name": "#%% md\n"
    }
   },
   "source": [
    "#### c) Ratio de trabajo de retorno, bwr (%)"
   ]
  },
  {
   "cell_type": "code",
   "execution_count": 57,
   "metadata": {
    "pycharm": {
     "name": "#%%\n"
    }
   },
   "outputs": [
    {
     "name": "stdout",
     "output_type": "stream",
     "text": [
      "bwr (%) = 0.8350527644018554\n",
      "bwr, es la variable que nos define la cantidad consumida de la total producida.\n"
     ]
    }
   ],
   "source": [
    "bwr = (Wp/Wt)*100\n",
    "print('bwr (%) =',bwr)\n",
    "print ('bwr, es la variable que nos define la cantidad consumida de la total producida.')"
   ]
  },
  {
   "cell_type": "markdown",
   "metadata": {
    "pycharm": {
     "name": "#%% md\n"
    }
   },
   "source": [
    "#### d) Flujo másico"
   ]
  },
  {
   "cell_type": "code",
   "execution_count": 58,
   "metadata": {
    "pycharm": {
     "name": "#%%\n"
    }
   },
   "outputs": [
    {
     "name": "stdout",
     "output_type": "stream",
     "text": [
      "m (kg/s)= 104.65855902980353\n"
     ]
    }
   ],
   "source": [
    "# Potencias, primero necesitamos saber el flujo:\n",
    "# Wcycle = Qin - Qout\n",
    "WcycleW = Qin - Qout\n",
    "Qout = m * (h3-h2)\n",
    "m = Wcycle/((h1-h2)-(h4-h3)) # Las diferencias de entalpía son las de la turbina - las de la bomba.\n",
    "print ('m (kg/s)=',m)"
   ]
  },
  {
   "cell_type": "markdown",
   "metadata": {
    "pycharm": {
     "name": "#%% md\n"
    }
   },
   "source": [
    "#### e) Los calores intercambiados en MW (Qin y Qout)"
   ]
  },
  {
   "cell_type": "code",
   "execution_count": 59,
   "metadata": {
    "pycharm": {
     "name": "#%%\n"
    }
   },
   "outputs": [
    {
     "name": "stdout",
     "output_type": "stream",
     "text": [
      "Qout (MW) = 169675.10042623078\n",
      "Qin (MW) = 269675.10042623075\n"
     ]
    }
   ],
   "source": [
    "# Potencias de calores\n",
    "Qout = abs(m * (h3-h2))\n",
    "Qin = abs(m * (h4-h1))\n",
    "print ('Qout (MW) =', Qout)\n",
    "print ('Qin (MW) =', Qin)"
   ]
  },
  {
   "cell_type": "markdown",
   "metadata": {
    "pycharm": {
     "name": "#%% md\n"
    }
   },
   "source": [
    "#### d) Los trabajos de la turbina y la bomba en MW (Wp y Wt)"
   ]
  },
  {
   "cell_type": "code",
   "execution_count": 60,
   "metadata": {
    "pycharm": {
     "name": "#%%\n"
    }
   },
   "outputs": [
    {
     "name": "stdout",
     "output_type": "stream",
     "text": [
      "Wt (MW) = 100842.0846152602\n",
      "Wp (MW) = 842.0846152601885\n"
     ]
    }
   ],
   "source": [
    "Wt = m * (h1-h2)\n",
    "Wp = m * (h4 - h3)\n",
    "print ('Wt (MW) =', Wt)\n",
    "print ('Wp (MW) =', Wp)"
   ]
  },
  {
   "cell_type": "markdown",
   "metadata": {
    "pycharm": {
     "name": "#%% md\n"
    }
   },
   "source": [
    "#### g) Representación del ciclo de vapor ideal"
   ]
  },
  {
   "cell_type": "markdown",
   "metadata": {
    "pycharm": {
     "name": "#%% md\n"
    }
   },
   "source": [
    "Se representa el diagrama T-sde un ciclo Rankine ideal. Este, está formado por dos procesos isoentrópicos (que se operan en la bomba y la turbina, siendo adiabáticos e internamente reversibles); y dos procesos isobáricos (en la caldera y en el condensador que operan sin pérdidas de carga y por tanto sin caídas de presión). \n",
    "Los estados del ciclo quedan definidos por etapas: 1, vapor sobrecalentado; 2, vapor húmedo; 3,líquido saturado; 4,líquido subenfriado."
   ]
  },
  {
   "cell_type": "code",
   "execution_count": 61,
   "metadata": {
    "pycharm": {
     "name": "#%%\n"
    }
   },
   "outputs": [
    {
     "data": {
      "text/plain": [
       "[<matplotlib.lines.Line2D at 0x2658b0b5be0>]"
      ]
     },
     "execution_count": 61,
     "metadata": {},
     "output_type": "execute_result"
    },
    {
     "data": {
      "image/png": "[encoded data removed]",
      "text/plain": [
       "<Figure size 720x360 with 1 Axes>"
      ]
     },
     "metadata": {
      "needs_background": "light"
     },
     "output_type": "display_data"
    }
   ],
   "source": [
    "%matplotlib inline\n",
    "\n",
    "import matplotlib.pyplot as plt\n",
    "import numpy as np\n",
    "\n",
    "plt.figure(figsize=(10.0,5.0))\n",
    " \n",
    "S_ideal=[S1,S2,S3,S4,S5i,S1]\n",
    "T_ideal=[T1,T2,T3,T4,T5i,T1]\n",
    "\n",
    "plt.plot(S_ideal, T_ideal, 'o-')\n",
    "plt.legend(('Ideal', 'Ideal'))\n",
    "plt.xlabel('Entropy (kJ/(kg K)')\n",
    "plt.ylabel('Temperature (°C)')\n",
    "plt.title('Diagrama T-S. CICLO RANKINE IDEAL')\n",
    "plt.grid()\n",
    "\n",
    "# saturated vapor and liquid entropy lines \n",
    "npt = np.linspace(10,647.096-273.15,200) # range of temperatures\n",
    "svap = [s for s in [tx2s(t, 1) for t in npt]]\n",
    "sliq = [s for s in [tx2s(t, 0) for t in npt]]\n",
    "plt.plot(svap, npt, 'c-')\n",
    "plt.plot(sliq, npt, 'c-')"
   ]
  },
  {
   "cell_type": "markdown",
   "metadata": {
    "pycharm": {
     "name": "#%% md\n"
    }
   },
   "source": [
    "### EJERCICIO 2: CICLO IRREVERSIBILIDADES"
   ]
  },
  {
   "cell_type": "markdown",
   "metadata": {
    "pycharm": {
     "name": "#%% md\n"
    }
   },
   "source": [
    "En el ciclo ideal Rankine en una instalación de producción de potencia se presentan desviaciones de las magnitudes debido a la irreversibilidad de los procesos y equipos. Las irreversibilidades se clasifican en dos tipos: Irreversibilidades internas y externas. El trabajo real necesario para aumentar la presión del líquido en la bomba será mayor que el ideal (isentrópico) mientras que el trabajo real de expansión obtenido en la turbina será menor que el ideal debido a las pérdidas internas."
   ]
  },
  {
   "cell_type": "code",
   "execution_count": 62,
   "metadata": {
    "pycharm": {
     "name": "#%%\n"
    }
   },
   "outputs": [],
   "source": [
    "# DATOS:\n",
    "RendT=0.85\n",
    "RendP=0.85"
   ]
  },
  {
   "cell_type": "code",
   "execution_count": 63,
   "metadata": {
    "pycharm": {
     "name": "#%%\n"
    }
   },
   "outputs": [
    {
     "name": "stdout",
     "output_type": "stream",
     "text": [
      "h2r 1939.6071433286693\n",
      "P2r = 0.007999999999999962\n",
      "S2r = 6.204171132868009\n",
      "V2r = 13.303364213366768\n",
      "X2r = 0.7350004268630066\n"
     ]
    }
   ],
   "source": [
    "# ESTADO 2 CICLO REAL:\n",
    "h2r = h1 - RendT*(h1-h2)\n",
    "print ('h2r',h2r) \n",
    "\n",
    "T2r=T2\n",
    "# Entonces, tenemos entalpía (h2r) y T2\n",
    "P2r = th2p(T2, h2r)\n",
    "S2r = th2s(T2, h2r)\n",
    "V2r = th2v(T2, h2r)\n",
    "X2r = th2x(T2, h2r)\n",
    "\n",
    "print('P2r =',P2r)\n",
    "print('S2r =',S2r)\n",
    "print('V2r =',V2r)\n",
    "print('X2r =',X2r)"
   ]
  },
  {
   "cell_type": "code",
   "execution_count": 64,
   "metadata": {
    "pycharm": {
     "name": "#%%\n"
    }
   },
   "outputs": [
    {
     "name": "stdout",
     "output_type": "stream",
     "text": [
      "h4r = 183.31767173832256\n",
      "T4r = 42.093300748692855\n",
      "S4r = 0.5970381178051598\n",
      "V4r = 0.001005196435764367\n",
      "X4r = 0.0\n",
      "P4r = 8\n"
     ]
    }
   ],
   "source": [
    "# ESTADO 4 REAL:\n",
    "h4r = h3 + ((h4-h3)/RendP) # r de real\n",
    "print ('h4r =',h4r) \n",
    "# Entonces tenemos entalpía real (h4r) y P4 (igual presión que en estado 4 ideal, ya que se encuentran en la misma isobara).\n",
    "P4r = P4\n",
    "T4r = ph2t(P4,h4r)\n",
    "S4r = ph2s(P4,h4r)\n",
    "V4r = ph2v(P4,h4r)\n",
    "X4r = ph2x(P4,h4r)\n",
    "\n",
    "print('T4r =',T4r)\n",
    "print('S4r =',S4r)\n",
    "print('V4r =',V4r)\n",
    "print('X4r =',X4r)\n",
    "print('P4r =',P4r)"
   ]
  },
  {
   "cell_type": "code",
   "execution_count": 65,
   "metadata": {
    "pycharm": {
     "name": "#%%\n"
    }
   },
   "outputs": [
    {
     "name": "stdout",
     "output_type": "stream",
     "text": [
      "mr =  123.52724118453493 kg/s\n",
      "Calor especifico en el condensador, Qoutr = 218.11889004733536 MW\n",
      "Calor especifico en la caldera, Qinr = 318.11889004733536 MW\n",
      "Trabajo especifico de la turbina, Wtr = 101.16929690033517 MW\n",
      "Trabajo especifico de la bomba,  Wpr = 1.1692969003351843 MW\n",
      "Rendimiento térmico = 31.43478841672062 %\n"
     ]
    }
   ],
   "source": [
    "mr = Wcycle/((h1-h2r)-(h4r-h3)) # Las diferencias de entalpía son las de la turbina - las de la bomba.\n",
    "print ('mr = ',mr, 'kg/s')\n",
    "Qoutr = (mr * (h2r-h3))/1000 # r de real\n",
    "Qinr = (mr * (h1-h4r))/1000\n",
    "print ('Calor especifico en el condensador, Qoutr =', Qoutr, 'MW')\n",
    "print ('Calor especifico en la caldera, Qinr =', Qinr, 'MW')\n",
    "# Rendimiento REAL\n",
    "Wtr = (mr * (h1-h2r))/1000\n",
    "Wpr = (mr * (h4r - h3))/1000\n",
    "print ('Trabajo especifico de la turbina, Wtr =', Wtr, 'MW')\n",
    "print ('Trabajo especifico de la bomba,  Wpr =',  Wpr, 'MW')\n",
    "Rendimientor = (Wtr-Wpr)/Qinr *100\n",
    "print ('Rendimiento térmico =',Rendimientor, '%') # EN POSITIVO"
   ]
  },
  {
   "cell_type": "markdown",
   "metadata": {
    "pycharm": {
     "name": "#%% md\n"
    }
   },
   "source": [
    "#### Representación ciclo real"
   ]
  },
  {
   "cell_type": "code",
   "execution_count": 66,
   "metadata": {
    "pycharm": {
     "name": "#%%\n"
    }
   },
   "outputs": [
    {
     "name": "stdout",
     "output_type": "stream",
     "text": [
      "Veáse la diferencia entre la gráfica del ciclo ideal con la del real\n"
     ]
    },
    {
     "data": {
      "image/png": "[encoded data removed]",
      "text/plain": [
       "<Figure size 720x360 with 1 Axes>"
      ]
     },
     "metadata": {
      "needs_background": "light"
     },
     "output_type": "display_data"
    }
   ],
   "source": [
    "%matplotlib inline\n",
    "\n",
    "import matplotlib.pyplot as plt\n",
    "import numpy as np\n",
    "\n",
    "plt.figure(figsize=(10.0,5.0))\n",
    " \n",
    "S_ideal=[S1,S2,S3,S4,S5i,S1]\n",
    "T_ideal=[T1,T2,T3,T4,T5i,T1]\n",
    "      \n",
    "S_real=[S1,S2r,S3,S4r,S5i,S1]\n",
    "T_real=[T1,T2r,T3,T4r,T5i,T1]\n",
    "\n",
    "plt.plot(S_ideal, T_ideal, 'o-')\n",
    "plt.plot(S_real, T_real, 'o--')\n",
    "plt.legend(('Ideal','Real'))\n",
    "plt.xlabel('Entropy (kJ/(kg K)')\n",
    "plt.ylabel('Temperature (°C)')\n",
    "plt.title('Diagrama T-S. CICLO RANKINE IDEAL Y REAL')\n",
    "plt.grid()\n",
    "\n",
    "# Representación de la línea\n",
    "npt = np.linspace(10,647.096-273.15,200) # range of temperatures\n",
    "svap = [s for s in [tx2s(t, 1) for t in npt]]\n",
    "sliq = [s for s in [tx2s(t, 0) for t in npt]]\n",
    "plt.plot(svap, npt, 'c-')\n",
    "plt.plot(sliq, npt, 'c-')\n",
    "\n",
    "\n",
    "print ('Veáse la diferencia entre la gráfica del ciclo ideal con la del real')"
   ]
  },
  {
   "cell_type": "markdown",
   "metadata": {
    "pycharm": {
     "name": "#%% md\n"
    }
   },
   "source": [
    " ### EJERCICIO 3: CICLO REAL CON SOBRECALENTAMIENTO"
   ]
  },
  {
   "cell_type": "markdown",
   "metadata": {
    "pycharm": {
     "name": "#%% md\n"
    }
   },
   "source": [
    "El sobrecalentamiento del vapor hasta altas temperaturas aumenta el rendimiento térmico del ciclo al aumentar la Tª promedio a la que se proporciona calor. La Tª promedio puede ser  incrementada sin aumentar la presión de la caldera, gracias al sobrecalentamiento del vapor a altas temperaturas.\n",
    "\n",
    "Por consideraciones metalúrgicas, debido a la restricción de los materiales para soportar altas temperaturas, el  sobrecalentamiento del vapor está limitado hasta un máximo aproximado de 620- 650ºC.\n",
    " \n",
    "El sobrecalentamiento del vapor a temperaturas más altas tiene otro efecto muy conveniente: disminuye el contenido de humedad del vapor a la salida de la turbina.\n",
    "\n"
   ]
  },
  {
   "cell_type": "code",
   "execution_count": 67,
   "metadata": {
    "pycharm": {
     "name": "#%%\n"
    }
   },
   "outputs": [],
   "source": [
    "# DATOS (s de sobrecalentamiento), unidades de T en celsius\n",
    "P1s = 8 \n",
    "P2s = 0.008 \n",
    "T1s = 450\n",
    "Wcycles = 100000\n",
    "RendTs = 0.85\n",
    "RendPs = 0.85"
   ]
  },
  {
   "cell_type": "markdown",
   "metadata": {
    "pycharm": {
     "name": "#%% md\n"
    }
   },
   "source": [
    "#### a) Calcular estados del ciclo."
   ]
  },
  {
   "cell_type": "code",
   "execution_count": 68,
   "metadata": {
    "pycharm": {
     "name": "#%%\n"
    }
   },
   "outputs": [
    {
     "name": "stdout",
     "output_type": "stream",
     "text": [
      "h1s = 3273.2340290678903\n",
      "S1s = 6.55767674925585\n",
      "V1s = 0.03819698603253424\n",
      "X1s = 1.0\n",
      "P1s = 8\n",
      "T1s = 450\n"
     ]
    }
   ],
   "source": [
    "#ESTADO 1, tenemos P1s y T1s\n",
    "\n",
    "h1s = pt2h(P1s,T1s)\n",
    "S1s = pt2s(P1s,T1s)\n",
    "V1s = pt2v(P1s,T1s)\n",
    "X1s = pt2x(P1s,T1s)\n",
    "\n",
    "print('h1s =',h1s)\n",
    "print('S1s =',S1s)\n",
    "print('V1s =',V1s)\n",
    "print('X1s =',X1s)\n",
    "print('P1s =',P1s)\n",
    "print('T1s =',T1s)"
   ]
  },
  {
   "cell_type": "code",
   "execution_count": 69,
   "metadata": {
    "pycharm": {
     "name": "#%%\n"
    }
   },
   "outputs": [
    {
     "name": "stdout",
     "output_type": "stream",
     "text": [
      "ESTADO 2 IDEAL:\n",
      "T2is = 41.51005270424139\n",
      "h2is = 2050.8410236685245\n",
      "X2is = 0.781301828915292\n",
      "V2is = 14.141347021090214 m^3/kg\n",
      "S2is = 6.55767674925585\n",
      "P2s = 0.008\n",
      "ESTADO 2 REAL:\n",
      "h2rs 2234.1999744784293\n",
      "P2rs = 0.007999999999999962\n",
      "S2rs = 7.140398656720041\n",
      "V2rs = 15.5226855840485\n",
      "X2rs = 0.8576254856590433\n",
      "T2rs = 41.51005270424139\n"
     ]
    }
   ],
   "source": [
    "# ESTADO 2 tenemos P2\n",
    "\n",
    "# Primero se calcula el ideal\n",
    "S2is=S1s\n",
    "\n",
    "T2is = ps2t(P2s,S2is)\n",
    "h2is = ps2h(P2s,S2is)\n",
    "X2is = ps2x(P2s,S2is)\n",
    "V2is = ps2v(P2s,S2is)\n",
    "\n",
    "print ('ESTADO 2 IDEAL:')\n",
    "print('T2is =',T2is)\n",
    "print('h2is =',h2is)\n",
    "print('X2is =',X2is)\n",
    "print('V2is =',V2is, 'm^3/kg')\n",
    "print('S2is =',S2is)\n",
    "print('P2s =',P2s)\n",
    "\n",
    "# Ahora ya podemos calcular los del real, sabemos que T2si=T2sr\n",
    "\n",
    "h2rs = h1s - RendTs*(h1s-h2is)\n",
    "print ('ESTADO 2 REAL:')\n",
    "print ('h2rs',h2rs)\n",
    "\n",
    "# Entonces, tenemos T2 y entalpía (h2r):\n",
    "T2rs=T2is\n",
    "\n",
    "P2rs = th2p(T2is, h2rs)\n",
    "S2rs = th2s(T2is, h2rs)\n",
    "V2rs = th2v(T2is, h2rs)\n",
    "X2rs = th2x(T2is, h2rs)\n",
    "\n",
    "print('P2rs =',P2rs)\n",
    "print('S2rs =',S2rs)\n",
    "print('V2rs =',V2rs)\n",
    "print('X2rs =',X2rs)\n",
    "print('T2rs =',T2rs)"
   ]
  },
  {
   "cell_type": "code",
   "execution_count": 70,
   "metadata": {
    "pycharm": {
     "name": "#%%\n"
    }
   },
   "outputs": [
    {
     "name": "stdout",
     "output_type": "stream",
     "text": [
      "P3s = 0.007999999999999962\n",
      "h3s = 173.8517685972624\n",
      "S3s = 0.592531583591964\n",
      "V3s = 0.0010084729266462307\n",
      "T3s = 41.51005270424139\n"
     ]
    }
   ],
   "source": [
    "# ESTADO 3\n",
    "\n",
    "T3s=T2is\n",
    "X3s=0\n",
    "\n",
    "P3s = tx2p(T3s,X3s)\n",
    "h3s = tx2h(T3s,X3s)\n",
    "S3s = tx2s(T3s,X3s)\n",
    "V3s = tx2v(T3s,X3s)\n",
    "\n",
    "print('P3s =',P3s)\n",
    "print('h3s =',h3s)\n",
    "print('S3s =',S3s)\n",
    "print('V3s =',V3s)\n",
    "print('T3s =',T3s)"
   ]
  },
  {
   "cell_type": "code",
   "execution_count": 71,
   "metadata": {
    "pycharm": {
     "name": "#%%\n"
    }
   },
   "outputs": [
    {
     "name": "stdout",
     "output_type": "stream",
     "text": [
      "ESTADO 4 IDEAL:\n",
      "T4is = 41.75196883675659\n",
      "h4is = 181.89778626716353\n",
      "X4is = 0.0\n",
      "V4is = 0.001005058770876371\n",
      "S4s = 0.592531583591964\n",
      "P4s = 8\n",
      "ESTADO 4 REAL:\n",
      "h4rs = 183.31767173832256\n",
      "T4rs = 42.093300748692855\n",
      "S4rs = 0.5970381178051598\n",
      "V4rs = 0.001005196435764367\n",
      "X4rs = 0.0\n",
      "P4s = 8\n"
     ]
    }
   ],
   "source": [
    "# ESTADO 4 (lo mismo que en 2)\n",
    "# Primero se calcula el ideal\n",
    "\n",
    "S4s=S3s\n",
    "P4s=P1s\n",
    "\n",
    "T4is = ps2t(P4s,S4s)\n",
    "h4is = ps2h(P4s,S4s)\n",
    "X4is = ps2x(P4s,S4s)\n",
    "V4is = ps2v(P4s,S4s)\n",
    "\n",
    "print('ESTADO 4 IDEAL:')\n",
    "print ('T4is =',T4is)\n",
    "print ('h4is =',h4is)\n",
    "print ('X4is =',X4is)\n",
    "print ('V4is =',V4is)\n",
    "print('S4s =',S4s)\n",
    "print('P4s =', P4s) \n",
    "\n",
    "# Estado real:\n",
    "print('ESTADO 4 REAL:')\n",
    "h4rs = h3s + ((h4is-h3s)/RendPs) # r de real\n",
    "print ('h4rs =',h4rs) \n",
    "\n",
    "# Entonces tenemos entalpía real (h4r) y P4 (igual presión que en estado 4 ideal, ya que se encuentran en la misma isobara).\n",
    "\n",
    "T4rs = ph2t(P4s,h4rs)\n",
    "S4rs = ph2s(P4s,h4rs)\n",
    "V4rs = ph2v(P4s,h4rs)\n",
    "X4rs = ph2x(P4s,h4rs)\n",
    "\n",
    "print('T4rs =',T4rs)\n",
    "print('S4rs =',S4rs)\n",
    "print('V4rs =',V4rs)\n",
    "print('X4rs =',X4rs)\n",
    "print('P4s =', P4s) "
   ]
  },
  {
   "cell_type": "code",
   "execution_count": 72,
   "metadata": {
    "pycharm": {
     "name": "#%%\n"
    }
   },
   "outputs": [
    {
     "name": "stdout",
     "output_type": "stream",
     "text": [
      "S5s =  3.2076510080446785\n",
      "T5s = 295.00912125631703\n"
     ]
    }
   ],
   "source": [
    "# ESTADO 5:\n",
    "T5s=T1\n",
    "X5s=0\n",
    "S5s = tx2s(T5s,X5s)\n",
    "P5s = tx2p(T5s,X5s)\n",
    "h5s = tx2h(T5s,X5s)\n",
    "V5s = tx2v(T5s,X5s)\n",
    "\n",
    "print('S5s = ',S5s)\n",
    "print('T5s =',T5s)"
   ]
  },
  {
   "cell_type": "markdown",
   "metadata": {
    "pycharm": {
     "name": "#%% md\n"
    }
   },
   "source": [
    "#### b) El rendimiento térmico en % (ηth); c) El ratio de trabajo de retorno en % (bwr); d) El flujo másico de vapor en kg/s (ṁ); e) Los calores intercambiados en MW (Qin y Qout); f) Los trabajos de la turbina y la bomba en MW (Wp y Wt)."
   ]
  },
  {
   "cell_type": "code",
   "execution_count": 73,
   "metadata": {
    "pycharm": {
     "name": "#%%\n"
    }
   },
   "outputs": [
    {
     "name": "stdout",
     "output_type": "stream",
     "text": [
      "Wcycle = 100000 MW\n",
      "mrs = 97.1281015825126 kg/s\n",
      "Qoutrs = 200.11770983617356 MW\n",
      "Qinrs = 300.11770983617356 MW\n",
      "Wtrs 100.91940520185511 MW\n",
      "Wprs 0.9194052018551155 MW\n",
      "Rendimiento térmico  = 33.32025959234042 %\n"
     ]
    }
   ],
   "source": [
    "print('Wcycle =', Wcycle,'MW')\n",
    "mrs = Wcycle/((h1s-h2rs)-(h4rs-h3s)) # Las diferencias de entalpía son las de la turbina - las de la bomba.\n",
    "print ('mrs =',mrs, 'kg/s')\n",
    "Qoutrs = (mrs * (h2rs-h3s))/1000\n",
    "Qinrs = (mrs * (h1s-h4rs))/1000\n",
    "print ('Qoutrs =', Qoutrs, 'MW')\n",
    "print ('Qinrs =', Qinrs,'MW' )\n",
    "\n",
    "Wtrs = (mrs * (h1s-h2rs))/1000\n",
    "Wprs = (mrs * (h4rs - h3s))/1000\n",
    "print ('Wtrs', Wtrs, 'MW')\n",
    "print ('Wprs', Wprs, 'MW')\n",
    "Rendimientors = (Wtrs-Wprs)/Qinrs *100\n",
    "print ('Rendimiento térmico  =',Rendimientors, '%')"
   ]
  },
  {
   "cell_type": "markdown",
   "metadata": {
    "pycharm": {
     "name": "#%% md\n"
    }
   },
   "source": [
    "#### g) Representación de la gráfica del ciclo de vapor en SOBRECALENTAMIENTO.  "
   ]
  },
  {
   "cell_type": "code",
   "execution_count": 74,
   "metadata": {
    "pycharm": {
     "name": "#%%\n"
    }
   },
   "outputs": [
    {
     "data": {
      "text/plain": [
       "[<matplotlib.lines.Line2D at 0x26589d2ed60>]"
      ]
     },
     "execution_count": 74,
     "metadata": {},
     "output_type": "execute_result"
    },
    {
     "data": {
      "image/png": "[encoded data removed]",
      "text/plain": [
       "<Figure size 720x360 with 1 Axes>"
      ]
     },
     "metadata": {
      "needs_background": "light"
     },
     "output_type": "display_data"
    }
   ],
   "source": [
    "%matplotlib inline\n",
    "\n",
    "import matplotlib.pyplot as plt\n",
    "import numpy as np\n",
    "\n",
    "plt.figure(figsize=(10.0,5.0))\n",
    " \n",
    "S_ideal_calentado=[S1,S1s,S2is,S3s,S4s,S5i,S1]\n",
    "T_ideal_calentado=[T1,T1s,T2is,T3s,T4is,T5i,T1]\n",
    "    \n",
    "S_calentado=[S1,S1s,S2rs,S3s,S4rs,S5s,S1]\n",
    "T_calentado=[T1,T1s,T2rs,T3s,T4rs,T5s,T1]\n",
    "\n",
    "plt.plot(S_calentado, T_calentado, 'yo--')\n",
    "plt.plot(S_ideal_calentado, T_ideal_calentado, 'o-')\n",
    "plt.legend(('Sobrecalentado','Ideal'))\n",
    "plt.xlabel('Entropy (kJ/(kg K)')\n",
    "plt.ylabel('Temperature (°C)')\n",
    "plt.title('Diagrama T-S. CICLO RANKINE SOBRECALENTAMIENTO')\n",
    "plt.grid()\n",
    "\n",
    "\n",
    "# Representación de la línea\n",
    "npt = np.linspace(10,647.096-273.15,200) # range of temperatures\n",
    "svap = [s for s in [tx2s(t, 1) for t in npt]]\n",
    "sliq = [s for s in [tx2s(t, 0) for t in npt]]\n",
    "plt.plot(svap, npt, 'c-')\n",
    "plt.plot(sliq, npt, 'c-')\n"
   ]
  },
  {
   "cell_type": "markdown",
   "metadata": {
    "pycharm": {
     "name": "#%% md\n"
    }
   },
   "source": [
    "\n",
    "### EJERCICIO 4. CICLO DE RANKINE CON RECALENTAMIENTO"
   ]
  },
  {
   "cell_type": "markdown",
   "metadata": {
    "pycharm": {
     "name": "#%% md\n"
    }
   },
   "source": [
    "El rendimiento de un ciclo de Rankine con recalentamiento aumenta conforme se incrementa el número de etapas de expansión y recalentamiento.\n",
    "\n",
    "Idealmente se podría utilizar una cantidad infinita de recalentamientos para continuar elevando la eficiencia pero en la practica solo se usan dos o tres, ya que la ganancia de trabajos es muy pequeña."
   ]
  },
  {
   "cell_type": "code",
   "execution_count": 75,
   "metadata": {
    "pycharm": {
     "name": "#%%\n"
    }
   },
   "outputs": [],
   "source": [
    "# DATOS\n",
    "\n",
    "t1 = 500\n",
    "p1 = 10\n",
    "p2 = 0.8\n",
    "t3 = 460\n",
    "p4 = 0.008\n",
    "x5 = 0\n",
    "w_cycle = 200\n",
    "r_t1 = 0.91\n",
    "r_t2 = 0.93\n",
    "r_p = 0.88"
   ]
  },
  {
   "cell_type": "code",
   "execution_count": 76,
   "metadata": {
    "pycharm": {
     "name": "#%%\n"
    }
   },
   "outputs": [],
   "source": [
    "# Definición de los estados\n",
    "\n",
    "import seuif97 as sf\n",
    "\n",
    "class State_Pyromat(object):\n",
    "    def __init__(self, numero='', descripcion='', fluido=None, **kwargs):\n",
    "        self.numero = numero\n",
    "        self.descripcion = descripcion\n",
    "        self.kwargs = kwargs\n",
    "        if fluido is None:\n",
    "            self.fluido = pm.get('mp.H2O')\n",
    "        else:\n",
    "            self.fluido = fluido\n",
    "        self.all_keys = ('T', 'p', 's', 'h', 'x')\n",
    "        for kwarg, val in kwargs.items():\n",
    "            setattr(self, kwarg, val) ## Este bucle está haciendo: self.t=480\n",
    "        self.calcular_propiedades()\n",
    " \n",
    "    def __repr__(self):\n",
    "        return f'Estado {self.numero} - {self.descripcion}: P = {self.p:.4f} MPa, T = {self.T:.2f} ºC,'\\\n",
    "               f'x = {self.x:.2f} p.u., h = {self.h:.2f} KJ/kg, s = {self.s:.2f} KJ/kg·K'\n",
    "            \n",
    "    def calcular_propiedades(self):\n",
    "        keys = [k for k in self.kwargs.keys()]\n",
    "        unknown_keys = list(set(self.all_keys).difference(keys))\n",
    "        function = ''.join(keys)\n",
    "        values = [getattr(self, k) for k in keys]\n",
    "        for var in unknown_keys:           \n",
    "            setattr(self, var, getattr(self.fluido, var)(**self.kwargs)[0]) ### para PyroMat\n",
    "            \n",
    "\n",
    "class State(object):\n",
    "    '''Estados para SEUIF97'''\n",
    "    def __init__(self, numero='', descripcion='', fluido=None, **kwargs):\n",
    "        self.numero = numero\n",
    "        self.descripcion = descripcion\n",
    "        self.kwargs = kwargs\n",
    "        self.all_keys = ('t', 'p', 's', 'h', 'x')\n",
    "        for kwarg, val in kwargs.items():\n",
    "            setattr(self, kwarg, val)\n",
    "        self.calcular_propiedades()\n",
    " \n",
    "    def __repr__(self):\n",
    "        return f'Estado {self.numero} - {self.descripcion}: P = {self.p:.4f} MPa, T = {self.t:.2f} ºC,'\\\n",
    "               f'x = {self.x:.2f} p.u., h = {self.h:.2f} KJ/kg, s = {self.s:.2f} KJ/kg·K'\n",
    "            \n",
    "    def calcular_propiedades(self):\n",
    "        keys = [k for k in self.kwargs.keys()] # Lo ponemos dentro una lista (cogemos solo el argumento kawargs)\n",
    "        unknown_keys = list(set(self.all_keys).difference(keys)) ## Diferencia entre self.all_keys = ('t','p','s','h','x') y keys.Siendo una lista\n",
    "        function = ''.join(keys)\n",
    "        values = [getattr(self, k) for k in keys]\n",
    "        \n",
    "        for var in unknown_keys:\n",
    "            try:\n",
    "                setattr(self, var, getattr(sf, f'{function}2{var}')(*values)) ## Estaran todas las variables que no hayamos utilizado\n",
    "            except AttributeError as e:\n",
    "                setattr(self, var, getattr(sf, f'{function[::-1]}2{var}')(*values[::-1]))"
   ]
  },
  {
   "cell_type": "markdown",
   "metadata": {
    "pycharm": {
     "name": "#%% md\n"
    }
   },
   "source": [
    "#### a) Calcular todos los estados "
   ]
  },
  {
   "cell_type": "code",
   "execution_count": 77,
   "metadata": {
    "pycharm": {
     "name": "#%%\n"
    }
   },
   "outputs": [
    {
     "name": "stdout",
     "output_type": "stream",
     "text": [
      "Estado 1 - Entrada turbina: P = 10.0000 MPa, T = 500.00 ºC,x = 1.00 p.u., h = 3375.06 KJ/kg, s = 6.60 KJ/kg·K\n",
      "Estado 2i - Salida turbina etapa 1 (ideal): P = 0.8000 MPa, T = 170.41 ºC,x = 0.99 p.u., h = 2740.70 KJ/kg, s = 6.60 KJ/kg·K\n",
      "Estado 2 - Salida turbina etapa 1 (real): P = 0.8000 MPa, T = 182.20 ºC,x = 1.00 p.u., h = 2797.80 KJ/kg, s = 6.73 KJ/kg·K\n",
      "Estado 3 - Entrada turbina etapa 2: P = 0.8000 MPa, T = 460.00 ºC,x = 1.00 p.u., h = 3395.16 KJ/kg, s = 7.75 KJ/kg·K\n",
      "Estado 4i - Salida turbina etapa 2 (ideal): P = 0.0080 MPa, T = 41.51 ºC,x = 0.94 p.u., h = 2427.54 KJ/kg, s = 7.75 KJ/kg·K\n",
      "Estado 4 - Salida turbina etapa 2 (real): P = 0.0080 MPa, T = 41.51 ºC,x = 0.97 p.u., h = 2495.27 KJ/kg, s = 7.97 KJ/kg·K\n",
      "Estado 5 - Entrada bomba: P = 0.0080 MPa, T = 41.51 ºC,x = 0.00 p.u., h = 173.85 KJ/kg, s = 0.59 KJ/kg·K\n",
      "Estado 6i - Salida bomba (ideal): P = 10.0000 MPa, T = 41.81 ºC,x = 0.00 p.u., h = 183.91 KJ/kg, s = 0.59 KJ/kg·K\n",
      "Estado 6 - Salida bomba (real): P = 10.0000 MPa, T = 36.64 ºC,x = 0.00 p.u., h = 162.43 KJ/kg, s = 0.52 KJ/kg·K\n"
     ]
    }
   ],
   "source": [
    "estado1 = State(1, 'Entrada turbina', t=t1, p=p1)\n",
    "estado2ideal = State('2i', 'Salida turbina etapa 1 (ideal)', s=estado1.s, p=0.8)\n",
    "h2r = estado1.h - r_t1*(estado1.h - estado2ideal.h)\n",
    "estado2 = State(2, 'Salida turbina etapa 1 (real)', h=h2r, p=0.8)\n",
    "estado3 = State(3, 'Entrada turbina etapa 2', p=estado2.p, t=t3)\n",
    "estado4ideal = State('4i', 'Salida turbina etapa 2 (ideal)', s=estado3.s, p=p4)\n",
    "h4r = estado3.h - r_t2*(estado3.h - estado4ideal.h)\n",
    "estado4 = State(4, 'Salida turbina etapa 2 (real)', h=h4r, p=p4)\n",
    "estado5 = State(5, 'Entrada bomba', x=x5, t=estado4.t)\n",
    "estado6ideal = State('6i', 'Salida bomba (ideal)', p=p1, s=estado5.s)\n",
    "h6r = (estado5.h - estado6ideal.h)/r_p + estado5.h\n",
    "estado6 = State(6, 'Salida bomba (real)', h=h6r, p=estado6ideal.p)\n",
    "\n",
    "print(estado1)\n",
    "print(estado2ideal)\n",
    "print(estado2)\n",
    "print(estado3)\n",
    "print(estado4ideal)\n",
    "print(estado4)\n",
    "print(estado5)\n",
    "print(estado6ideal)\n",
    "print(estado6)"
   ]
  },
  {
   "cell_type": "code",
   "execution_count": 81,
   "metadata": {
    "pycharm": {
     "name": "#%%\n"
    }
   },
   "outputs": [],
   "source": [
    "import pandas as pd\n",
    "import numpy as np\n",
    "import matplotlib.pyplot as plt\n",
    "\n",
    "Tc = 647.096 - 273.15  # Critical point temperature (ºC)\n",
    "Pt = 611.657e-6  # Triple point pressure (MPa)\n",
    "Tt = 0.01  # Triple point temperature (ºC)\n",
    "# Plotting vars\n",
    "isop = np.array([Pt, 0.001, 0.002, 0.005, 0.01, 0.02, 0.05, 0.1, 0.2, 0.5, 1.0, 2.0, 5.0, 10.0, 20.0, 35.0, 50.0, 100.0])\n",
    "isoh = np.linspace(200, 3600, 25)\n",
    "\n",
    "\n",
    "class RankineCycleReheat(object):\n",
    "    def __init__(self, t1, p1, p2, t3, p4, x5, w_cycle, r_t1, r_t2, r_p):\n",
    "        self.t1 = t1\n",
    "        self.p1 = p1\n",
    "        self.p2 = p2\n",
    "        self.t3 = t3\n",
    "        self.p4 = p4\n",
    "        self.x5 = x5\n",
    "        self.w_cycle = w_cycle\n",
    "        self.r_t1 = r_t1\n",
    "        self.r_t2 = r_t2\n",
    "        self.r_p = r_p\n",
    "        self.ordered_states = ['s1', 's2i', 'sc', 's3', 's4i', 's5', 's6i', 'sa', 'sb', 's1']\n",
    "        self.calcular_todo()\n",
    "\n",
    "    def fijar_estados(self):\n",
    "        self.estado1 = State(1, 'Entrada turbina', t=self.t1, p=self.p1)\n",
    "        self.estado2ideal = State('2i', 'Salida turbina etapa 1 (ideal)', s=self.estado1.s, p=self.p2)\n",
    "        self.h2r = self.estado1.h - self.r_t1*(self.estado1.h - self.estado2ideal.h)\n",
    "        self.estado2 = State(2, 'Salida turbina etapa 1 (real)', h=self.h2r, p=self.p2)\n",
    "        self.estado3 = State(3, 'Entrada turbina etapa 2', p=self.estado2.p, t=self.t3)\n",
    "        self.estado4ideal = State('4i', 'Salida turbina etapa 2 (ideal)', s=self.estado3.s, p=self.p4)\n",
    "        self.h4r = self.estado3.h - self.r_t2*(self.estado3.h - self.estado4ideal.h)\n",
    "        self.estado4 = State(4, 'Salida turbina etapa 2 (real)', h=self.h4r, p=self.p4)\n",
    "        self.estado5 = State(5, 'Entrada bomba', x=self.x5, t=self.estado4.t)\n",
    "        self.estado6ideal = State('6i', 'Salida bomba (ideal)', p=self.p1, s=self.estado5.s)\n",
    "        self.h6r = (self.estado6ideal.h - self.estado5.h)/self.r_p + self.estado5.h\n",
    "        self.estado6 = State(6, 'Salida bomba (real)', h=self.h6r, p=self.estado6ideal.p)\n",
    "        self.states_dict = {'s1':self.estado1, 's2i':self.estado2ideal, 's2':self.estado2, 's3':self.estado3, \n",
    "                            's4i':self.estado4ideal, 's4':self.estado4, 's5':self.estado5, 's6i':self.estado6ideal,\n",
    "                            's6':self.estado6}\n",
    "        self.fijar_estados_intermedios()\n",
    "        \n",
    "    def hacer_df(self):\n",
    "        df = pd.DataFrame([])\n",
    "        for k, st in self.states_dict.items():\n",
    "            for var in st.all_keys:\n",
    "                df.loc[k, var] = getattr(st, var)\n",
    "        return df\n",
    "    \n",
    "    def calcular_todo(self):\n",
    "        self.fijar_estados()\n",
    "        self.calcular_entalpias()\n",
    "        self.calcular_flujo_masico()\n",
    "        self.calcular_potencias()\n",
    "        self.calcular_rendimientos()\n",
    "#         self.print_values()\n",
    "    \n",
    "    def calcular_entalpias(self):\n",
    "        self.w_t1 = self.estado1.h - self.estado2.h\n",
    "        self.w_t2 = self.estado3.h - self.estado4.h\n",
    "        self.w_p = self.estado6.h - self.estado5.h\n",
    "        self.q_in_caldera = self.estado1.h - self.estado6.h\n",
    "        self.q_in_recalentamiento = self.estado3.h - self.estado2.h\n",
    "        self.q_in = self.q_in_caldera + self.q_in_recalentamiento\n",
    "        self.q_out = self.estado4.h - self.estado5.h\n",
    "        \n",
    "    def calcular_flujo_masico(self):\n",
    "        self.mass_flow = (self.w_cycle * 1e3) / (self.w_t1 + self.w_t2 - self.w_p)\n",
    "        \n",
    "    def calcular_potencias(self):\n",
    "        self.w_t1_mw = self.w_t1 * self.mass_flow / 1e3\n",
    "        self.w_t2_mw = self.w_t2 * self.mass_flow / 1e3\n",
    "        self.w_p_mw = self.w_p * self.mass_flow / 1e3\n",
    "        self.q_in_mw = self.q_in * self.mass_flow / 1e3\n",
    "        self.q_out_mw = self.q_out * self.mass_flow / 1e3\n",
    "        \n",
    "    def calcular_rendimientos(self):\n",
    "        self.r_th = (self.w_t1_mw + self.w_t2_mw - self.w_p_mw) / self.q_in_mw\n",
    "        self.bwr = self.w_p_mw / (self.w_t1_mw + self.w_t2_mw)\n",
    "        \n",
    "    def print_values(self):\n",
    "        print(\n",
    "            f'Qin = {self.q_in:.2f} KJ/kg, Qout = {self.q_out:.2f}  KJ/kg, Wt1 = {self.w_t1:.2f} KJ/kg, '\n",
    "            f'Wt2 = {self.w_t2:.2f} KJ/kg, Wp = {self.w_p:.2f} KJ/kg')\n",
    "        print(f'Qin = {self.q_in_mw:.2f} MW, Qout = {self.q_out_mw:.2f} MW, Wt1 = {self.w_t1_mw:.2f} MW, '\n",
    "              f'Wt2 = {self.w_t2_mw:.2f} MW, Wp = {self.w_p_mw:.2f} MW')\n",
    "        print(f'Thermal efficiency = {self.r_th:.3f}, Back work ratio = {self.bwr:.3f}')\n",
    "    \n",
    "    def fijar_estados_intermedios(self):\n",
    "        self.estado_a = State('a', p=self.estado6.p, x=0)\n",
    "        self.states_dict['sa'] = self.estado_a\n",
    "        # if self.s1.t != self.sa.t:\n",
    "        self.estado_b = State('b', t=self.estado_a.t, x=1)\n",
    "        self.states_dict['sb'] = self.estado_b\n",
    "        self.estado_c = State('c', t=self.estado2.t, x=1)\n",
    "        self.states_dict['sc'] = self.estado_c\n",
    "    \n",
    "    def plot_water_curve(self, ax=None, quality=False, isobars=False, isenthalpic=False, show=False):\n",
    "        if ax is None:\n",
    "            fig, ax = plt.subplots(1,1)\n",
    "        T = np.linspace(0.01, Tc, 100)\n",
    "        for x in np.array([0, 1.0]):\n",
    "            S = np.array([sf.tx2s(t, x) for t in T])\n",
    "            ax.plot(S, T, 'k', lw=1.0)\n",
    "        if quality:\n",
    "            for x in np.linspace(0.1, 0.9, 11):\n",
    "                S = np.array([sf.tx2s(t, x) for t in T])\n",
    "                ax.plot(S, T, 'k--', lw=0.2)\n",
    "        if isobars:\n",
    "            for p in isop:\n",
    "                T = np.array([sf.ph2t(p, h) for h in isoh])\n",
    "                S = np.array([sf.ph2s(p, h) for h in isoh])\n",
    "                ax.plot(S, T, 'b', lw=0.2)\n",
    "        if isenthalpic:\n",
    "            for h in isoh:\n",
    "                T = np.array([sf.ph2t(p, h) for p in isop])\n",
    "                S = np.array([sf.ph2s(p, h) for p in isop])\n",
    "                ax.plot(S, T, 'green', lw=0.2)\n",
    "        if show:\n",
    "            plt.show()\n",
    "        return ax\n",
    "    \n",
    "    def plot_cycle(self, water_curve=True, ax=None, **kwargs):\n",
    "        if water_curve:\n",
    "            ax = self.plot_water_curve(**kwargs)\n",
    "        if ax is None:\n",
    "            fig, ax = plt.subplots(1, 1)\n",
    "        s = []\n",
    "        t = []\n",
    "        for k in self.ordered_states:\n",
    "            s.append(self.states_dict[k].s)\n",
    "            t.append(self.states_dict[k].t)\n",
    "\n",
    "        ax.plot(s, t, 'ro-')\n",
    "        if self.r_t1 < 1.0:\n",
    "            real_turb = ['s1', 's2', 's2i']\n",
    "            s_t = []\n",
    "            t_t = []\n",
    "            for k in real_turb:\n",
    "                s_t.append(self.states_dict[k].s)\n",
    "                t_t.append(self.states_dict[k].t)\n",
    "            ax.plot(s_t, t_t, 'ro--')\n",
    "        if self.r_t2 != 1.0:\n",
    "            real_turb = ['s3', 's4', 's4i']\n",
    "            s_t = []\n",
    "            t_t = []\n",
    "            for k in real_turb:\n",
    "                s_t.append(self.states_dict[k].s)\n",
    "                t_t.append(self.states_dict[k].t)\n",
    "            ax.plot(s_t, t_t, 'ro--')\n",
    "        if self.r_p != 1.0:\n",
    "            real_pump = ['s5', 's6', 'sa']\n",
    "            s_p = []\n",
    "            t_p = []\n",
    "            for k in real_pump:\n",
    "                s_p.append(self.states_dict[k].s)\n",
    "                t_p.append(self.states_dict[k].t)\n",
    "            ax.plot(s_p, t_p, 'ro--')"
   ]
  },
  {
   "cell_type": "markdown",
   "metadata": {
    "pycharm": {
     "name": "#%% md\n"
    }
   },
   "source": [
    "#### Calcular: b) Rendimiento térmico del ciclo en % (ηth); c) Flujo másico de vapor en kg/s (ṁ); d) Si el agua de refrigeración entra en el condensador a 15 ºC y sale a 35 ºC, ¿cuál es el flujo másico del agua de refrigeración en el condensador?"
   ]
  },
  {
   "cell_type": "code",
   "execution_count": 82,
   "metadata": {
    "pycharm": {
     "name": "#%%\n"
    }
   },
   "outputs": [
    {
     "name": "stdout",
     "output_type": "stream",
     "text": [
      "              t          p         s            h         x\n",
      "s1   500.000000  10.000000  6.599323  3375.058442  1.000000\n",
      "s2i  170.413511   0.800000  6.599323  2740.704098  0.986520\n",
      "s2   182.198448   0.800000  6.727177  2797.795989  1.000000\n",
      "s3   460.000000   0.800000  7.754835  3395.164792  1.000000\n",
      "s4i   41.510053   0.008000  7.754835  2427.538081  0.938103\n",
      "s4    41.510053   0.008000  7.970096  2495.271951  0.966297\n",
      "s5    41.510053   0.008000  0.592532   173.851769  0.000000\n",
      "s6i   41.812925  10.000000  0.592532   183.907061  0.000000\n",
      "s6    42.142911  10.000000  0.596883   185.278238  0.000000\n",
      "sa   310.999488  10.000000  3.360291  1407.867501  0.000000\n",
      "sb   310.999488  10.000000  5.615890  2725.472567  1.000000\n",
      "sc   182.198448   1.054349  6.566683  2779.107700  1.000000\n"
     ]
    }
   ],
   "source": [
    "# Tabla con los datos calculados +:\n",
    "\n",
    "if __name__ == '__main__':\n",
    "\n",
    "    t1 = 500\n",
    "    p1 = 10\n",
    "    p2 = 0.8\n",
    "    t3 = 460\n",
    "    p4 = 0.008\n",
    "    x5 = 0\n",
    "    w_cycle = 200\n",
    "    r_t1 = 0.91\n",
    "    r_t2 = 0.93\n",
    "    r_p = 0.88\n",
    "    ciclo = RankineCycleReheat(t1, p1, p2, t3, p4, x5, w_cycle, r_t1, r_t2, r_p)\n",
    "    df = ciclo.hacer_df()\n",
    "    print(df)"
   ]
  },
  {
   "cell_type": "code",
   "execution_count": 83,
   "metadata": {
    "pycharm": {
     "name": "#%%\n"
    }
   },
   "outputs": [
    {
     "name": "stdout",
     "output_type": "stream",
     "text": [
      "T1 = 400.0, T3 = 380.0 ------------------------------------------------------------------\n",
      "Qin = 3787.15 KJ/kg, Qout = 2321.42  KJ/kg, Wt1 = 577.26 KJ/kg, Wt2 = 899.89 KJ/kg, Wp = 11.43 KJ/kg\n",
      "Qin = 516.76 MW, Qout = 316.76 MW, Wt1 = 78.77 MW, Wt2 = 122.79 MW, Wp = 1.56 MW\n",
      "Thermal efficiency = 0.387, Back work ratio = 0.008\n",
      "T1 = 416.6666666666667, T3 = 396.6666666666667 ------------------------------------------------------------------\n",
      "Qin = 3787.15 KJ/kg, Qout = 2321.42  KJ/kg, Wt1 = 577.26 KJ/kg, Wt2 = 899.89 KJ/kg, Wp = 11.43 KJ/kg\n",
      "Qin = 516.76 MW, Qout = 316.76 MW, Wt1 = 78.77 MW, Wt2 = 122.79 MW, Wp = 1.56 MW\n",
      "Thermal efficiency = 0.387, Back work ratio = 0.008\n",
      "T1 = 433.3333333333333, T3 = 413.3333333333333 ------------------------------------------------------------------\n",
      "Qin = 3787.15 KJ/kg, Qout = 2321.42  KJ/kg, Wt1 = 577.26 KJ/kg, Wt2 = 899.89 KJ/kg, Wp = 11.43 KJ/kg\n",
      "Qin = 516.76 MW, Qout = 316.76 MW, Wt1 = 78.77 MW, Wt2 = 122.79 MW, Wp = 1.56 MW\n",
      "Thermal efficiency = 0.387, Back work ratio = 0.008\n",
      "T1 = 450.0, T3 = 430.0 ------------------------------------------------------------------\n",
      "Qin = 3787.15 KJ/kg, Qout = 2321.42  KJ/kg, Wt1 = 577.26 KJ/kg, Wt2 = 899.89 KJ/kg, Wp = 11.43 KJ/kg\n",
      "Qin = 516.76 MW, Qout = 316.76 MW, Wt1 = 78.77 MW, Wt2 = 122.79 MW, Wp = 1.56 MW\n",
      "Thermal efficiency = 0.387, Back work ratio = 0.008\n",
      "T1 = 466.6666666666667, T3 = 446.6666666666667 ------------------------------------------------------------------\n",
      "Qin = 3787.15 KJ/kg, Qout = 2321.42  KJ/kg, Wt1 = 577.26 KJ/kg, Wt2 = 899.89 KJ/kg, Wp = 11.43 KJ/kg\n",
      "Qin = 516.76 MW, Qout = 316.76 MW, Wt1 = 78.77 MW, Wt2 = 122.79 MW, Wp = 1.56 MW\n",
      "Thermal efficiency = 0.387, Back work ratio = 0.008\n",
      "T1 = 483.33333333333337, T3 = 463.33333333333337 ------------------------------------------------------------------\n",
      "Qin = 3787.15 KJ/kg, Qout = 2321.42  KJ/kg, Wt1 = 577.26 KJ/kg, Wt2 = 899.89 KJ/kg, Wp = 11.43 KJ/kg\n",
      "Qin = 516.76 MW, Qout = 316.76 MW, Wt1 = 78.77 MW, Wt2 = 122.79 MW, Wp = 1.56 MW\n",
      "Thermal efficiency = 0.387, Back work ratio = 0.008\n",
      "T1 = 500.0, T3 = 480.0 ------------------------------------------------------------------\n",
      "Qin = 3787.15 KJ/kg, Qout = 2321.42  KJ/kg, Wt1 = 577.26 KJ/kg, Wt2 = 899.89 KJ/kg, Wp = 11.43 KJ/kg\n",
      "Qin = 516.76 MW, Qout = 316.76 MW, Wt1 = 78.77 MW, Wt2 = 122.79 MW, Wp = 1.56 MW\n",
      "Thermal efficiency = 0.387, Back work ratio = 0.008\n",
      "T1 = 516.6666666666666, T3 = 496.66666666666663 ------------------------------------------------------------------\n",
      "Qin = 3787.15 KJ/kg, Qout = 2321.42  KJ/kg, Wt1 = 577.26 KJ/kg, Wt2 = 899.89 KJ/kg, Wp = 11.43 KJ/kg\n",
      "Qin = 516.76 MW, Qout = 316.76 MW, Wt1 = 78.77 MW, Wt2 = 122.79 MW, Wp = 1.56 MW\n",
      "Thermal efficiency = 0.387, Back work ratio = 0.008\n",
      "T1 = 533.3333333333334, T3 = 513.3333333333334 ------------------------------------------------------------------\n",
      "Qin = 3787.15 KJ/kg, Qout = 2321.42  KJ/kg, Wt1 = 577.26 KJ/kg, Wt2 = 899.89 KJ/kg, Wp = 11.43 KJ/kg\n",
      "Qin = 516.76 MW, Qout = 316.76 MW, Wt1 = 78.77 MW, Wt2 = 122.79 MW, Wp = 1.56 MW\n",
      "Thermal efficiency = 0.387, Back work ratio = 0.008\n",
      "T1 = 550.0, T3 = 530.0 ------------------------------------------------------------------\n",
      "Qin = 3787.15 KJ/kg, Qout = 2321.42  KJ/kg, Wt1 = 577.26 KJ/kg, Wt2 = 899.89 KJ/kg, Wp = 11.43 KJ/kg\n",
      "Qin = 516.76 MW, Qout = 316.76 MW, Wt1 = 78.77 MW, Wt2 = 122.79 MW, Wp = 1.56 MW\n",
      "Thermal efficiency = 0.387, Back work ratio = 0.008\n"
     ]
    },
    {
     "data": {
      "image/png": "[encoded data removed]",
      "text/plain": [
       "<Figure size 432x288 with 1 Axes>"
      ]
     },
     "metadata": {
      "needs_background": "light"
     },
     "output_type": "display_data"
    },
    {
     "data": {
      "image/png": "[encoded data removed]",
      "text/plain": [
       "<Figure size 432x288 with 1 Axes>"
      ]
     },
     "metadata": {
      "needs_background": "light"
     },
     "output_type": "display_data"
    },
    {
     "data": {
      "image/png": "[encoded data removed]",
      "text/plain": [
       "<Figure size 432x288 with 1 Axes>"
      ]
     },
     "metadata": {
      "needs_background": "light"
     },
     "output_type": "display_data"
    },
    {
     "data": {
      "image/png": "[encoded data removed]",
      "text/plain": [
       "<Figure size 432x288 with 1 Axes>"
      ]
     },
     "metadata": {
      "needs_background": "light"
     },
     "output_type": "display_data"
    },
    {
     "data": {
      "image/png": "[encoded data removed]",
      "text/plain": [
       "<Figure size 432x288 with 1 Axes>"
      ]
     },
     "metadata": {
      "needs_background": "light"
     },
     "output_type": "display_data"
    },
    {
     "data": {
      "image/png": "[encoded data removed]",
      "text/plain": [
       "<Figure size 432x288 with 1 Axes>"
      ]
     },
     "metadata": {
      "needs_background": "light"
     },
     "output_type": "display_data"
    },
    {
     "data": {
      "image/png": "[encoded data removed]",
      "text/plain": [
       "<Figure size 432x288 with 1 Axes>"
      ]
     },
     "metadata": {
      "needs_background": "light"
     },
     "output_type": "display_data"
    },
    {
     "data": {
      "image/png": "[encoded data removed]",
      "text/plain": [
       "<Figure size 432x288 with 1 Axes>"
      ]
     },
     "metadata": {
      "needs_background": "light"
     },
     "output_type": "display_data"
    },
    {
     "data": {
      "image/png": "[encoded data removed]",
      "text/plain": [
       "<Figure size 432x288 with 1 Axes>"
      ]
     },
     "metadata": {
      "needs_background": "light"
     },
     "output_type": "display_data"
    },
    {
     "data": {
      "image/png": "[encoded data removed]",
      "text/plain": [
       "<Figure size 432x288 with 1 Axes>"
      ]
     },
     "metadata": {
      "needs_background": "light"
     },
     "output_type": "display_data"
    }
   ],
   "source": [
    "    for t in np.linspace(400, 550, 10):\n",
    "        print(f'T1 = {t}, T3 = {t-20} ------------------------------------------------------------------')\n",
    "        ciclo.print_values()\n",
    "        ciclo.plot_cycle()"
   ]
  },
  {
   "cell_type": "markdown",
   "metadata": {
    "pycharm": {
     "name": "#%% md\n"
    }
   },
   "source": [
    "### EJERCICIO 5. CICLO DE RANKINE REGENERATIVO"
   ]
  },
  {
   "cell_type": "markdown",
   "metadata": {
    "pycharm": {
     "name": "#%% md\n"
    }
   },
   "source": [
    "Un estudio del ciclo de Rankine revela que un punto mejorable es el hecho de que el agua de alimentación que sale de la bomba entra en la caldera a una Tª relativamente baja. \n",
    "\n",
    "Para ello, existen soluciones. Una posible solución sería comprimir más el agua hasta alcanzar una temperatura más elevada, pero esto requeriría altas P. Implicando que esta solución sea poco práctica. Por eso, la solución más habitual consiste en drenar el vapor de la turbina de diversos puntos. Este vapor, que podría haber producido más trabajo si hubiera continuado su expansión en la turbina, se utiliza para calentar el agua de alimentación en un dispositivo llamado regenerador. La fracción de vapor enviada al regenerador se ajusta, para cada valor de la presión de extracción, de forma que el vapor sale del regenerador como líquido saturado."
   ]
  },
  {
   "cell_type": "markdown",
   "metadata": {
    "pycharm": {
     "name": "#%% md\n"
    }
   },
   "source": [
    "#### Definición de los estados"
   ]
  },
  {
   "cell_type": "code",
   "execution_count": 215,
   "metadata": {
    "pycharm": {
     "name": "#%%\n"
    }
   },
   "outputs": [],
   "source": [
    "w_cycle = 100\n",
    "class RankineCycle(object):\n",
    "    def __init__(self, w_cycle, p1, p2, x1=None, t1=None, x3=0, r_t=0.85, r_p=1.0, pyromat=False, unit_conversion=False):\n",
    "        self.w_cycle = w_cycle\n",
    "        if unit_conversion:\n",
    "            self.p1 = convert_pressure(p1)\n",
    "            self.p2 = convert_pressure(p2)\n",
    "            self.t1 = convert_temp(t1)\n",
    "        else:\n",
    "            self.p1 = p1\n",
    "            self.p2 = p2\n",
    "            self.t1 = t1\n",
    "        if x1 is None and t1 is None:\n",
    "            raise ArgumentError('Both t1 and x1 cannot be None')\n",
    "        self.x1 = x1\n",
    "        self.x3 = x3\n",
    "        self.r_t = r_t\n",
    "        self.r_p = r_p\n",
    "        if pyromat:\n",
    "            self.state_function = State_Pyromat\n",
    "        else:\n",
    "            self.state_function = State\n",
    "        self.fix_states()\n",
    "        self.ordered_states = ['s1', 's2', 's3', 's4', 'sa', 'sb','sc', 's1']\n",
    "\n",
    "    def __repr__(self):\n",
    "        states_list = [f'{s}' for k, s in self.states_dict.items()]\n",
    "        states_string = '\\n'.join(states_list)\n",
    "        return states_string\n",
    "\n",
    "    def fix_states(self):\n",
    "        if self.x1 is not None:\n",
    "            self.state1 = self.state_function(1, 'Entrada a la turbina etapa 1', p=self.p1, x=self.x1)\n",
    "        elif self.t1 is not None:\n",
    "            self.state1 = self.state_function(1, 'Entrada a la turbina 1', p=self.p1, t=self.t1)\n",
    "        self.state2 = self.state_function(2, 'Salida de la etapa 1 turbina/Entrada al intercambiador', p=0.7, s=self.state1.s)\n",
    "        h2r = self.state1.h - self.r_t * (self.state1.h - self.state2.h)\n",
    "        self.s2r = self.state_function('2r', 'Salida de la etapa 1 turbina real', p=self.state2.p, h=h2r)\n",
    "        self.state3 = self.state_function(3, 'Salida etapa 2 turbina', p=self.p2, s=self.s2r.s)\n",
    "        h3r = self.s2r.h - self.r_t * (self.s2r.h - self.state3.h)\n",
    "        self.s3r = self.state_function('3r', p=self.state3.p, h=h3r)\n",
    "        self.state4 = self.state_function(4, 'Entrada de la bomba 1',p=self.s3r.p,  h=173.85)\n",
    "        self.state5 = self.state_function(5, 'Salida de la bomba 1',p=self.s2r.p,  t=self.s3r.t)\n",
    "        h5r = (self.state5.h - self.state4.h) / self.r_p + self.state4.h\n",
    "        self.s5r = self.state_function('5r', p=self.state5.p, h=h5r)\n",
    "        self.state6 = self.state_function(6, 'Salida del intercambiador',p=self.state5.p,  x=self.state5.x)\n",
    "        self.state7 = self.state_function(7, 'Salida de la bomba 2/ Entrada a la caldera',p=self.p1,  s=self.state6.s)\n",
    "#         h7r = (self.state7.h - self.state6.h) / self.r_p + self.state6.h\n",
    "#         self.s7r = self.state_function('7r', p=self.state3.p, h=h7r)\n",
    "        self.states_dict = {'s1': self.state1, 's2': self.state2, 's3': self.state3, 's4': self.state4, 's5': self.state5, 's6': self.state6, 's7': self.state7}\n",
    "        self.states_dict['s2r'] = self.s2r\n",
    "        self.states_dict['s3r'] = self.s3r\n",
    "        self.states_dict['s5r'] = self.s5r\n",
    "        self.get_intermediate_states()\n",
    "\n",
    "    def get_intermediate_states(self):\n",
    "        self.state_a = self.state_function('a', p=self.state1.p, x=0)\n",
    "        self.states_dict['sa'] = self.state_a\n",
    "        # if self.s1.t != self.sa.t:\n",
    "        self.state_b = self.state_function('b', p=self.state1.p, x=1)\n",
    "        self.states_dict['sb'] = self.state_b\n",
    "        self.state_c = self.state_function('c', x=self.state_b.x, p=0.7)\n",
    "        self.states_dict['sc'] = self.state_c"
   ]
  },
  {
   "cell_type": "markdown",
   "metadata": {
    "pycharm": {
     "name": "#%% md\n"
    }
   },
   "source": [
    "#### a) Cálculo de todos los estados del ciclo."
   ]
  },
  {
   "cell_type": "code",
   "execution_count": 217,
   "metadata": {
    "pycharm": {
     "name": "#%%\n"
    }
   },
   "outputs": [
    {
     "name": "stdout",
     "output_type": "stream",
     "text": [
      "Estado 1 - Entrada a la turbina 1: P = 8.0000 MPa, T = 480.00 ºC,x = 1.00 p.u., h = 3349.53 KJ/kg, s = 6.66 KJ/kg·K\n",
      "Estado 2 - Salida de la etapa 1 turbina/Entrada al intercambiador: P = 0.7000 MPa, T = 164.95 ºC,x = 0.99 p.u., h = 2742.63 KJ/kg, s = 6.66 KJ/kg·K\n",
      "Estado 3 - Salida etapa 2 turbina: P = 0.0080 MPa, T = 41.51 ºC,x = 0.82 p.u., h = 2147.12 KJ/kg, s = 6.86 KJ/kg·K\n",
      "Estado 4 - Entrada de la bomba 1: P = 0.0080 MPa, T = 41.51 ºC,x = 0.00 p.u., h = 173.85 KJ/kg, s = 0.59 KJ/kg·K\n",
      "Estado 5 - Salida de la bomba 1: P = 0.7000 MPa, T = 41.51 ºC,x = 0.00 p.u., h = 174.46 KJ/kg, s = 0.59 KJ/kg·K\n",
      "Estado 6 - Salida del intercambiador: P = 0.7000 MPa, T = 164.95 ºC,x = 0.00 p.u., h = 697.14 KJ/kg, s = 1.99 KJ/kg·K\n",
      "Estado 7 - Salida de la bomba 2/ Entrada a la caldera: P = 8.0000 MPa, T = 165.85 ºC,x = 0.00 p.u., h = 705.22 KJ/kg, s = 1.99 KJ/kg·K\n",
      "Estado 2r - Salida de la etapa 1 turbina real: P = 0.7000 MPa, T = 194.85 ºC,x = 1.00 p.u., h = 2833.66 KJ/kg, s = 6.86 KJ/kg·K\n",
      "Estado 3r - : P = 0.0080 MPa, T = 41.51 ºC,x = 0.86 p.u., h = 2250.10 KJ/kg, s = 7.19 KJ/kg·K\n",
      "Estado 5r - : P = 0.7000 MPa, T = 41.51 ºC,x = 0.00 p.u., h = 174.46 KJ/kg, s = 0.59 KJ/kg·K\n",
      "Estado a - : P = 8.0000 MPa, T = 295.01 ºC,x = 0.00 p.u., h = 1317.08 KJ/kg, s = 3.21 KJ/kg·K\n",
      "Estado b - : P = 8.0000 MPa, T = 295.01 ºC,x = 1.00 p.u., h = 2758.61 KJ/kg, s = 5.74 KJ/kg·K\n",
      "Estado c - : P = 0.7000 MPa, T = 164.95 ºC,x = 1.00 p.u., h = 2762.75 KJ/kg, s = 6.71 KJ/kg·K\n"
     ]
    }
   ],
   "source": [
    "ciclo_seuif = RankineCycle(w_cycle=100, p1=8.0, p2=0.008, t1=480, r_t=0.85, r_p=1, pyromat=False)\n",
    "print(ciclo_seuif)"
   ]
  },
  {
   "cell_type": "markdown",
   "metadata": {
    "pycharm": {
     "name": "#%% md\n"
    }
   },
   "source": [
    "# Ejercicio 6: Análisis de sensibilidad"
   ]
  },
  {
   "cell_type": "markdown",
   "metadata": {
    "pycharm": {
     "name": "#%% md\n"
    }
   },
   "source": [
    "Tomando uno de los ciclos desarrollados en los ejercicios anteriores, realizar un análisis de\n",
    "sensibilidad variando sus propiedades iniciales (temperaturas, rendimientos de las turbinas y\n",
    "bombas, presiones…) y ver que impacto tienen sobre los parámetros de desempeño del ciclo\n",
    "(rendimiento térmico del ciclo, potencias y calores, etc.). Se valorará positivamente la originalidad\n",
    "del análisis y la presentación del mismo: gráficas, mapas de calor, o cualquier medio original que se\n",
    "considere oportuno."
   ]
  },
  {
   "cell_type": "markdown",
   "metadata": {
    "pycharm": {
     "name": "#%% md\n"
    }
   },
   "source": [
    "#### El ciclo sobrecalentado es el que ha sido elegido."
   ]
  },
  {
   "cell_type": "markdown",
   "metadata": {
    "pycharm": {
     "name": "#%% md\n"
    }
   },
   "source": [
    "Gracias al aumento en la Tª de la caldera se evita el incremento de la humedad producido por un aumento en la presión de la caldera. Por eso, he escogido una Tª elevada de 610ºC.\n",
    "\n",
    "Como ya he comentado anteriormente, el límite máximo de Tª al que se puede realizar este proceso termodinámico, depende directamente de la resistencia metalúrgica de los materiales que componen el ciclo de Rankine."
   ]
  },
  {
   "cell_type": "code",
   "execution_count": 130,
   "metadata": {
    "pycharm": {
     "name": "#%%\n"
    }
   },
   "outputs": [],
   "source": [
    "# DATOS MODIFICADOS:\n",
    "\n",
    "P1sm = 5\n",
    "P2sm = 0.001 #####\n",
    "T1sm = 610 #####\n",
    "Wcyclesm = 100000\n",
    "RendTsm = 0.85\n",
    "RendPsm = 0.85\n",
    "\n",
    "# P1s = 8 \n",
    "# P2s = 0.008 \n",
    "# T1s = 450\n",
    "# Wcycles = 100000\n",
    "# RendTs = 0.85\n",
    "# RendPs = 0.85"
   ]
  },
  {
   "cell_type": "markdown",
   "metadata": {
    "pycharm": {
     "name": "#%% md\n"
    }
   },
   "source": [
    "#### Estados"
   ]
  },
  {
   "cell_type": "code",
   "execution_count": 131,
   "metadata": {
    "pycharm": {
     "name": "#%%\n"
    }
   },
   "outputs": [],
   "source": [
    "#ESTADO 1, tenemos P1s y T1s\n",
    "h1sm = pt2h(P1sm,T1sm)\n",
    "S1sm = pt2s(P1sm,T1sm)\n",
    "V1sm = pt2v(P1sm,T1sm)\n",
    "X1sm = pt2x(P1sm,T1sm)\n",
    "\n",
    "# ESTADO 2 tenemos P2\n",
    "# Ideal estado 2:\n",
    "S2ism=S1sm\n",
    "T2ism = ps2t(P2sm,S2ism)\n",
    "h2ism = ps2h(P2sm,S2ism)\n",
    "X2ism = ps2x(P2sm,S2ism)\n",
    "V2ism = ps2v(P2sm,S2ism)\n",
    "\n",
    "# Real estado 2, T2si=T2sr:\n",
    "h2rsm = h1sm - RendTsm*(h1sm-h2ism)\n",
    "T2rsm=T2ism\n",
    "P2rsm = th2p(T2ism, h2rsm)\n",
    "S2rsm = th2s(T2ism, h2rsm)\n",
    "V2rsm = th2v(T2ism, h2rsm)\n",
    "X2rsm = th2x(T2ism, h2rsm)\n",
    "\n",
    "# Estado 3\n",
    "T3sm=T2ism\n",
    "X3sm=0\n",
    "P3sm = tx2p(T3sm,X3sm)\n",
    "h3sm = tx2h(T3sm,X3sm)\n",
    "S3sm = tx2s(T3sm,X3sm)\n",
    "V3sm = tx2v(T3sm,X3sm)\n",
    "\n",
    "# Estado 4\n",
    "# Ideal\n",
    "S4sm=S3sm\n",
    "P4sm=P1sm\n",
    "T4ism = ps2t(P4sm,S4sm)\n",
    "h4ism = ps2h(P4sm,S4sm)\n",
    "X4ism = ps2x(P4sm,S4sm)\n",
    "V4ism = ps2v(P4sm,S4sm)\n",
    "# Real estado 4\n",
    "h4rsm = h3sm + ((h4ism-h3sm)/RendPsm)\n",
    "T4rsm = ph2t(P4sm,h4rsm)\n",
    "S4rsm = ph2s(P4sm,h4rsm)\n",
    "V4rsm = ph2v(P4sm,h4rsm)\n",
    "X4rsm = ph2x(P4sm,h4rsm)\n",
    "\n",
    "# Estado 5\n",
    "T5sm=T1 \n",
    "X5sm=0\n",
    "S5sm = tx2s(T5sm,X5sm)\n",
    "P5sm = tx2p(T5sm,X5sm )\n",
    "h5sm = tx2h(T5sm,X5sm)\n",
    "V5sm = tx2v(T5sm,X5sm)"
   ]
  },
  {
   "cell_type": "code",
   "execution_count": 132,
   "metadata": {
    "pycharm": {
     "name": "#%%\n"
    }
   },
   "outputs": [
    {
     "name": "stdout",
     "output_type": "stream",
     "text": [
      "Ciclo Sobrecalentado modificando ciertos parámetros\n"
     ]
    },
    {
     "data": {
      "text/html": [
       "<div>\n",
       "<style scoped>\n",
       "    .dataframe tbody tr th:only-of-type {\n",
       "        vertical-align: middle;\n",
       "    }\n",
       "\n",
       "    .dataframe tbody tr th {\n",
       "        vertical-align: top;\n",
       "    }\n",
       "\n",
       "    .dataframe thead th {\n",
       "        text-align: right;\n",
       "    }\n",
       "</style>\n",
       "<table border=\"1\" class=\"dataframe\">\n",
       "  <thead>\n",
       "    <tr style=\"text-align: right;\">\n",
       "      <th></th>\n",
       "      <th>Variables</th>\n",
       "      <th>Estado 1</th>\n",
       "      <th>Estado 2 ideal</th>\n",
       "      <th>Estado 2 real</th>\n",
       "      <th>Estado 3</th>\n",
       "      <th>Estado 4 ideal</th>\n",
       "      <th>Estado 4 real</th>\n",
       "      <th>Estado 5</th>\n",
       "    </tr>\n",
       "  </thead>\n",
       "  <tbody>\n",
       "    <tr>\n",
       "      <th>0</th>\n",
       "      <td>Entalpía (KJ/kg)</td>\n",
       "      <td>3690.077334</td>\n",
       "      <td>2040.834891</td>\n",
       "      <td>2288.221258</td>\n",
       "      <td>29.298247</td>\n",
       "      <td>34.291923</td>\n",
       "      <td>35.173161</td>\n",
       "      <td>1317.079789</td>\n",
       "    </tr>\n",
       "    <tr>\n",
       "      <th>1</th>\n",
       "      <td>Temperatura (ºC)</td>\n",
       "      <td>610.000000</td>\n",
       "      <td>6.969632</td>\n",
       "      <td>6.969632</td>\n",
       "      <td>6.969632</td>\n",
       "      <td>6.987209</td>\n",
       "      <td>7.197982</td>\n",
       "      <td>295.009121</td>\n",
       "    </tr>\n",
       "    <tr>\n",
       "      <th>2</th>\n",
       "      <td>Presión (MPa)</td>\n",
       "      <td>5.000000</td>\n",
       "      <td>0.001000</td>\n",
       "      <td>0.001000</td>\n",
       "      <td>0.001000</td>\n",
       "      <td>5.000000</td>\n",
       "      <td>5.000000</td>\n",
       "      <td>8.000000</td>\n",
       "    </tr>\n",
       "    <tr>\n",
       "      <th>3</th>\n",
       "      <td>Entropía (KJ/Kg·K)</td>\n",
       "      <td>7.286909</td>\n",
       "      <td>7.286909</td>\n",
       "      <td>8.170056</td>\n",
       "      <td>0.105910</td>\n",
       "      <td>0.105910</td>\n",
       "      <td>0.109055</td>\n",
       "      <td>3.207651</td>\n",
       "    </tr>\n",
       "    <tr>\n",
       "      <th>4</th>\n",
       "      <td>Volumen (m^3/kg)</td>\n",
       "      <td>0.079695</td>\n",
       "      <td>104.596329</td>\n",
       "      <td>117.459857</td>\n",
       "      <td>0.001000</td>\n",
       "      <td>0.000998</td>\n",
       "      <td>0.000998</td>\n",
       "      <td>0.001385</td>\n",
       "    </tr>\n",
       "    <tr>\n",
       "      <th>5</th>\n",
       "      <td>Calidad</td>\n",
       "      <td>1.000000</td>\n",
       "      <td>0.809672</td>\n",
       "      <td>0.909249</td>\n",
       "      <td>0.000000</td>\n",
       "      <td>0.000000</td>\n",
       "      <td>0.000000</td>\n",
       "      <td>0.000000</td>\n",
       "    </tr>\n",
       "  </tbody>\n",
       "</table>\n",
       "</div>"
      ],
      "text/plain": [
       "            Variables     Estado 1  Estado 2 ideal  Estado 2 real   Estado 3  \\\n",
       "0    Entalpía (KJ/kg)  3690.077334     2040.834891    2288.221258  29.298247   \n",
       "1    Temperatura (ºC)   610.000000        6.969632       6.969632   6.969632   \n",
       "2       Presión (MPa)     5.000000        0.001000       0.001000   0.001000   \n",
       "3  Entropía (KJ/Kg·K)     7.286909        7.286909       8.170056   0.105910   \n",
       "4    Volumen (m^3/kg)     0.079695      104.596329     117.459857   0.001000   \n",
       "5             Calidad     1.000000        0.809672       0.909249   0.000000   \n",
       "\n",
       "   Estado 4 ideal  Estado 4 real     Estado 5  \n",
       "0       34.291923      35.173161  1317.079789  \n",
       "1        6.987209       7.197982   295.009121  \n",
       "2        5.000000       5.000000     8.000000  \n",
       "3        0.105910       0.109055     3.207651  \n",
       "4        0.000998       0.000998     0.001385  \n",
       "5        0.000000       0.000000     0.000000  "
      ]
     },
     "execution_count": 132,
     "metadata": {},
     "output_type": "execute_result"
    }
   ],
   "source": [
    "# TABLA:\n",
    "es1 = 'Entalpía (KJ/kg)'\n",
    "es2 = 'Temperatura (ºC)'\n",
    "es3 = 'Presión (MPa)'\n",
    "es4 = 'Entropía (KJ/Kg·K)'\n",
    "es5 = 'Volumen (m^3/kg)'\n",
    "es6 = 'Calidad'\n",
    "\n",
    "e0 = (es1, es2, es3, es4, es5, es6)\n",
    "e1 = (h1sm,T1sm,P1sm,S1sm,V1sm,X1sm)\n",
    "e2i = (h2ism,T2ism,P2sm,S2ism,V2ism,X2ism)\n",
    "e2r = (h2rsm,T2rsm,P2rsm,S2rsm,V2rsm,X2rsm)\n",
    "e3 = (h3sm,T3sm,P3sm,S3sm,V3sm,X3sm)\n",
    "e4i = (h4ism,T4ism,P4sm,S4sm,V4ism,X4ism)\n",
    "e4r = (h4rsm,T4rsm,P4sm,S4rsm,V4rsm,X4rsm)\n",
    "e5 = (h5sm,T5sm,P5sm,S5sm,V5sm,X5sm)\n",
    "\n",
    "print('Ciclo Sobrecalentado modificando ciertos parámetros')\n",
    "estados = pd.DataFrame()\n",
    "pd.DataFrame({'Variables':e0,'Estado 1':e1, 'Estado 2 ideal':e2i,'Estado 2 real':e2r,'Estado 3':e3,'Estado 4 ideal':e4i,'Estado 4 real':e4r, 'Estado 5':e5})"
   ]
  },
  {
   "cell_type": "code",
   "execution_count": 133,
   "metadata": {
    "pycharm": {
     "name": "#%%\n"
    }
   },
   "outputs": [
    {
     "name": "stdout",
     "output_type": "stream",
     "text": [
      "Ciclo Sobrecalentado sin modificar\n"
     ]
    },
    {
     "data": {
      "text/html": [
       "<div>\n",
       "<style scoped>\n",
       "    .dataframe tbody tr th:only-of-type {\n",
       "        vertical-align: middle;\n",
       "    }\n",
       "\n",
       "    .dataframe tbody tr th {\n",
       "        vertical-align: top;\n",
       "    }\n",
       "\n",
       "    .dataframe thead th {\n",
       "        text-align: right;\n",
       "    }\n",
       "</style>\n",
       "<table border=\"1\" class=\"dataframe\">\n",
       "  <thead>\n",
       "    <tr style=\"text-align: right;\">\n",
       "      <th></th>\n",
       "      <th>Variables</th>\n",
       "      <th>Estado 1</th>\n",
       "      <th>Estado 2 ideal</th>\n",
       "      <th>Estado 2 real</th>\n",
       "      <th>Estado 3</th>\n",
       "      <th>Estado 4 ideal</th>\n",
       "      <th>Estado 4 real</th>\n",
       "      <th>Estado 5</th>\n",
       "    </tr>\n",
       "  </thead>\n",
       "  <tbody>\n",
       "    <tr>\n",
       "      <th>0</th>\n",
       "      <td>Entalpía (KJ/kg)</td>\n",
       "      <td>3273.234029</td>\n",
       "      <td>2050.841024</td>\n",
       "      <td>2234.199974</td>\n",
       "      <td>173.851769</td>\n",
       "      <td>181.897786</td>\n",
       "      <td>183.317672</td>\n",
       "      <td>1317.079789</td>\n",
       "    </tr>\n",
       "    <tr>\n",
       "      <th>1</th>\n",
       "      <td>Temperatura (ºC)</td>\n",
       "      <td>450.000000</td>\n",
       "      <td>41.510053</td>\n",
       "      <td>41.510053</td>\n",
       "      <td>41.510053</td>\n",
       "      <td>41.751969</td>\n",
       "      <td>42.093301</td>\n",
       "      <td>295.009121</td>\n",
       "    </tr>\n",
       "    <tr>\n",
       "      <th>2</th>\n",
       "      <td>Presión (MPa)</td>\n",
       "      <td>8.000000</td>\n",
       "      <td>0.008000</td>\n",
       "      <td>0.008000</td>\n",
       "      <td>0.008000</td>\n",
       "      <td>8.000000</td>\n",
       "      <td>8.000000</td>\n",
       "      <td>8.000000</td>\n",
       "    </tr>\n",
       "    <tr>\n",
       "      <th>3</th>\n",
       "      <td>Entropía (KJ/Kg·K)</td>\n",
       "      <td>6.557677</td>\n",
       "      <td>6.557677</td>\n",
       "      <td>7.140399</td>\n",
       "      <td>0.592532</td>\n",
       "      <td>0.592532</td>\n",
       "      <td>0.597038</td>\n",
       "      <td>3.207651</td>\n",
       "    </tr>\n",
       "    <tr>\n",
       "      <th>4</th>\n",
       "      <td>Volumen (m^3/kg)</td>\n",
       "      <td>0.038197</td>\n",
       "      <td>14.141347</td>\n",
       "      <td>15.522686</td>\n",
       "      <td>0.001008</td>\n",
       "      <td>0.001005</td>\n",
       "      <td>0.001005</td>\n",
       "      <td>0.001385</td>\n",
       "    </tr>\n",
       "    <tr>\n",
       "      <th>5</th>\n",
       "      <td>Calidad</td>\n",
       "      <td>1.000000</td>\n",
       "      <td>0.781302</td>\n",
       "      <td>0.857625</td>\n",
       "      <td>0.000000</td>\n",
       "      <td>0.000000</td>\n",
       "      <td>0.000000</td>\n",
       "      <td>0.000000</td>\n",
       "    </tr>\n",
       "  </tbody>\n",
       "</table>\n",
       "</div>"
      ],
      "text/plain": [
       "            Variables     Estado 1  Estado 2 ideal  Estado 2 real    Estado 3  \\\n",
       "0    Entalpía (KJ/kg)  3273.234029     2050.841024    2234.199974  173.851769   \n",
       "1    Temperatura (ºC)   450.000000       41.510053      41.510053   41.510053   \n",
       "2       Presión (MPa)     8.000000        0.008000       0.008000    0.008000   \n",
       "3  Entropía (KJ/Kg·K)     6.557677        6.557677       7.140399    0.592532   \n",
       "4    Volumen (m^3/kg)     0.038197       14.141347      15.522686    0.001008   \n",
       "5             Calidad     1.000000        0.781302       0.857625    0.000000   \n",
       "\n",
       "   Estado 4 ideal  Estado 4 real     Estado 5  \n",
       "0      181.897786     183.317672  1317.079789  \n",
       "1       41.751969      42.093301   295.009121  \n",
       "2        8.000000       8.000000     8.000000  \n",
       "3        0.592532       0.597038     3.207651  \n",
       "4        0.001005       0.001005     0.001385  \n",
       "5        0.000000       0.000000     0.000000  "
      ]
     },
     "execution_count": 133,
     "metadata": {},
     "output_type": "execute_result"
    }
   ],
   "source": [
    "print('Ciclo Sobrecalentado sin modificar')\n",
    "\n",
    "e0 = (es1, es2, es3, es4, es5, es6)\n",
    "e1s = (h1s,T1s,P1s,S1s,V1s,X1s)\n",
    "e2is = (h2is,T2is,P2s,S2is,V2is,X2is)\n",
    "e2rs = (h2rs,T2rs,P2rs,S2rs,V2rs,X2rs)\n",
    "e3s = (h3s,T3s,P3s,S3s,V3s,X3s)\n",
    "e4is = (h4is,T4is,P4s,S4s,V4is,X4is)\n",
    "e4rs = (h4rs,T4rs,P4s,S4rs,V4rs,X4rs)\n",
    "e5s = (h5s,T5s,P5s,S5s,V5s,X5s)\n",
    "\n",
    "estadosM = pd.DataFrame()\n",
    "pd.DataFrame({'Variables':e0,'Estado 1':e1s, 'Estado 2 ideal':e2is,'Estado 2 real':e2rs,'Estado 3':e3s,'Estado 4 ideal':e4is,'Estado 4 real':e4rs, 'Estado 5':e5s})"
   ]
  },
  {
   "cell_type": "markdown",
   "metadata": {
    "pycharm": {
     "name": "#%% md\n"
    }
   },
   "source": [
    "#### b) Variables"
   ]
  },
  {
   "cell_type": "code",
   "execution_count": 134,
   "metadata": {
    "pycharm": {
     "name": "#%%\n"
    }
   },
   "outputs": [
    {
     "name": "stdout",
     "output_type": "stream",
     "text": [
      "Ciclo Sobrecalentado modificado\n"
     ]
    },
    {
     "data": {
      "text/html": [
       "<div>\n",
       "<style scoped>\n",
       "    .dataframe tbody tr th:only-of-type {\n",
       "        vertical-align: middle;\n",
       "    }\n",
       "\n",
       "    .dataframe tbody tr th {\n",
       "        vertical-align: top;\n",
       "    }\n",
       "\n",
       "    .dataframe thead th {\n",
       "        text-align: right;\n",
       "    }\n",
       "</style>\n",
       "<table border=\"1\" class=\"dataframe\">\n",
       "  <thead>\n",
       "    <tr style=\"text-align: right;\">\n",
       "      <th></th>\n",
       "      <th>Variables</th>\n",
       "      <th>Sobrecalentado modificado</th>\n",
       "    </tr>\n",
       "  </thead>\n",
       "  <tbody>\n",
       "    <tr>\n",
       "      <th>0</th>\n",
       "      <td>m (kg/s)</td>\n",
       "      <td>71.634204</td>\n",
       "    </tr>\n",
       "    <tr>\n",
       "      <th>1</th>\n",
       "      <td>Qout (MW)</td>\n",
       "      <td>161.816153</td>\n",
       "    </tr>\n",
       "    <tr>\n",
       "      <th>2</th>\n",
       "      <td>Qin (MW)</td>\n",
       "      <td>261.816153</td>\n",
       "    </tr>\n",
       "    <tr>\n",
       "      <th>3</th>\n",
       "      <td>Wt (MW)</td>\n",
       "      <td>100.420845</td>\n",
       "    </tr>\n",
       "    <tr>\n",
       "      <th>4</th>\n",
       "      <td>Wp (MW)</td>\n",
       "      <td>0.420845</td>\n",
       "    </tr>\n",
       "    <tr>\n",
       "      <th>5</th>\n",
       "      <td>Rend (%)</td>\n",
       "      <td>38.194740</td>\n",
       "    </tr>\n",
       "  </tbody>\n",
       "</table>\n",
       "</div>"
      ],
      "text/plain": [
       "   Variables  Sobrecalentado modificado\n",
       "0   m (kg/s)                  71.634204\n",
       "1  Qout (MW)                 161.816153\n",
       "2   Qin (MW)                 261.816153\n",
       "3    Wt (MW)                 100.420845\n",
       "4    Wp (MW)                   0.420845\n",
       "5   Rend (%)                  38.194740"
      ]
     },
     "execution_count": 134,
     "metadata": {},
     "output_type": "execute_result"
    }
   ],
   "source": [
    "mrsm = Wcyclesm/((h1sm-h2rsm)-(h4rsm-h3sm)) \n",
    "Qoutrsm = (mrsm * (h2rsm-h3sm))/1000\n",
    "Qinrsm = (mrsm * (h1sm-h4rsm))/1000\n",
    "Wtrsm = (mrsm * (h1sm-h2rsm))/1000\n",
    "Wprsm = (mrsm * (h4rsm - h3sm))/1000\n",
    "Rendimientorm = (Wtrsm-Wprsm)/Qinrsm *100\n",
    "\n",
    "print('Ciclo Sobrecalentado modificado')\n",
    "va1 = 'm (kg/s)'\n",
    "va2 = 'Qout (MW)'\n",
    "va3 = 'Qin (MW)'\n",
    "va4 = 'Wt (MW)'\n",
    "va5 = 'Wp (MW)'\n",
    "va6 = 'Rend (%)'\n",
    "\n",
    "var0 = (va1, va2, va3, va4, va5, va6)\n",
    "var1 = (mrsm,Qoutrsm,Qinrsm,Wtrsm,Wprsm, Rendimientorm)\n",
    "\n",
    "variables = pd.DataFrame()\n",
    "pd.DataFrame({'Variables':var0,'Sobrecalentado modificado':var1})"
   ]
  },
  {
   "cell_type": "code",
   "execution_count": 136,
   "metadata": {
    "pycharm": {
     "name": "#%%\n"
    }
   },
   "outputs": [
    {
     "name": "stdout",
     "output_type": "stream",
     "text": [
      "Ciclo Sobrecalentado sin modificar\n"
     ]
    },
    {
     "data": {
      "text/html": [
       "<div>\n",
       "<style scoped>\n",
       "    .dataframe tbody tr th:only-of-type {\n",
       "        vertical-align: middle;\n",
       "    }\n",
       "\n",
       "    .dataframe tbody tr th {\n",
       "        vertical-align: top;\n",
       "    }\n",
       "\n",
       "    .dataframe thead th {\n",
       "        text-align: right;\n",
       "    }\n",
       "</style>\n",
       "<table border=\"1\" class=\"dataframe\">\n",
       "  <thead>\n",
       "    <tr style=\"text-align: right;\">\n",
       "      <th></th>\n",
       "      <th>Variables</th>\n",
       "      <th>Sobrecalentado sin modificar</th>\n",
       "    </tr>\n",
       "  </thead>\n",
       "  <tbody>\n",
       "    <tr>\n",
       "      <th>0</th>\n",
       "      <td>m (kg/s)</td>\n",
       "      <td>97.128102</td>\n",
       "    </tr>\n",
       "    <tr>\n",
       "      <th>1</th>\n",
       "      <td>Qout (MW)</td>\n",
       "      <td>200.117710</td>\n",
       "    </tr>\n",
       "    <tr>\n",
       "      <th>2</th>\n",
       "      <td>Qin (MW)</td>\n",
       "      <td>300.117710</td>\n",
       "    </tr>\n",
       "    <tr>\n",
       "      <th>3</th>\n",
       "      <td>Wt (MW)</td>\n",
       "      <td>100.919405</td>\n",
       "    </tr>\n",
       "    <tr>\n",
       "      <th>4</th>\n",
       "      <td>Wp (MW)</td>\n",
       "      <td>0.919405</td>\n",
       "    </tr>\n",
       "    <tr>\n",
       "      <th>5</th>\n",
       "      <td>Rend (%)</td>\n",
       "      <td>31.434788</td>\n",
       "    </tr>\n",
       "  </tbody>\n",
       "</table>\n",
       "</div>"
      ],
      "text/plain": [
       "   Variables  Sobrecalentado sin modificar\n",
       "0   m (kg/s)                     97.128102\n",
       "1  Qout (MW)                    200.117710\n",
       "2   Qin (MW)                    300.117710\n",
       "3    Wt (MW)                    100.919405\n",
       "4    Wp (MW)                      0.919405\n",
       "5   Rend (%)                     31.434788"
      ]
     },
     "execution_count": 136,
     "metadata": {},
     "output_type": "execute_result"
    }
   ],
   "source": [
    "print('Ciclo Sobrecalentado sin modificar')\n",
    "va1 = 'm (kg/s)'\n",
    "va2 = 'Qout (MW)'\n",
    "va3 = 'Qin (MW)'\n",
    "va4 = 'Wt (MW)'\n",
    "va5 = 'Wp (MW)'\n",
    "va6 = 'Rend (%)'\n",
    "\n",
    "var0 = (va1, va2, va3, va4, va5, va6)\n",
    "var1m = (mrs,Qoutrs,Qinrs,Wtrs,Wprs, Rendimientor)\n",
    "\n",
    "variables = pd.DataFrame()\n",
    "pd.DataFrame({'Variables':var0,'Sobrecalentado sin modificar':var1m})"
   ]
  },
  {
   "cell_type": "markdown",
   "metadata": {
    "pycharm": {
     "name": "#%% md\n"
    }
   },
   "source": [
    "#### c) Respresentación gráfica"
   ]
  },
  {
   "cell_type": "code",
   "execution_count": 90,
   "metadata": {
    "scrolled": true,
    "pycharm": {
     "name": "#%%\n"
    }
   },
   "outputs": [
    {
     "data": {
      "text/plain": [
       "[<matplotlib.lines.Line2D at 0x2658b030340>]"
      ]
     },
     "execution_count": 90,
     "metadata": {},
     "output_type": "execute_result"
    },
    {
     "data": {
      "image/png": "[encoded data removed]",
      "text/plain": [
       "<Figure size 720x360 with 1 Axes>"
      ]
     },
     "metadata": {
      "needs_background": "light"
     },
     "output_type": "display_data"
    }
   ],
   "source": [
    "%matplotlib inline\n",
    "\n",
    "import matplotlib.pyplot as plt\n",
    "import numpy as np\n",
    "\n",
    "plt.figure(figsize=(10.0,5.0))\n",
    " \n",
    "S_ideal_calentadom=[S1,S1sm,S2ism,S3sm,S4sm,S5i,S1]\n",
    "T_ideal_calentadom=[T1,T1sm,T2ism,T3sm,T4ism,T5i,T1]\n",
    "    \n",
    "S_calentadom=[S1,S1sm,S2rsm,S3sm,S4rsm,S5sm,S1]\n",
    "T_calentadom=[T1,T1sm,T2rsm,T3sm,T4rsm,T5sm,T1]\n",
    "\n",
    "plt.plot(S_calentadom, T_calentadom, 'yo--')\n",
    "plt.plot(S_ideal_calentadom, T_ideal_calentadom, 'go-')\n",
    "plt.legend(('Sobrecalentado','Ideal'))\n",
    "plt.xlabel('Entropy (kJ/(kg K)')\n",
    "plt.ylabel('Temperature (°C)')\n",
    "plt.title('Diagrama T-S. CICLO RANKINE SOBRECALENTAMIENTO con datos modificados')\n",
    "plt.grid()\n",
    "\n",
    "# Representación de la línea\n",
    "npt = np.linspace(10,647.096-273.15,200) # range of temperatures\n",
    "svap = [s for s in [tx2s(t, 1) for t in npt]]\n",
    "sliq = [s for s in [tx2s(t, 0) for t in npt]]\n",
    "plt.plot(svap, npt, 'b-')\n",
    "plt.plot(sliq, npt, 'b-')"
   ]
  },
  {
   "cell_type": "markdown",
   "metadata": {
    "pycharm": {
     "name": "#%% md\n"
    }
   },
   "source": [
    "Con la modificación realizada, se ha podido analizar brevemente la influencia de los parámetros termodinámicos fundamentales del ciclo Rankine en Sobrecalentado con el rendimiento termodinámico.\n",
    "\n",
    "Al ejecutar el ciclo termodinámico modificado se puede observar que se ha mejorado el rendimiento térmico en un 6,76%. Este aumento ha sido causado por:\n",
    "\n",
    "- En la primera etapa, donde se encuentra la turbina, se ha decidido incrementar la Tª a 610ºC y disminuir la presión de entrada a la turbina a 5MPa.\n",
    "- En la segunda etapa, se ha elegido que el vapor entraba al condensador con una P de 0,001MPa.\n",
    "\n",
    "El resto de parámetros (trabajo neto del ciclo, rendimiento de turbina y el rendimiento de la bomba) se han mantenido igual, sin modificar.\n",
    "\n",
    "Además, los valores de calor de la caldera (Qin) y del condensador (Qout); los trabajos de la turbina (Wt) y de la bomba (Wp; junto con el flujo másico (m) han disminuido ligeramente."
   ]
  }
 ],
 "metadata": {
  "kernelspec": {
   "display_name": "Python 3",
   "language": "python",
   "name": "python3"
  },
  "language_info": {
   "codemirror_mode": {
    "name": "ipython",
    "version": 3
   },
   "file_extension": ".py",
   "mimetype": "text/x-python",
   "name": "python",
   "nbconvert_exporter": "python",
   "pygments_lexer": "ipython3",
   "version": "3.8.3"
  }
 },
 "nbformat": 4,
 "nbformat_minor": 4
}