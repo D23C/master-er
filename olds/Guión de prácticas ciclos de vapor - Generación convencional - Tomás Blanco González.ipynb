{
 "cells": [
  {
   "cell_type": "markdown",
   "metadata": {
    "pycharm": {
     "name": "#%% md\n"
    }
   },
   "source": [
    "# Ejercicio 1: Ciclo de Rankine Ideal\n",
    "Un ciclo de Rankine ideal trabaja con vapor de agua. El vapor entra a la turbina saturado y a una\n",
    "presión de 8 MPa. El vapor entra al condensador a una presión de 0.008 MPa, y sale hacia la bomba\n",
    "como líquido saturado. El trabajo neto del ciclo es de 100 MW. \n",
    "\n",
    "Se pide:\n",
    "\n",
    "a) Cálculo de todos los estados del ciclo\n",
    "\n",
    "b) El rendimiento térmico en % (ηth)\n",
    "\n",
    "c) El ratio de trabajo de retorno en % (back work ratio, bwr)\n",
    "\n",
    "d) El flujo másico de vapor en kg/s (ṁ)\n",
    "\n",
    "e) Los calores intercambiados en MW (Qin y Qout)\n",
    "\n",
    "f) Los trabajos de la turbina y la bomba en MW (Wp y Wt)\n",
    "\n",
    "g) Dibujo del ciclo de vapor"
   ]
  },
  {
   "cell_type": "code",
   "execution_count": 34,
   "metadata": {
    "pycharm": {
     "name": "#%%\n"
    }
   },
   "outputs": [],
   "source": [
    "import seuif97 as seu"
   ]
  },
  {
   "cell_type": "code",
   "execution_count": 35,
   "metadata": {
    "pycharm": {
     "name": "#%%\n"
    }
   },
   "outputs": [
    {
     "name": "stdout",
     "output_type": "stream",
     "text": [
      " p1= 8 Mpa \n",
      " v1= 0.02352753165643739 m3/kg \n",
      " x1= 1 p.u \n",
      " t1= 295.00912125631703 ºC \n",
      " h1= 2758.611080680434 KJ/Kg \n",
      " s1= 5.744848808940075 KJ/Kg*K\n",
      "-----------------------------------\n",
      " p2_id= 0.008 Mpa \n",
      " v2_id= 12.214543575697041 m3/kg \n",
      " x2_id= 0.6748393810242206 p.u \n",
      " t2_id= 41.51005270424139 ºC \n",
      " h2_id= 1795.0770367371815 KJ/Kg \n",
      " s2_id= 5.744848808940075 KJ/Kg*K\n",
      "-----------------------------------\n",
      " p3= 0.008 Mpa \n",
      " v3= 0.0010084729266462307 m3/kg \n",
      " x3= 0 p.u \n",
      " t3= 41.51005270424139 ºC \n",
      " h3= 173.8517685972624 KJ/Kg \n",
      " s3= 0.592531583591964 KJ/Kg*K\n",
      "-----------------------------------\n",
      " p4_id= 8 Mpa \n",
      " v4_id= 0.001005058770876371 m3/kg \n",
      " x4_id= 0.0 p.u \n",
      " t4_id= 41.75196883675659 ºC \n",
      " h4_id= 181.89778626716353 KJ/Kg \n",
      " s4_id= 0.592531583591964 KJ/Kg*K\n"
     ]
    }
   ],
   "source": [
    "# a) Cálculo de todos los estados del ciclo \n",
    "# Se utilizará el sufijo '_id' para los procesos afectados por el carácter isoentrópico\n",
    "\n",
    "\n",
    "# Estado 1 \n",
    "# Queda definido por dos puntos dados: la presión de trabajo de la caldera y el título de vapor de entrada a la turbina\n",
    "# Con esto, solo queda hallar el resto de variables a partir de la librería\n",
    "\n",
    "p1=8\n",
    "x1=1\n",
    "\n",
    "h1=seu.px2h(p1,x1)\n",
    "s1=seu.px2s(p1,x1)\n",
    "v1=seu.px2v(p1,x1)\n",
    "t1=seu.px2t(p1,x1)\n",
    "\n",
    "print(\" p1= {} Mpa \\n v1= {} m3/kg \\n x1= {} p.u \\n t1= {} ºC \\n h1= {} KJ/Kg \\n s1= {} KJ/Kg*K\".format(p1,v1,x1,t1,h1,s1))\n",
    "\n",
    "print(\"-----------------------------------\")\n",
    "\n",
    "\n",
    "# Estado 2 ideal\n",
    "# Se supone idealidad para una expansión isoentrópica en la turbina: s=cte, s2=s1 \n",
    "# Este dato, junto con una presión de salida dada, permite definir el estado y hallar las variables restantes \n",
    "\n",
    "s2_id=s1\n",
    "p2_id=0.008\n",
    "\n",
    "h2_id=seu.ps2h(p2_id,s2_id)\n",
    "v2_id=seu.ps2v(p2_id,s2_id)\n",
    "t2_id=seu.ps2t(p2_id,s2_id)\n",
    "x2_id=seu.ps2x(p2_id,s2_id)\n",
    "\n",
    "print(\" p2_id= {} Mpa \\n v2_id= {} m3/kg \\n x2_id= {} p.u \\n t2_id= {} ºC \\n h2_id= {} KJ/Kg \\n s2_id= {} KJ/Kg*K\".format(p2_id,v2_id,x2_id,t2_id,h2_id,s2_id))\n",
    "\n",
    "print(\"-----------------------------------\")\n",
    "\n",
    "\n",
    "# Estado 3 \n",
    "# Queda definido por el carácter isobaro del condensador; p=cte a la entrada y salida \n",
    "# y la necesidad de obtener un líquido ideal caloríficamente perfecto para hacer posible el trabajo de la bomba.\n",
    "# Para ello, el título de vapor debe ser un 0%\n",
    "\n",
    "p3=p2_id\n",
    "x3=0\n",
    "\n",
    "h3=seu.px2h(p3,x3)\n",
    "v3=seu.px2v(p3,x3)\n",
    "t3=seu.px2t(p3,x3)\n",
    "s3=seu.px2s(p3,x3)\n",
    "\n",
    "print(\" p3= {} Mpa \\n v3= {} m3/kg \\n x3= {} p.u \\n t3= {} ºC \\n h3= {} KJ/Kg \\n s3= {} KJ/Kg*K\".format(p3,v3,x3,t3,h3,s3))\n",
    "\n",
    "print(\"-----------------------------------\")\n",
    "\n",
    "\n",
    "# Estado 4 ideal\n",
    "# Se halla de manera idéntica que el estado 2 para obtener la entropía y, posteriormente, \n",
    "# cambiando la presión a la de trabajo de la caldera\n",
    "\n",
    "p4_id=p1\n",
    "s4_id=s3\n",
    "\n",
    "h4_id=seu.ps2h(p4_id,s4_id)\n",
    "v4_id=seu.ps2v(p4_id,s4_id)\n",
    "t4_id=seu.ps2t(p4_id,s4_id)\n",
    "x4_id=seu.ps2x(p4_id,s4_id)\n",
    "\n",
    "print(\" p4_id= {} Mpa \\n v4_id= {} m3/kg \\n x4_id= {} p.u \\n t4_id= {} ºC \\n h4_id= {} KJ/Kg \\n s4_id= {} KJ/Kg*K\".format(p4_id,v4_id,x4_id,t4_id,h4_id,s4_id))"
   ]
  },
  {
   "cell_type": "code",
   "execution_count": 36,
   "metadata": {
    "pycharm": {
     "name": "#%%\n"
    }
   },
   "outputs": [
    {
     "name": "stdout",
     "output_type": "stream",
     "text": [
      " ηth_id= 37.08165857431649 %\n"
     ]
    }
   ],
   "source": [
    "# b) El rendimiento térmico en % (ηth)\n",
    "# Para el cálculo se tiene en cuenta el trabajo neto, que en el caso presente  está formado por \n",
    "# 'W_turbine-W_pump' dividido entre 'Q_in' (=Qcald). Se utilizan valores específicos al no conocer el flujo másico.\n",
    "\n",
    "ηth_id=100*(h1-h2_id+h3-h4_id)/(h1-h4_id)\n",
    "\n",
    "print(\" ηth_id= {} %\".format(ηth_id))"
   ]
  },
  {
   "cell_type": "code",
   "execution_count": 37,
   "metadata": {
    "pycharm": {
     "name": "#%%\n"
    }
   },
   "outputs": [
    {
     "name": "stdout",
     "output_type": "stream",
     "text": [
      " bwr_id= 0.8350527644018554 %\n"
     ]
    }
   ],
   "source": [
    "# c) El ratio de trabajo de retorno en % (back work ratio, bwr)\n",
    "# Se halla dividiendo 'W_pump' entre 'W_turbine'. Aporta una idea de qué porcentaje de trabajo de la turbina se dedica\n",
    "# para hacer funcionar la bomba y, por lo tanto, deja de ser aprovechado para el giro del alternador\n",
    "\n",
    "bwr_id=100*(h4_id-h3)/(h1-h2_id)\n",
    "\n",
    "print(\" bwr_id= {} %\".format(bwr_id))"
   ]
  },
  {
   "cell_type": "code",
   "execution_count": 38,
   "metadata": {
    "pycharm": {
     "name": "#%%\n"
    }
   },
   "outputs": [
    {
     "name": "stdout",
     "output_type": "stream",
     "text": [
      " ṁ_id=104.65855902980351 kg/s\n"
     ]
    }
   ],
   "source": [
    "# d) El flujo másico de vapor en kg/s (ṁ)\n",
    "# Utilizando la potencia dada del ciclo, que es 'Ẇ_turbine-Ẇ_pump', (para términos de potencia, no específicos),  \n",
    "# se puede despejar de la ecuación de la potencia mecánica total.\n",
    "\n",
    "Ẇ_cycle=100000\n",
    "\n",
    "ṁ_id=Ẇ_cycle/(h1-h2_id+h3-h4_id)\n",
    "\n",
    "print(\" ṁ_id={} kg/s\".format(ṁ_id))"
   ]
  },
  {
   "cell_type": "code",
   "execution_count": 39,
   "metadata": {
    "pycharm": {
     "name": "#%%\n"
    }
   },
   "outputs": [
    {
     "name": "stdout",
     "output_type": "stream",
     "text": [
      " Q̇in_id= 269.67510042623076 MW \n",
      " Q̇out_id= 169.67510042623076 MW\n"
     ]
    }
   ],
   "source": [
    "# e) Los calores intercambiados en MW (Q̇in y Q̇out)\n",
    "# Para los cálculos de potencias caloríficas y potencias mecánicas, basta con multiplicar el flujo másico por las \n",
    "# entalpías de entrada y salida de los dispositivos a hallar \n",
    "\n",
    "Q̇in_id=ṁ_id*(h1-h4_id)/1000\n",
    "Q̇out_id=ṁ_id*(h2_id-h3)/1000\n",
    "\n",
    "print(\" Q̇in_id= {} MW \\n Q̇out_id= {} MW\".format(Q̇in_id,Q̇out_id))"
   ]
  },
  {
   "cell_type": "code",
   "execution_count": 40,
   "metadata": {
    "pycharm": {
     "name": "#%%\n"
    }
   },
   "outputs": [
    {
     "name": "stdout",
     "output_type": "stream",
     "text": [
      " Ẇt_id= 100.84208461526019 MW \n",
      " Ẇp_id= 0.8420846152601883 MW\n"
     ]
    }
   ],
   "source": [
    "# f) Los trabajos de la turbina y la bomba en MW (Ẇt y Ẇp)\n",
    "\n",
    "Ẇt_id=ṁ_id*(h1-h2_id)/1000\n",
    "Ẇp_id=ṁ_id*(h4_id-h3)/1000\n",
    "\n",
    "print(\" Ẇt_id= {} MW \\n Ẇp_id= {} MW\".format(Ẇt_id,Ẇp_id))"
   ]
  },
  {
   "cell_type": "code",
   "execution_count": 41,
   "metadata": {
    "scrolled": false,
    "pycharm": {
     "name": "#%%\n"
    }
   },
   "outputs": [
    {
     "data": {
      "text/plain": [
       "[<matplotlib.lines.Line2D at 0x1f7b4908a30>]"
      ]
     },
     "execution_count": 41,
     "metadata": {},
     "output_type": "execute_result"
    },
    {
     "data": {
      "image/png": "[encoded data removed]",
      "text/plain": [
       "<Figure size 792x468 with 1 Axes>"
      ]
     },
     "metadata": {
      "needs_background": "light"
     },
     "output_type": "display_data"
    }
   ],
   "source": [
    "# g) Dibujo del ciclo de vapor\n",
    "\n",
    "%matplotlib inline\n",
    "import matplotlib.pyplot as plt\n",
    "import numpy as np\n",
    "\n",
    "# Código para el tamaño del gráfico\n",
    "plt.figure(figsize=(11.0,6.5))\n",
    "\n",
    "# Código para el nombre de los ejes y el título\n",
    "plt.title(\"Ciclo ideal\")\n",
    "plt.xlabel('S [kJ/kg*K]')\n",
    "plt.ylabel('T [°C]')\n",
    "\n",
    "# Código para los puntos de saturación y su color (campana)\n",
    "npt = np.linspace(5,647.096-273.15,5000)\n",
    "svap=[s for s in [seu.tx2s(t, 1) for t in npt]]\n",
    "sliq=[s for s in [seu.tx2s(t, 0) for t in npt]]\n",
    "plt.plot(svap, npt, 'k')\n",
    "plt.plot(sliq, npt, 'k')\n",
    "\n",
    "# Le indicamos los puntos a señalar y unir\n",
    "t=[t1,t2_id,t3,t4_id]\n",
    "s=[s1,s2_id,s3,s4_id]\n",
    "\n",
    "t.append(seu.px2t(p1,0))\n",
    "s.append(seu.px2s(p1,0))\n",
    "\n",
    "t.append(t1)\n",
    "s.append(s1)\n",
    "\n",
    "plt.plot(s, t, 'go-')\n",
    "\n",
    "# Nota: en todas las representaciones gráficas se omiten los puntos de salida de las bombas (en este caso sería el 4) \n",
    "# debido a que al graficarlos son prácticamente coincidentes con el de entrada (no se aprecia diferencia) y entorpecen\n",
    "# la visualización. En ningún momento se han olvidado.\n",
    "# Además, se remarcan todos los puntos de corte con la campana por facilidad personal para unirlos y representación\n",
    "# del ciclo."
   ]
  },
  {
   "cell_type": "markdown",
   "metadata": {
    "pycharm": {
     "name": "#%% md\n"
    }
   },
   "source": [
    "# Ejercicio 2: Ciclo de Rankine con irreversibilidades\n",
    "Partiendo de las condiciones del ejercicio anterior, realizar los mismos apartados para un ciclo con\n",
    "irreversibilidades donde el rendimiento de la turbina (ηt) es 0.85 y el de la bomba (ηp) es 0.85.\n",
    "\n",
    "Se pide:\n",
    "\n",
    "a) Cálculo de todos los estados del ciclo\n",
    "\n",
    "b) El rendimiento térmico en % (ηth)\n",
    "\n",
    "c) El ratio de trabajo de retorno en % (back work ratio, bwr)\n",
    "\n",
    "d) El flujo másico de vapor en kg/s (ṁ)\n",
    "\n",
    "e) Los calores intercambiados en MW (Qin y Qout)\n",
    "\n",
    "f) Los trabajos de la turbina y la bomba en MW (Wp y Wt)\n",
    "\n",
    "g) Dibujo del ciclo de vapor"
   ]
  },
  {
   "cell_type": "code",
   "execution_count": 42,
   "metadata": {
    "pycharm": {
     "name": "#%%\n"
    }
   },
   "outputs": [
    {
     "name": "stdout",
     "output_type": "stream",
     "text": [
      " p1= 8 Mpa \n",
      " v1= 0.02352753165643739 m3/kg \n",
      " x1= 1 p.u \n",
      " t1= 295.00912125631703 ºC \n",
      " h1= 2758.611080680434 KJ/Kg \n",
      " s1= 5.744848808940075 KJ/Kg*K\n",
      "-----------------------------------\n",
      " p2_r= 0.008 Mpa \n",
      " v2_r= 13.303364213366702 m3/kg \n",
      " x2_r= 0.7350004268630066 p.u \n",
      " t2_r= 41.51005270424139 ºC \n",
      " h2_r= 1939.6071433286693 KJ/Kg \n",
      " s2_r= 6.204171132868007 KJ/Kg*K\n",
      "-----------------------------------\n",
      " p3= 0.008 Mpa \n",
      " v3= 0.0010084729266462307 m3/kg \n",
      " x3= 0 p.u \n",
      " t3= 41.51005270424139 ºC \n",
      " h3= 173.8517685972624 KJ/Kg \n",
      " s3= 0.592531583591964 KJ/Kg*K\n",
      "-----------------------------------\n",
      " p4_r= 8 Mpa \n",
      " v4_r= 0.001005196435764367 m3/kg \n",
      " x4_r= 0.0 p.u \n",
      " t4_r= 42.093300748692855 ºC \n",
      " h4_r= 183.31767173832256 KJ/Kg \n",
      " s4_r= 0.5970381178051598 KJ/Kg*K\n"
     ]
    }
   ],
   "source": [
    "# a) Cálculo de todos los estados del ciclo\n",
    "# Se utilizará el sufijo '_r' para los procesos afectados por el carácter irreversible\n",
    "# Existen variables iguales en cuanto a definición y método de obtención con respecto al ejercicio anterior que no\n",
    "# reciben comentarios porque se suponen sobreentendidas.\n",
    "\n",
    "# Para este ejercicio, al tener mismos valores de entrada que el anterior, el estado 1 y el estado 3 serán idénticos\n",
    "# y solo es necesario importarlos del cálculo ya hecho antes.\n",
    "\n",
    "\n",
    "# Estado 1\n",
    "\n",
    "print(\" p1= {} Mpa \\n v1= {} m3/kg \\n x1= {} p.u \\n t1= {} ºC \\n h1= {} KJ/Kg \\n s1= {} KJ/Kg*K\".format(p1,v1,x1,t1,h1,s1))\n",
    "\n",
    "print(\"-----------------------------------\")\n",
    "\n",
    "\n",
    "# Estado 2 real\n",
    "# Para calcularlo, se utiliza la definición del rendimiento en la turbina. \n",
    "# ηturb=(h1-h2_r)/(h1-h2_id); con todo conocido excepto la entalpía que se busca y que es posible despejar: h2_r\n",
    "\n",
    "ηturb=0.85\n",
    "\n",
    "p2_r=0.008\n",
    "h2_r=h1-(ηturb*(h1-h2_id))\n",
    "\n",
    "s2_r=seu.ph2s(p2_r,h2_r)\n",
    "v2_r=seu.ph2v(p2_r,h2_r)\n",
    "t2_r=seu.ph2t(p2_r,h2_r)\n",
    "x2_r=seu.ph2x(p2_r,h2_r)\n",
    "\n",
    "print(\" p2_r= {} Mpa \\n v2_r= {} m3/kg \\n x2_r= {} p.u \\n t2_r= {} ºC \\n h2_r= {} KJ/Kg \\n s2_r= {} KJ/Kg*K\".format(p2_r,v2_r,x2_r,t2_r,h2_r,s2_r))\n",
    "\n",
    "print(\"-----------------------------------\")\n",
    "\n",
    "\n",
    "# Estado 3\n",
    "\n",
    "print(\" p3= {} Mpa \\n v3= {} m3/kg \\n x3= {} p.u \\n t3= {} ºC \\n h3= {} KJ/Kg \\n s3= {} KJ/Kg*K\".format(p3,v3,x3,t3,h3,s3))\n",
    "\n",
    "print(\"-----------------------------------\")\n",
    "\n",
    "\n",
    "# Estado 4 real\n",
    "# Para calcularlo, se utiliza la definición del rendimiento en la bomba. \n",
    "# ηpump=(h4_id-h3)/(h4_r-h3); con todo conocido excepto la entalpía que se busca y que es posible despejar: h4_r\n",
    "\n",
    "ηpump=0.85\n",
    "\n",
    "p4_r=p1\n",
    "h4_r=h3+((h4_id-h3)/ηpump)\n",
    "\n",
    "s4_r=seu.ph2s(p4_r,h4_r)\n",
    "v4_r=seu.ph2v(p4_r,h4_r)\n",
    "t4_r=seu.ph2t(p4_r,h4_r)\n",
    "x4_r=seu.ph2x(p4_r,h4_r)\n",
    "\n",
    "print(\" p4_r= {} Mpa \\n v4_r= {} m3/kg \\n x4_r= {} p.u \\n t4_r= {} ºC \\n h4_r= {} KJ/Kg \\n s4_r= {} KJ/Kg*K\".format(p4_r,v4_r,x4_r,t4_r,h4_r,s4_r))"
   ]
  },
  {
   "cell_type": "code",
   "execution_count": 43,
   "metadata": {
    "pycharm": {
     "name": "#%%\n"
    }
   },
   "outputs": [
    {
     "name": "stdout",
     "output_type": "stream",
     "text": [
      " ηth_r= 31.43478841672063 %\n"
     ]
    }
   ],
   "source": [
    "# b) El rendimiento térmico en % (ηth)\n",
    "# Debe ser de menor valor que el proceso ideal al contar con pérdidas en los dispositivos\n",
    "\n",
    "ηth_r=100*(h1-h2_r+h3-h4_r)/(h1-h4_r)\n",
    "\n",
    "print(\" ηth_r= {} %\".format(ηth_r))"
   ]
  },
  {
   "cell_type": "code",
   "execution_count": 44,
   "metadata": {
    "pycharm": {
     "name": "#%%\n"
    }
   },
   "outputs": [
    {
     "name": "stdout",
     "output_type": "stream",
     "text": [
      " bwr_r= 1.1557823728745418 %\n"
     ]
    }
   ],
   "source": [
    "# c) El ratio de trabajo de retorno en % (back work ratio, bwr)\n",
    "\n",
    "bwr_r=100*(h4_r-h3)/(h1-h2_r)\n",
    "\n",
    "print(\" bwr_r= {} %\".format(bwr_r))"
   ]
  },
  {
   "cell_type": "code",
   "execution_count": 45,
   "metadata": {
    "pycharm": {
     "name": "#%%\n"
    }
   },
   "outputs": [
    {
     "name": "stdout",
     "output_type": "stream",
     "text": [
      " ṁ_r=123.52724118453493 kg/s\n"
     ]
    }
   ],
   "source": [
    "# d) El flujo másico de vapor en kg/s (ṁ)\n",
    "\n",
    "ṁ_r=Ẇ_cycle/(h1-h2_r+h3-h4_r)\n",
    "\n",
    "print(\" ṁ_r={} kg/s\".format(ṁ_r))"
   ]
  },
  {
   "cell_type": "code",
   "execution_count": 46,
   "metadata": {
    "pycharm": {
     "name": "#%%\n"
    }
   },
   "outputs": [
    {
     "name": "stdout",
     "output_type": "stream",
     "text": [
      " Q̇in_r= 318.11889004733536 MW \n",
      " Q̇out_r= 218.11889004733536 MW\n"
     ]
    }
   ],
   "source": [
    "# e) Los calores intercambiados en MW (Q̇in y Q̇out)\n",
    "\n",
    "Q̇in_r=ṁ_r*(h1-h4_r)/1000\n",
    "Q̇out_r=ṁ_r*(h2_r-h3)/1000\n",
    "\n",
    "print(\" Q̇in_r= {} MW \\n Q̇out_r= {} MW\".format(Q̇in_r,Q̇out_r))"
   ]
  },
  {
   "cell_type": "code",
   "execution_count": 47,
   "metadata": {
    "pycharm": {
     "name": "#%%\n"
    }
   },
   "outputs": [
    {
     "name": "stdout",
     "output_type": "stream",
     "text": [
      " Ẇt_r= 101.16929690033517 MW \n",
      " Ẇp_r= 1.1692969003351843 MW\n"
     ]
    }
   ],
   "source": [
    "# f) Los trabajos de la turbina y la bomba en MW (Ẇp y Ẇt)\n",
    "\n",
    "Ẇt_r=ṁ_r*(h1-h2_r)/1000\n",
    "Ẇp_r=ṁ_r*(h4_r-h3)/1000\n",
    "\n",
    "print(\" Ẇt_r= {} MW \\n Ẇp_r= {} MW\".format(Ẇt_r,Ẇp_r))"
   ]
  },
  {
   "cell_type": "code",
   "execution_count": 48,
   "metadata": {
    "pycharm": {
     "name": "#%%\n"
    }
   },
   "outputs": [
    {
     "data": {
      "text/plain": [
       "[<matplotlib.lines.Line2D at 0x1f7b496fbe0>]"
      ]
     },
     "execution_count": 48,
     "metadata": {},
     "output_type": "execute_result"
    },
    {
     "data": {
      "image/png": "[encoded data removed]",
      "text/plain": [
       "<Figure size 792x468 with 1 Axes>"
      ]
     },
     "metadata": {
      "needs_background": "light"
     },
     "output_type": "display_data"
    }
   ],
   "source": [
    "# g) Dibujo del ciclo de vapor\n",
    "\n",
    "# Código para el tamaño del gráfico\n",
    "plt.figure(figsize=(11.0,6.5))\n",
    "\n",
    "# Código para el nombre de los ejes y el título\n",
    "plt.title(\"Ciclo real\")\n",
    "plt.xlabel('S [kJ/kg*K]')\n",
    "plt.ylabel('T [°C]')\n",
    "\n",
    "# Código para los puntos de saturación y su color (campana)\n",
    "svap=[s for s in [seu.tx2s(t, 1) for t in npt]]\n",
    "sliq=[s for s in [seu.tx2s(t, 0) for t in npt]]\n",
    "plt.plot(svap, npt, 'k')\n",
    "plt.plot(sliq, npt, 'k')\n",
    "\n",
    "# Le indicamos los puntos a señalar y unir\n",
    "t=[t1,t2_r,t3,t4_r]\n",
    "s=[s1,s2_r,s3,s4_r]\n",
    "\n",
    "t.append(seu.px2t(p1,0))\n",
    "s.append(seu.px2s(p1,0))\n",
    "\n",
    "t.append(t1)\n",
    "s.append(s1)\n",
    "\n",
    "plt.plot(s, t, 'go-')\n",
    "\n",
    "# Se añade la representación de la expansión isoentrópica en la turbina para poder comparar la diferencia entre el \n",
    "# proceso real y el ideal\n",
    "tb=[t1,t2_id]\n",
    "sb=[s1,s2_id]\n",
    "plt.plot(sb, tb, 'g--')"
   ]
  },
  {
   "cell_type": "markdown",
   "metadata": {
    "pycharm": {
     "name": "#%% md\n"
    }
   },
   "source": [
    "# Ejercicio 3: Ciclo de Rankine con sobrecalentamiento\n",
    "Un ciclo de Rankine con irreversibilidades trabaja con vapor de agua. El vapor entra a la turbina a\n",
    "una temperatura de 450 ºC y a una presión de 8 MPa. El vapor entra al condensador a una presión\n",
    "de 0.008 MPa, y sale hacia la bomba como líquido saturado. El trabajo neto del ciclo es de 100\n",
    "MW. Los rendimientos de la turbina (ηt) y de la bomba (ηp) son ambos 0.85. \n",
    "\n",
    "Se pide:\n",
    "\n",
    "a) Cálculo de todos los estados del ciclo\n",
    "\n",
    "b) El rendimiento térmico en % (ηth)\n",
    "\n",
    "c) El ratio de trabajo de retorno en % (back work ratio, bwr)\n",
    "\n",
    "d) El flujo másico de vapor en kg/s (ṁ)\n",
    "\n",
    "e) Los calores intercambiados en MW (Qin y Qout)\n",
    "\n",
    "f) Los trabajos de la turbina y la bomba en MW (Wp y Wt)\n",
    "\n",
    "g) Dibujo del ciclo de vapor"
   ]
  },
  {
   "cell_type": "code",
   "execution_count": 49,
   "metadata": {
    "pycharm": {
     "name": "#%%\n"
    }
   },
   "outputs": [
    {
     "name": "stdout",
     "output_type": "stream",
     "text": [
      " p1s= 8 Mpa \n",
      " v1s= 0.03819698603253424 m3/kg \n",
      " x1s= 1.0 p.u \n",
      " t1s= 450 ºC \n",
      " h1s= 3273.2340290678903 KJ/Kg \n",
      " s1s= 6.55767674925585 KJ/Kg*K\n",
      "-----------------------------------\n",
      " p2s= 0.008 Mpa \n",
      " v2s= 15.522685584048423 m3/kg \n",
      " x2s= 0.8576254856590433 p.u \n",
      " t2s= 41.51005270424139 ºC \n",
      " h2s= 2234.1999744784293 KJ/Kg \n",
      " s2s= 7.1403986567200395 KJ/Kg*K\n",
      "-----------------------------------\n",
      " p3s= 0.008 Mpa \n",
      " v3s= 0.0010084729266462307 m3/kg \n",
      " x3s= 0 p.u \n",
      " t3s= 41.51005270424139 ºC \n",
      " h3s= 173.8517685972624 KJ/Kg \n",
      " s3s= 0.592531583591964 KJ/Kg*K\n",
      "-----------------------------------\n",
      " p4s= 8 Mpa \n",
      " v4s= 0.001005196435764367 m3/kg \n",
      " x4s= 0.0 p.u \n",
      " t4s= 42.093300748692855 ºC \n",
      " h4s= 183.31767173832256 KJ/Kg \n",
      " s4s= 0.5970381178051598 KJ/Kg*K\n"
     ]
    }
   ],
   "source": [
    "# a) Cálculo de todos los estados del ciclo\n",
    "# Se utilizará el sufijo 's' para todas las variables del ciclo sobrecalentado\n",
    "\n",
    "\n",
    "# Estado 1\n",
    "\n",
    "p1s=8\n",
    "t1s=450\n",
    "\n",
    "h1s=seu.pt2h(p1s,t1s)\n",
    "s1s=seu.pt2s(p1s,t1s)\n",
    "v1s=seu.pt2v(p1s,t1s)\n",
    "x1s=seu.pt2x(p1s,t1s)\n",
    "\n",
    "print(\" p1s= {} Mpa \\n v1s= {} m3/kg \\n x1s= {} p.u \\n t1s= {} ºC \\n h1s= {} KJ/Kg \\n s1s= {} KJ/Kg*K\".format(p1s,v1s,x1s,t1s,h1s,s1s))\n",
    "\n",
    "print(\"-----------------------------------\")\n",
    "\n",
    "\n",
    "# Estado 2 \n",
    "# Para este estado no se cuenta con la entalpía ideal calculada como sí se tenía en el ejercicio 2, \n",
    "# por ello se hace necesario calcularla antes. \n",
    "# Se supone expansión isoentrópica en la turbina (s=cte) y se busca en la librería que entalpía corresponde a dicho punto\n",
    "# Con ella y el rendimiento de la turbina, se calcula la entalpía real del estado\n",
    "\n",
    "ηturbs=0.85\n",
    "\n",
    "p2s=0.008\n",
    "s2s_id=s1s\n",
    "h2s_id=seu.ps2h(p2s,s2s_id)\n",
    "h2s=h1s-(ηturbs*(h1s-h2s_id))\n",
    "\n",
    "s2s=seu.ph2s(p2s,h2s)\n",
    "v2s=seu.ph2v(p2s,h2s)\n",
    "t2s=seu.ph2t(p2s,h2s)\n",
    "x2s=seu.ph2x(p2s,h2s)\n",
    "\n",
    "print(\" p2s= {} Mpa \\n v2s= {} m3/kg \\n x2s= {} p.u \\n t2s= {} ºC \\n h2s= {} KJ/Kg \\n s2s= {} KJ/Kg*K\".format(p2s,v2s,x2s,t2s,h2s,s2s))\n",
    "\n",
    "print(\"-----------------------------------\")\n",
    "\n",
    "\n",
    "# Estado 3\n",
    "\n",
    "p3s=p2s\n",
    "x3s=0\n",
    "\n",
    "h3s=seu.px2h(p3s,x3s)\n",
    "v3s=seu.px2v(p3s,x3s)\n",
    "t3s=seu.px2t(p3s,x3s)\n",
    "s3s=seu.px2s(p3s,x3s)\n",
    "\n",
    "print(\" p3s= {} Mpa \\n v3s= {} m3/kg \\n x3s= {} p.u \\n t3s= {} ºC \\n h3s= {} KJ/Kg \\n s3s= {} KJ/Kg*K\".format(p3s,v3s,x3s,t3s,h3s,s3s))\n",
    "\n",
    "print(\"-----------------------------------\")\n",
    "\n",
    "# Estado 4\n",
    "# Se produce el mismo caso que para el estado 2 pero con las variables y el modus operandi de la bomba\n",
    "\n",
    "ηpumps=0.85\n",
    "\n",
    "p4s=p1s\n",
    "s4s_id=s3s\n",
    "h4s_id=seu.ps2h(p4s,s4s_id)\n",
    "h4s=h3s+((h4s_id-h3s)/ηpumps)\n",
    "\n",
    "s4s=seu.ph2s(p4s,h4s)\n",
    "v4s=seu.ph2v(p4s,h4s)\n",
    "t4s=seu.ph2t(p4s,h4s)\n",
    "x4s=seu.ph2x(p4s,h4s)\n",
    "\n",
    "print(\" p4s= {} Mpa \\n v4s= {} m3/kg \\n x4s= {} p.u \\n t4s= {} ºC \\n h4s= {} KJ/Kg \\n s4s= {} KJ/Kg*K\".format(p4s,v4s,x4s,t4s,h4s,s4s))"
   ]
  },
  {
   "cell_type": "code",
   "execution_count": 50,
   "metadata": {
    "pycharm": {
     "name": "#%%\n"
    }
   },
   "outputs": [
    {
     "name": "stdout",
     "output_type": "stream",
     "text": [
      " ηths= 33.32025959234042 %\n"
     ]
    }
   ],
   "source": [
    "# b) El rendimiento térmico en % (ηth)\n",
    "# Debe ser ligeramente mayor al real debido al mayor área del ciclo sobrecalentado\n",
    "\n",
    "ηths=100*(h1s-h2s+h3s-h4s)/(h1s-h4s)\n",
    "\n",
    "print(\" ηths= {} %\".format(ηths))"
   ]
  },
  {
   "cell_type": "code",
   "execution_count": 51,
   "metadata": {
    "pycharm": {
     "name": "#%%\n"
    }
   },
   "outputs": [
    {
     "name": "stdout",
     "output_type": "stream",
     "text": [
      " bwrs= 0.9110291524371915 %\n"
     ]
    }
   ],
   "source": [
    "# c) El ratio de trabajo de retorno en % (back work ratio, bwr)\n",
    "# Debe ser ligeramente menor ya que es más eficiente\n",
    "\n",
    "bwrs=100*(h4s-h3s)/(h1s-h2s)\n",
    "\n",
    "print(\" bwrs= {} %\".format(bwrs))"
   ]
  },
  {
   "cell_type": "code",
   "execution_count": 52,
   "metadata": {
    "pycharm": {
     "name": "#%%\n"
    }
   },
   "outputs": [
    {
     "name": "stdout",
     "output_type": "stream",
     "text": [
      " ṁs=97.1281015825126 kg/s\n"
     ]
    }
   ],
   "source": [
    "# d) El flujo másico de vapor en kg/s (ṁ)\n",
    "\n",
    "ṁs=Ẇ_cycle/(h1s-h2s+h3s-h4s)\n",
    "\n",
    "print(\" ṁs={} kg/s\".format(ṁs))"
   ]
  },
  {
   "cell_type": "code",
   "execution_count": 53,
   "metadata": {
    "pycharm": {
     "name": "#%%\n"
    }
   },
   "outputs": [
    {
     "name": "stdout",
     "output_type": "stream",
     "text": [
      " Q̇ins= 300.11770983617356 MW \n",
      " Q̇outs= 200.11770983617356 MW\n"
     ]
    }
   ],
   "source": [
    "# e) Los calores intercambiados en MW (Q̇in y Q̇out)\n",
    "\n",
    "Q̇ins=ṁs*(h1s-h4s)/1000\n",
    "Q̇outs=ṁs*(h2s-h3s)/1000\n",
    "\n",
    "print(\" Q̇ins= {} MW \\n Q̇outs= {} MW\".format(Q̇ins,Q̇outs))"
   ]
  },
  {
   "cell_type": "code",
   "execution_count": 54,
   "metadata": {
    "pycharm": {
     "name": "#%%\n"
    }
   },
   "outputs": [
    {
     "name": "stdout",
     "output_type": "stream",
     "text": [
      " Ẇts= 100.91940520185511 MW \n",
      " Ẇps= 0.9194052018551155 MW\n"
     ]
    }
   ],
   "source": [
    "# f) Los trabajos de la turbina y la bomba en MW (Ẇp y Ẇt)\n",
    "\n",
    "Ẇts=ṁs*(h1s-h2s)/1000\n",
    "Ẇps=ṁs*(h4s-h3s)/1000\n",
    "\n",
    "print(\" Ẇts= {} MW \\n Ẇps= {} MW\".format(Ẇts,Ẇps))"
   ]
  },
  {
   "cell_type": "code",
   "execution_count": 55,
   "metadata": {
    "pycharm": {
     "name": "#%%\n"
    }
   },
   "outputs": [
    {
     "data": {
      "text/plain": [
       "[<matplotlib.lines.Line2D at 0x1f7b49b35b0>]"
      ]
     },
     "execution_count": 55,
     "metadata": {},
     "output_type": "execute_result"
    },
    {
     "data": {
      "image/png": "[encoded data removed]",
      "text/plain": [
       "<Figure size 792x468 with 1 Axes>"
      ]
     },
     "metadata": {
      "needs_background": "light"
     },
     "output_type": "display_data"
    }
   ],
   "source": [
    "# g) Dibujo del ciclo de vapor\n",
    "\n",
    "# Código para el tamaño del gráfico\n",
    "plt.figure(figsize=(11.0,6.5))\n",
    "\n",
    "# Código para el nombre de los ejes y el título\n",
    "plt.title(\"Ciclo sobrecalentado\")\n",
    "plt.xlabel('S [kJ/kg*K]')\n",
    "plt.ylabel('T [°C]')\n",
    "\n",
    "# Código para los puntos de saturación y su color (campana)\n",
    "svap=[s for s in [seu.tx2s(t, 1) for t in npt]]\n",
    "sliq=[s for s in [seu.tx2s(t, 0) for t in npt]]\n",
    "plt.plot(svap, npt, 'k')\n",
    "plt.plot(sliq, npt, 'k')\n",
    "\n",
    "# Le indicamos los puntos a señalar y unir\n",
    "t=[t1s,t2s,t3s,t4s]\n",
    "s=[s1s,s2s,s3s,s4s]\n",
    "\n",
    "t.append(seu.px2t(p1s,0))\n",
    "s.append(seu.px2s(p1s,0))\n",
    "\n",
    "# Se añade el punto de sobrecalentamiento\n",
    "t.append(seu.px2t(p1s,1))\n",
    "s.append(seu.px2s(p1s,1))\n",
    "\n",
    "t.append(t1s)\n",
    "s.append(s1s)\n",
    "\n",
    "plt.plot(s, t, 'go-')\n",
    "\n",
    "# Se añade la representación de la expansión isoentrópica en la turbina para poder comparar la diferencia entre el \n",
    "# proceso real y el ideal\n",
    "tb=[t1s,t2s]\n",
    "sb=[s1s,s2s_id]\n",
    "plt.plot(sb, tb, 'g--')"
   ]
  },
  {
   "cell_type": "markdown",
   "metadata": {
    "pycharm": {
     "name": "#%% md\n"
    }
   },
   "source": [
    "# Ejercicio 4: Ciclo de Rankine con recalentamiento\n",
    "Un ciclo de Rankine con recalentamiento, con irreversibilidades en la turbina y en la bomba, trabaja\n",
    "con vapor de agua. El vapor entra a la primera etapa de la turbina a una temperatura de 500 ºC y a\n",
    "una presión de 10 MPa, y se expande hasta los 0.8 MPa. Luego, el vapor es recalentado hasta una\n",
    "temperatura de 460ºC. Tras pasar la segunda etapa de la turbina, el vapor entra al condensador a una\n",
    "presión de 0.008 MPa, y sale hacia la bomba como líquido saturado. El trabajo neto del ciclo es de\n",
    "200 MW. Los rendimientos de ambas etapas de la turbina (ηt1 y ηt2) son 0.91 y 0.93 respectivamente;\n",
    "y el de la bomba (ηp) es 0.88. \n",
    "\n",
    "Se pide:\n",
    "\n",
    "a) Cálculo de todos los estados del ciclo\n",
    "\n",
    "b) El rendimiento térmico del ciclo en % (ηth)\n",
    "\n",
    "c) El flujo másico de vapor en kg/s (ṁ)\n",
    "\n",
    "d) Si el agua de refrigeración entra en el condensador a 15 ºC y sale a 35 ºC, ¿cuál es el flujo\n",
    "másico del agua de refrigeración en el condensador?\n",
    "\n",
    "e) Dibujo del ciclo de vapor"
   ]
  },
  {
   "cell_type": "code",
   "execution_count": 56,
   "metadata": {
    "scrolled": false,
    "pycharm": {
     "name": "#%%\n"
    }
   },
   "outputs": [
    {
     "name": "stdout",
     "output_type": "stream",
     "text": [
      " p1rec= 10 Mpa \n",
      " v1rec= 0.03281286295613049 m3/kg \n",
      " x1rec= 1.0 p.u \n",
      " t1rec= 500 ºC \n",
      " h1rec= 3375.0584418464077 KJ/Kg \n",
      " s1rec= 6.599322534689143 KJ/Kg*K\n",
      "-----------------------------------\n",
      " p2rec= 0.8 Mpa \n",
      " v2rec= 0.24872143005972325 m3/kg \n",
      " x2rec= 1.0 p.u \n",
      " t2rec= 182.19844837308727 ºC \n",
      " h2rec= 2797.7959886168032 KJ/Kg \n",
      " s2rec= 6.727176571734885 KJ/Kg*K\n",
      "-----------------------------------\n",
      " p3rec= 0.8 Mpa \n",
      " v3rec= 0.41978252418052775 m3/kg \n",
      " x3rec= 1.0 p.u \n",
      " t3rec= 460 ºC \n",
      " h3rec= 3395.164791876241 KJ/Kg \n",
      " s3rec= 7.7548347100924335 KJ/Kg*K\n",
      "-----------------------------------\n",
      " p4rec= 0.008 Mpa \n",
      " v4rec= 17.489476878742273 m3/kg \n",
      " x4rec= 0.9662973983155156 p.u \n",
      " t4rec= 41.51005270424139 ºC \n",
      " h4rec= 2495.2719505512737 KJ/Kg \n",
      " s4rec= 7.970095593851473 KJ/Kg*K\n",
      "-----------------------------------\n",
      " p5rec= 0.008 Mpa \n",
      " v5rec= 0.0010084729266462307 m3/kg \n",
      " x5rec= 0 p.u \n",
      " t5rec= 41.51005270424139 ºC \n",
      " h5rec= 173.8517685972624 KJ/Kg \n",
      " s5rec= 0.592531583591964 KJ/Kg*K\n",
      "-----------------------------------\n",
      " p6rec= 10 Mpa \n",
      " v6rec= 0.0010043504463604868 m3/kg \n",
      " x6rec= 0.0 p.u \n",
      " t6rec= 42.14291082625596 ºC \n",
      " h6rec= 185.27823767200783 KJ/Kg \n",
      " s6rec= 0.5968827576234697 KJ/Kg*K\n"
     ]
    }
   ],
   "source": [
    "# a) Cálculo de todos los estados del ciclo\n",
    "# Se utilizará el sufijo 'rec' para las variables del ciclo con recalentamiento\n",
    "# El objetivo de este ciclo es ampliar aún más el área cayendo en un punto de entrada al condensador más próximo\n",
    "# a la campana de vapor saturado.\n",
    "# Se definen las etapas en la turbina como dispositivos separados, con 'high pressure (turb_hp)' y 'low pressure (turb_lp)'\n",
    "\n",
    "\n",
    "# Estado 1\n",
    "\n",
    "p1rec=10\n",
    "t1rec=500\n",
    "\n",
    "h1rec=seu.pt2h(p1rec,t1rec)\n",
    "s1rec=seu.pt2s(p1rec,t1rec)\n",
    "v1rec=seu.pt2v(p1rec,t1rec)\n",
    "x1rec=seu.pt2x(p1rec,t1rec)\n",
    "\n",
    "print(\" p1rec= {} Mpa \\n v1rec= {} m3/kg \\n x1rec= {} p.u \\n t1rec= {} ºC \\n h1rec= {} KJ/Kg \\n s1rec= {} KJ/Kg*K\".format(p1rec,v1rec,x1rec,t1rec,h1rec,s1rec))\n",
    "\n",
    "print(\"-----------------------------------\")\n",
    "\n",
    "\n",
    "# Estado 2 \n",
    "\n",
    "ηturb_hp=0.91\n",
    "\n",
    "p2rec=0.8\n",
    "s2rec_id=s1rec\n",
    "h2rec_id=seu.ps2h(p2rec,s2rec_id)\n",
    "h2rec=h1rec-(ηturb_hp*(h1rec-h2rec_id))\n",
    "\n",
    "s2rec=seu.ph2s(p2rec,h2rec)\n",
    "v2rec=seu.ph2v(p2rec,h2rec)\n",
    "t2rec=seu.ph2t(p2rec,h2rec)\n",
    "x2rec=seu.ph2x(p2rec,h2rec)\n",
    "\n",
    "print(\" p2rec= {} Mpa \\n v2rec= {} m3/kg \\n x2rec= {} p.u \\n t2rec= {} ºC \\n h2rec= {} KJ/Kg \\n s2rec= {} KJ/Kg*K\".format(p2rec,v2rec,x2rec,t2rec,h2rec,s2rec))\n",
    "\n",
    "print(\"-----------------------------------\")\n",
    "\n",
    "\n",
    "# Estado 3\n",
    "\n",
    "p3rec=0.8\n",
    "t3rec=460\n",
    "\n",
    "s3rec=seu.pt2s(p3rec,t3rec)\n",
    "v3rec=seu.pt2v(p3rec,t3rec)\n",
    "h3rec=seu.pt2h(p3rec,t3rec)\n",
    "x3rec=seu.pt2x(p3rec,t3rec)\n",
    "\n",
    "print(\" p3rec= {} Mpa \\n v3rec= {} m3/kg \\n x3rec= {} p.u \\n t3rec= {} ºC \\n h3rec= {} KJ/Kg \\n s3rec= {} KJ/Kg*K\".format(p3rec,v3rec,x3rec,t3rec,h3rec,s3rec))\n",
    "\n",
    "print(\"-----------------------------------\")\n",
    "\n",
    "\n",
    "# Estado 4\n",
    "\n",
    "ηturb_lp=0.93\n",
    "\n",
    "p4rec=0.008\n",
    "s4rec_id=s3rec\n",
    "h4rec_id=seu.ps2h(p4rec,s4rec_id)\n",
    "h4rec=h3rec-(ηturb_lp*(h3rec-h4rec_id))\n",
    "\n",
    "s4rec=seu.ph2s(p4rec,h4rec)\n",
    "v4rec=seu.ph2v(p4rec,h4rec)\n",
    "t4rec=seu.ph2t(p4rec,h4rec)\n",
    "x4rec=seu.ph2x(p4rec,h4rec)\n",
    "\n",
    "print(\" p4rec= {} Mpa \\n v4rec= {} m3/kg \\n x4rec= {} p.u \\n t4rec= {} ºC \\n h4rec= {} KJ/Kg \\n s4rec= {} KJ/Kg*K\".format(p4rec,v4rec,x4rec,t4rec,h4rec,s4rec))\n",
    "\n",
    "print(\"-----------------------------------\")\n",
    "\n",
    "\n",
    "# Estado 5\n",
    "\n",
    "x5rec=0\n",
    "p5rec=p4rec\n",
    "\n",
    "h5rec=seu.px2h(p5rec,x5rec)\n",
    "v5rec=seu.px2v(p5rec,x5rec)\n",
    "t5rec=seu.px2t(p5rec,x5rec)\n",
    "s5rec=seu.px2s(p5rec,x5rec)\n",
    "\n",
    "print(\" p5rec= {} Mpa \\n v5rec= {} m3/kg \\n x5rec= {} p.u \\n t5rec= {} ºC \\n h5rec= {} KJ/Kg \\n s5rec= {} KJ/Kg*K\".format(p5rec,v5rec,x5rec,t5rec,h5rec,s5rec))\n",
    "\n",
    "print(\"-----------------------------------\")\n",
    "\n",
    "\n",
    "# Estado 6\n",
    "\n",
    "ηpumprec=0.88\n",
    "\n",
    "p6rec=p1rec\n",
    "s6rec_id=s5rec\n",
    "h6rec_id=seu.ps2h(p6rec,s6rec_id)\n",
    "h6rec=h5rec+((h6rec_id-h5rec)/ηpumprec)\n",
    "\n",
    "s6rec=seu.ph2s(p6rec,h6rec)\n",
    "v6rec=seu.ph2v(p6rec,h6rec)\n",
    "t6rec=seu.ph2t(p6rec,h6rec)\n",
    "x6rec=seu.ph2x(p6rec,h6rec)\n",
    "\n",
    "print(\" p6rec= {} Mpa \\n v6rec= {} m3/kg \\n x6rec= {} p.u \\n t6rec= {} ºC \\n h6rec= {} KJ/Kg \\n s6rec= {} KJ/Kg*K\".format(p6rec,v6rec,x6rec,t6rec,h6rec,s6rec))"
   ]
  },
  {
   "cell_type": "code",
   "execution_count": 57,
   "metadata": {
    "pycharm": {
     "name": "#%%\n"
    }
   },
   "outputs": [
    {
     "name": "stdout",
     "output_type": "stream",
     "text": [
      " ηthrec= 38.70269753322964 %\n",
      " bwrrec= 0.7735455518365805 %\n"
     ]
    }
   ],
   "source": [
    "# b) El rendimiento térmico del ciclo en % (ηth)\n",
    "# En este caso, de cara al rendimiento hay que sumar el trabajo específico ofrecido por cada fase de la turbina\n",
    "# y para el denominador, los dos procesos de aporte de calor; el de la caldera y el de recalentamiento\n",
    "# Debe ser un valor más alto que el sobrecalentado\n",
    "\n",
    "ηthrec=100*(h1rec-h2rec+h3rec-h4rec+h5rec-h6rec)/(h1rec-h6rec+h3rec-h2rec)\n",
    "\n",
    "print(\" ηthrec= {} %\".format(ηthrec))\n",
    "\n",
    "# El ratio de trabajo de retorno en % (back work ratio, bwr)\n",
    "\n",
    "bwrrec=100*(h6rec-h5rec)/(h1rec-h2rec+h3rec-h4rec)\n",
    "\n",
    "print(\" bwrrec= {} %\".format(bwrrec))"
   ]
  },
  {
   "cell_type": "code",
   "execution_count": 58,
   "metadata": {
    "scrolled": true,
    "pycharm": {
     "name": "#%%\n"
    }
   },
   "outputs": [
    {
     "name": "stdout",
     "output_type": "stream",
     "text": [
      " ṁrec=136.4508881337769 kg/s\n"
     ]
    }
   ],
   "source": [
    "# c) El flujo másico de vapor en kg/s (ṁ)\n",
    "# Al igual que para el rendimiento, en el trabajo total es necesario tener en cuenta las dos etapas de la turbina \n",
    "\n",
    "Ẇcycle_rec=200000\n",
    "\n",
    "ṁrec=Ẇcycle_rec/(h1rec-h2rec+h3rec-h4rec+h5rec-h6rec)\n",
    "\n",
    "print(\" ṁrec={} kg/s\".format(ṁrec))"
   ]
  },
  {
   "cell_type": "code",
   "execution_count": 59,
   "metadata": {
    "pycharm": {
     "name": "#%%\n"
    }
   },
   "outputs": [
    {
     "name": "stdout",
     "output_type": "stream",
     "text": [
      " ṁcond=3786.400193758578 kg/s\n"
     ]
    }
   ],
   "source": [
    "# d) Si el agua de refrigeración entra en el condensador a 15 ºC y sale a 35 ºC, \n",
    "# ¿cuál es el flujo másico del agua de refrigeración en el condensador?\n",
    "# Para este apartado, se calculan las enaltpías del agua en la entrada y en la salida de la refrigeración\n",
    "# Se buscan en la librería con las temperaturas dadas y gracias al carácter isobaro del condensador\n",
    "# Al hacer estas suposiciones, se incurre en que el condensador trabaja como un intercambiador de calor abierto\n",
    "\n",
    "te_cond=15\n",
    "ts_cond=35\n",
    "p_cond=0.008\n",
    "\n",
    "he_cond=seu.pt2h(p_cond,te_cond)\n",
    "hs_cond=seu.pt2h(p_cond,ts_cond)\n",
    "\n",
    "Q̇cond_rec=ṁrec*(h4rec-h5rec)/1000\n",
    "ṁcond=1000*Q̇cond_rec/(hs_cond-he_cond)\n",
    "\n",
    "print(\" ṁcond={} kg/s\".format(ṁcond))\n"
   ]
  },
  {
   "cell_type": "code",
   "execution_count": 60,
   "metadata": {
    "pycharm": {
     "name": "#%%\n"
    }
   },
   "outputs": [
    {
     "name": "stdout",
     "output_type": "stream",
     "text": [
      " Ẇt1_rec= 78.7679744294624 MW \n",
      " Ẇt2_rec= 122.79117742401976 MW \n",
      " Ẇpump_rec= 1.5591518534821496 MW \n",
      " Q̇cald_rec= 435.2483418111371 MW \n",
      " Q̇rec_rec= 81.51150374816173 MW \n",
      " Q̇cond_rec= 316.7598455592988 MW\n"
     ]
    }
   ],
   "source": [
    "# De manera adicional, se calculan los trabajos y los calores \n",
    "\n",
    "Ẇt1_rec=ṁrec*(h1rec-h2rec)/1000\n",
    "Ẇt2_rec=ṁrec*(h3rec-h4rec)/1000\n",
    "Ẇpump_rec=ṁrec*(h6rec-h5rec)/1000\n",
    "Q̇cald_rec=ṁrec*(h1rec-h6rec)/1000\n",
    "Q̇rec_rec=ṁrec*(h3rec-h2rec)/1000\n",
    "\n",
    "print(\" Ẇt1_rec= {} MW \\n Ẇt2_rec= {} MW \\n Ẇpump_rec= {} MW \\n Q̇cald_rec= {} MW \\n Q̇rec_rec= {} MW \\n Q̇cond_rec= {} MW\".format(Ẇt1_rec,Ẇt2_rec,Ẇpump_rec,Q̇cald_rec,Q̇rec_rec,Q̇cond_rec))"
   ]
  },
  {
   "cell_type": "code",
   "execution_count": 61,
   "metadata": {
    "pycharm": {
     "name": "#%%\n"
    }
   },
   "outputs": [
    {
     "data": {
      "text/plain": [
       "[<matplotlib.lines.Line2D at 0x1f7b446c940>]"
      ]
     },
     "execution_count": 61,
     "metadata": {},
     "output_type": "execute_result"
    },
    {
     "data": {
      "image/png": "[encoded data removed]",
      "text/plain": [
       "<Figure size 792x468 with 1 Axes>"
      ]
     },
     "metadata": {
      "needs_background": "light"
     },
     "output_type": "display_data"
    }
   ],
   "source": [
    "# e) Dibujo del ciclo de vapor\n",
    "\n",
    "# Código para el tamaño del gráfico\n",
    "plt.figure(figsize=(11.0,6.5))\n",
    "\n",
    "# Código para el nombre de los ejes y el título\n",
    "plt.title(\"Ciclo con recalentamiento\")\n",
    "plt.xlabel('S [kJ/kg*K]')\n",
    "plt.ylabel('T [°C]')\n",
    "\n",
    "# Código para los puntos de saturación y su color (campana)\n",
    "svap=[s for s in [seu.tx2s(t, 1) for t in npt]]\n",
    "sliq=[s for s in [seu.tx2s(t, 0) for t in npt]]\n",
    "plt.plot(svap, npt, 'k')\n",
    "plt.plot(sliq, npt, 'k')\n",
    "\n",
    "# Le indicamos los puntos a señalar y unir\n",
    "t=[t1rec,t2rec,t3rec,t4rec,t5rec,t6rec]\n",
    "s=[s1rec,s2rec,s3rec,s4rec,s5rec,s6rec]\n",
    "\n",
    "t.append(seu.px2t(p1rec,0))\n",
    "s.append(seu.px2s(p1rec,0))\n",
    "\n",
    "# Se añade el punto de sobrecalentamiento\n",
    "t.append(seu.px2t(p1rec,1))\n",
    "s.append(seu.px2s(p1rec,1))\n",
    "\n",
    "t.append(t1rec)\n",
    "s.append(s1rec)\n",
    "\n",
    "plt.plot(s, t, 'go-')\n",
    "\n",
    "# Se añade la representación de la expansión isoentrópica en las fases de la turbina para poder comparar la diferencia entre el \n",
    "# proceso real y el ideal\n",
    "tb=[t1rec,t4rec]\n",
    "sb=[s1rec,s2rec_id]\n",
    "plt.plot(sb, tb, 'g--')\n",
    "\n",
    "tb=[t3rec,t4rec]\n",
    "sb=[s3rec,s4rec_id]\n",
    "plt.plot(sb, tb, 'g--')"
   ]
  },
  {
   "cell_type": "markdown",
   "metadata": {
    "pycharm": {
     "name": "#%% md\n"
    }
   },
   "source": [
    "# Ejercicio 5: Ciclo de Rankine regenerativo\n",
    "Un ciclo de Rankine regenerativo con irreversibilidades en la turbina, trabaja con vapor de agua. El\n",
    "vapor entra a la turbina a una temperatura de 480 ºC y a una presión de 8 MPa, y se expande hasta\n",
    "los 0.7 MPa, donde parte del vapor se desvía hacia el intercambiador de calor regenerativo. El vapor\n",
    "restante se expanda en la segunda etapa de la turbina hasta los 0,008 MPa, y sale hacia la bomba\n",
    "como líquido saturado. Ambos flujos de vapor se mezclan en el intercambiador de calor a una\n",
    "presión de 0.7 MPa. El trabajo neto del ciclo es de 100 MW. El rendimiento de la turbina (ηt) es\n",
    "0.85. \n",
    "\n",
    "Se pide:\n",
    "\n",
    "a) Cálculo de todos los estados del ciclo\n",
    "\n",
    "b) El rendimiento térmico del ciclo en % (ηth)\n",
    "\n",
    "c) El flujo másico de vapor en kg/s (ṁ) total y de las fracciones separadas tras la primera etapa\n",
    "de la turbina\n",
    "\n",
    "d) (Opcional) Dibujo del ciclo de vapor"
   ]
  },
  {
   "cell_type": "code",
   "execution_count": 62,
   "metadata": {
    "pycharm": {
     "name": "#%%\n"
    }
   },
   "outputs": [
    {
     "name": "stdout",
     "output_type": "stream",
     "text": [
      " p1rg= 8 Mpa \n",
      " v1rg= 0.040364941230239954 m3/kg \n",
      " x1rg= 1.0 p.u \n",
      " t1rg= 480 ºC \n",
      " h1rg= 3349.5266902175404 KJ/Kg \n",
      " s1rg= 6.661057438926857 KJ/Kg*K\n",
      "-----------------------------------\n",
      " p2rg= 0.7 Mpa \n",
      " v2rg= 0.2961202227927181 m3/kg \n",
      " x2rg= 1.0 p.u \n",
      " t2rg= 194.85028725291676 ºC \n",
      " h2rg= 2833.6633994799113 KJ/Kg \n",
      " s2rg= 6.863659692226502 KJ/Kg*K\n",
      "-----------------------------------\n",
      " p3rg= 0.008 Mpa \n",
      " v3rg= 15.642489399994753 m3/kg \n",
      " x3rg= 0.8642450542210742 p.u \n",
      " t3rg= 41.51005270424139 ºC \n",
      " h3rg= 2250.102739075039 KJ/Kg \n",
      " s3rg= 7.190938263751806 KJ/Kg*K\n",
      "-----------------------------------\n",
      " p4rg= 0.008 Mpa \n",
      " v4rg= 0.0010084729266462307 m3/kg \n",
      " x4rg= 0 p.u \n",
      " t4rg= 41.51005270424139 ºC \n",
      " h4rg= 173.8517685972624 KJ/Kg \n",
      " s4rg= 0.592531583591964 KJ/Kg*K\n",
      "-----------------------------------\n",
      " p5rg= 0.7 Mpa \n",
      " v5rg= 0.0010081897039087963 m3/kg \n",
      " x5rg= 0.0 p.u \n",
      " t5rg= 41.57007627048523 ºC \n",
      " h5rg= 174.7132004608183 KJ/Kg \n",
      " s5rg= 0.5930516719370847 KJ/Kg*K\n",
      "-----------------------------------\n",
      " p6rg= 0.7 Mpa \n",
      " v6rg= 0.001107965077299146 m3/kg \n",
      " x6rg= 0 p.u \n",
      " t6rg= 164.95275256333002 ºC \n",
      " h6rg= 697.1433607900045 KJ/Kg \n",
      " s6rg= 1.992083136974042 KJ/Kg*K\n",
      "-----------------------------------\n",
      " p7rg= 8 Mpa \n",
      " v7rg= 0.0011041926164595739 m3/kg \n",
      " x7rg= 0.0 p.u \n",
      " t7rg= 166.2919029883169 ºC \n",
      " h7rg= 707.1092341881304 KJ/Kg \n",
      " s7rg= 1.9963941931671394 KJ/Kg*K\n"
     ]
    }
   ],
   "source": [
    "# a) Cálculo de todos los estados del ciclo\n",
    "# Se utilizará el sufijo 'rg' para las variables del ciclo con regeneración\n",
    "# Se supone para este ciclo dos fases de turbinado con mismo rendimiento 'ηturb_rg=0.85' \n",
    "# Este ciclo cuenta con la presencia de dos bombas: una tras el condensador y otra tras el regenerador. Al no darse\n",
    "# los rendimientos de cada una, se presuponen 'ηpump_rg=0.81'\n",
    "# Se denominará 'ṁrg' al flujo másico total (el saliente de la caldera), 'ṁe' al flujo másico que se dirige al regenerador\n",
    "# tras el primer turbinado (flujo másico del sangrado) y 'ṁrg-ṁe' al flujo másico que se somete al segundo turbinado \n",
    "# y que atravesará también el condensador\n",
    "\n",
    "\n",
    "# Estado 1\n",
    "\n",
    "t1rg=480\n",
    "p1rg=8\n",
    "\n",
    "h1rg=seu.pt2h(p1rg,t1rg)\n",
    "s1rg=seu.pt2s(p1rg,t1rg)\n",
    "v1rg=seu.pt2v(p1rg,t1rg)\n",
    "x1rg=seu.pt2x(p1rg,t1rg)\n",
    "\n",
    "print(\" p1rg= {} Mpa \\n v1rg= {} m3/kg \\n x1rg= {} p.u \\n t1rg= {} ºC \\n h1rg= {} KJ/Kg \\n s1rg= {} KJ/Kg*K\".format(p1rg,v1rg,x1rg,t1rg,h1rg,s1rg))\n",
    "\n",
    "print(\"-----------------------------------\")\n",
    "\n",
    "\n",
    "# Estado 2 \n",
    "\n",
    "ηturb_rg=0.85\n",
    "\n",
    "p2rg=0.7\n",
    "s2rg_id=s1rg\n",
    "h2rg_id=seu.ps2h(p2rg,s2rg_id)\n",
    "h2rg=h1rg-(ηturb_rg*(h1rg-h2rg_id))\n",
    "\n",
    "s2rg=seu.ph2s(p2rg,h2rg)\n",
    "v2rg=seu.ph2v(p2rg,h2rg)\n",
    "t2rg=seu.ph2t(p2rg,h2rg)\n",
    "x2rg=seu.ph2x(p2rg,h2rg)\n",
    "\n",
    "print(\" p2rg= {} Mpa \\n v2rg= {} m3/kg \\n x2rg= {} p.u \\n t2rg= {} ºC \\n h2rg= {} KJ/Kg \\n s2rg= {} KJ/Kg*K\".format(p2rg,v2rg,x2rg,t2rg,h2rg,s2rg))\n",
    "\n",
    "print(\"-----------------------------------\")\n",
    "\n",
    "\n",
    "# Estado 3\n",
    "# Aquí surge el problema de si suponer s3rg_id=s1rg. Si se realiza esa suposición, se está indicando que el segundo turbinado\n",
    "# sería ideal siendo también el primero. \n",
    "# Por el contrario, se supone que s3rg_id=s2rg ya que existe la posibilidad de que siendo ideal el segundo, el primero no lo sea\n",
    "\n",
    "p3rg=0.008\n",
    "s3rg_id=s2rg\n",
    "h3rg_id=seu.ps2h(p3rg,s3rg_id)\n",
    "h3rg=h2rg-(ηturb_rg*(h2rg-h3rg_id))\n",
    "\n",
    "s3rg=seu.ph2s(p3rg,h3rg)\n",
    "v3rg=seu.ph2v(p3rg,h3rg)\n",
    "t3rg=seu.ph2t(p3rg,h3rg)\n",
    "x3rg=seu.ph2x(p3rg,h3rg)\n",
    "\n",
    "print(\" p3rg= {} Mpa \\n v3rg= {} m3/kg \\n x3rg= {} p.u \\n t3rg= {} ºC \\n h3rg= {} KJ/Kg \\n s3rg= {} KJ/Kg*K\".format(p3rg,v3rg,x3rg,t3rg,h3rg,s3rg))\n",
    "\n",
    "print(\"-----------------------------------\")\n",
    "\n",
    "\n",
    "# Estado 4\n",
    "\n",
    "p4rg=p3rg\n",
    "x4rg=0\n",
    "\n",
    "h4rg=seu.px2h(p4rg,x4rg)\n",
    "v4rg=seu.px2v(p4rg,x4rg)\n",
    "t4rg=seu.px2t(p4rg,x4rg)\n",
    "s4rg=seu.px2s(p4rg,x4rg)\n",
    "\n",
    "print(\" p4rg= {} Mpa \\n v4rg= {} m3/kg \\n x4rg= {} p.u \\n t4rg= {} ºC \\n h4rg= {} KJ/Kg \\n s4rg= {} KJ/Kg*K\".format(p4rg,v4rg,x4rg,t4rg,h4rg,s4rg))\n",
    "\n",
    "print(\"-----------------------------------\")\n",
    "\n",
    "\n",
    "# Estado 5\n",
    "\n",
    "ηpump_rg=0.81\n",
    "\n",
    "p5rg=p2rg\n",
    "s5rg_id=s4rg\n",
    "h5rg_id=seu.ps2h(p5rg,s5rg_id)\n",
    "h5rg=h4rg+((h5rg_id-h4rg)/ηpump_rg)\n",
    "\n",
    "s5rg=seu.ph2s(p5rg,h5rg)\n",
    "v5rg=seu.ph2v(p5rg,h5rg)\n",
    "t5rg=seu.ph2t(p5rg,h5rg)\n",
    "x5rg=seu.ph2x(p5rg,h5rg)\n",
    "\n",
    "print(\" p5rg= {} Mpa \\n v5rg= {} m3/kg \\n x5rg= {} p.u \\n t5rg= {} ºC \\n h5rg= {} KJ/Kg \\n s5rg= {} KJ/Kg*K\".format(p5rg,v5rg,x5rg,t5rg,h5rg,s5rg))\n",
    "\n",
    "print(\"-----------------------------------\")\n",
    "\n",
    "\n",
    "# Estado 6\n",
    "\n",
    "p6rg=p2rg\n",
    "x6rg=0\n",
    "\n",
    "h6rg=seu.px2h(p6rg,x6rg)\n",
    "v6rg=seu.px2v(p6rg,x6rg)\n",
    "t6rg=seu.px2t(p6rg,x6rg)\n",
    "s6rg=seu.px2s(p6rg,x6rg)\n",
    "\n",
    "print(\" p6rg= {} Mpa \\n v6rg= {} m3/kg \\n x6rg= {} p.u \\n t6rg= {} ºC \\n h6rg= {} KJ/Kg \\n s6rg= {} KJ/Kg*K\".format(p6rg,v6rg,x6rg,t6rg,h6rg,s6rg))\n",
    "\n",
    "print(\"-----------------------------------\")\n",
    "\n",
    "\n",
    "# Estado 7\n",
    "\n",
    "p7rg=p1rg\n",
    "s7rg_id=s6rg\n",
    "h7rg_id=seu.ps2h(p7rg,s7rg_id)\n",
    "h7rg=h6rg+((h7rg_id-h6rg)/ηpump_rg)\n",
    "\n",
    "s7rg=seu.ph2s(p7rg,h7rg)\n",
    "v7rg=seu.ph2v(p7rg,h7rg)\n",
    "t7rg=seu.ph2t(p7rg,h7rg)\n",
    "x7rg=seu.ph2x(p7rg,h7rg)\n",
    "\n",
    "print(\" p7rg= {} Mpa \\n v7rg= {} m3/kg \\n x7rg= {} p.u \\n t7rg= {} ºC \\n h7rg= {} KJ/Kg \\n s7rg= {} KJ/Kg*K\".format(p7rg,v7rg,x7rg,t7rg,h7rg,s7rg))\n",
    "\n"
   ]
  },
  {
   "cell_type": "code",
   "execution_count": 63,
   "metadata": {
    "pycharm": {
     "name": "#%%\n"
    }
   },
   "outputs": [
    {
     "name": "stdout",
     "output_type": "stream",
     "text": [
      " y= 19.64798590518599 % (Fracc. vapor ó sangrado)\n",
      " ηthrg= 36.86427295447568 %\n",
      " bwrrg= 1.0822927348729534 %\n"
     ]
    }
   ],
   "source": [
    "# b) El rendimiento térmico del ciclo en % (ηth)\n",
    "\n",
    "# De cara a calcularlo, es necesario hallar la fracción de vapor: el porcentaje del flujo másico que se dirige al regenerador.\n",
    "# La resta de esta fracción de vapor, en clase llamado sangrado, nos indica qué cantidad de flujo másico\n",
    "# atravesará la segunda turbina, el condensador y la primera bomba.\n",
    "\n",
    "# Para calcularlo, es necesario realizar un balance energético al regenerador que multiplica cada flujo másico\n",
    "# que entra en el dispositivo por su entalpía. Se denomina [ṁe] al flujo másico desviado y [ṁrg] al total previo. \n",
    "# El flujo másico que atravesará la segunda turbina y la primera bomba será [ṁ-ṁe]\n",
    "\n",
    "# Balance energético: \n",
    "# (dE/dT) = Q - W + ṁe*h2rg + (ṁrg-ṁe)*h5rg - ṁrg*h6rg\n",
    "\n",
    "# Particularizando para el regenerador:\n",
    "# (dE/dT)=0, Q=0, W=0\n",
    "\n",
    "# La expresión resultante es:\n",
    "# 0 = ṁe*h2rg + (ṁrg-ṁe)*h5rg - ṁrg*h6rg\n",
    "\n",
    "# Se divide todo entre ṁrg para obtener la expresión con las fracciones de vapor ó sangrado\n",
    "# 0 = (ṁe*h2rg)/ṁrg + ((ṁrg-ṁe)*h5rg)/ṁrg - (ṁrg*h6rg)/ṁrg\n",
    "\n",
    "# Resultando para y=ṁe/ṁrg\n",
    "# 0 = y*h2rg + (1-y)*h5rg - h6rg\n",
    "\n",
    "# Despejando la y\n",
    "y=(h6rg-h5rg)/(h2rg-h5rg)\n",
    "print(\" y= {} % (Fracc. vapor ó sangrado)\".format(100*y))\n",
    "\n",
    "# El último paso para el rendimiento es aplicar el porcentaje que atraviesa la segunda turbina y la primera bomba\n",
    "# restando a la fracción extraída que se conoce\n",
    "ηthrg=100*((h1rg-h2rg)+((1-y)*(h2rg-h3rg))-((1-y)*(h5rg-h4rg))-(h7rg-h6rg))/(h1rg-h7rg)\n",
    "\n",
    "print(\" ηthrg= {} %\".format(ηthrg))\n",
    "\n",
    "# El ratio de trabajo de retorno en % (back work ratio, bwr)\n",
    "\n",
    "bwrrg=100*(((1-y)*(h5rg-h4rg))+(h7rg-h6rg))/((h1rg-h2rg)+((1-y)*(h2rg-h3rg)))\n",
    "\n",
    "print(\" bwrrg= {} %\".format(bwrrg))"
   ]
  },
  {
   "cell_type": "code",
   "execution_count": 64,
   "metadata": {
    "pycharm": {
     "name": "#%%\n"
    }
   },
   "outputs": [
    {
     "name": "stdout",
     "output_type": "stream",
     "text": [
      " ṁrg=102.65802322215369 kg/s\n",
      "-----------------------------------\n",
      " ṁe=20.17023393323132 kg/s\n",
      "-----------------------------------\n",
      " (ṁrg-ṁe)=82.48778928892237 kg/s\n"
     ]
    }
   ],
   "source": [
    "# c) El flujo másico de vapor en kg/s (ṁrg) total y de las fracciones separadas tras la primera etapa de la turbina\n",
    "Ẇcycle_rg=100000\n",
    "\n",
    "ṁrg=Ẇcycle_rg/((h1rg-h2rg)+((1-y)*(h2rg-h3rg))-((1-y)*(h5rg-h4rg))-(h7rg-h6rg))\n",
    "\n",
    "print(\" ṁrg={} kg/s\".format(ṁrg))\n",
    "\n",
    "print(\"-----------------------------------\")\n",
    "\n",
    "ṁe=y*ṁrg\n",
    "\n",
    "print(\" ṁe={} kg/s\".format(ṁe))\n",
    "\n",
    "print(\"-----------------------------------\")\n",
    "\n",
    "ṁt2=(1-y)*ṁrg\n",
    "\n",
    "print(\" (ṁrg-ṁe)={} kg/s\".format(ṁt2))"
   ]
  },
  {
   "cell_type": "code",
   "execution_count": 65,
   "metadata": {
    "pycharm": {
     "name": "#%%\n"
    }
   },
   "outputs": [
    {
     "name": "stdout",
     "output_type": "stream",
     "text": [
      " Ẇt1_rg= 52.957505680000146 MW \n",
      " Ẇt2_rg= 48.13662879278148 MW \n",
      " Ẇpump1_rg= 0.0710576100477634 MW \n",
      " Ẇpump2_rg= 1.0230768627338458 MW\n",
      " Q̇cald_rg= 271.26535256369147 MW \n",
      " Q̇cond_rec= 171.26535256369144 MW\n"
     ]
    }
   ],
   "source": [
    "# De manera adicional, se calculan los trabajos y los calores cada uno con el flujo másico que lo atraviesa\n",
    "\n",
    "Ẇt1_rg=ṁrg*(h1rg-h2rg)/1000\n",
    "Ẇt2_rg=ṁt2*(h2rg-h3rg)/1000\n",
    "Ẇpump1_rg=ṁt2*(h5rg-h4rg)/1000\n",
    "Ẇpump2_rg=ṁrg*(h7rg-h6rg)/1000\n",
    "Q̇cald_rg=ṁrg*(h1rg-h7rg)/1000\n",
    "Q̇cond_rg=ṁt2*(h3rg-h4rg)/1000\n",
    "\n",
    "print(\" Ẇt1_rg= {} MW \\n Ẇt2_rg= {} MW \\n Ẇpump1_rg= {} MW \\n Ẇpump2_rg= {} MW\\n Q̇cald_rg= {} MW \\n Q̇cond_rec= {} MW\".format(Ẇt1_rg,Ẇt2_rg,Ẇpump1_rg,Ẇpump2_rg,Q̇cald_rg,Q̇cond_rg))"
   ]
  },
  {
   "cell_type": "code",
   "execution_count": 66,
   "metadata": {
    "pycharm": {
     "name": "#%%\n"
    }
   },
   "outputs": [
    {
     "data": {
      "text/plain": [
       "[<matplotlib.lines.Line2D at 0x1f7b4576af0>]"
      ]
     },
     "execution_count": 66,
     "metadata": {},
     "output_type": "execute_result"
    },
    {
     "data": {
      "image/png": "[encoded data removed]",
      "text/plain": [
       "<Figure size 792x468 with 1 Axes>"
      ]
     },
     "metadata": {
      "needs_background": "light"
     },
     "output_type": "display_data"
    }
   ],
   "source": [
    "# d) Dibujo del ciclo de vapor\n",
    "\n",
    "# Código para el tamaño del gráfico\n",
    "plt.figure(figsize=(11.0,6.5))\n",
    "\n",
    "# Código para el nombre de los ejes y el título\n",
    "plt.title(\"Ciclo con regeneración\")\n",
    "plt.xlabel('S [kJ/kg*K]')\n",
    "plt.ylabel('T [°C]')\n",
    "\n",
    "# Código para los puntos de saturación y su color (campana)\n",
    "svap=[s for s in [seu.tx2s(t, 1) for t in npt]]\n",
    "sliq=[s for s in [seu.tx2s(t, 0) for t in npt]]\n",
    "plt.plot(svap, npt, 'k')\n",
    "plt.plot(sliq, npt, 'k')\n",
    "\n",
    "# Le indicamos los puntos a señalar y unir\n",
    "t=[t1rg,t2rg,t3rg,t4rg,t5rg,t6rg,t7rg]\n",
    "s=[s1rg,s2rg,s3rg,s4rg,s5rg,s6rg,s7rg]\n",
    "\n",
    "t.append(seu.px2t(p1rg,0))\n",
    "s.append(seu.px2s(p1rg,0))\n",
    "\n",
    "t.append(seu.px2t(p1rg,1))\n",
    "s.append(seu.px2s(p1rg,1))\n",
    "\n",
    "t.append(t1rg)\n",
    "s.append(s1rg)\n",
    "\n",
    "plt.plot(s, t, 'go-')\n",
    "\n",
    "# Código para graficar el proceso de regeneración\n",
    "t.append(t6rg)\n",
    "s.append(seu.tx2s(t6rg,1))\n",
    "\n",
    "plt.plot(s, t, 'go')\n",
    "\n",
    "tb=[t2rg,t6rg]\n",
    "sb=[s2rg,s1rg]\n",
    "plt.plot(sb,tb, 'g-')\n",
    "\n",
    "tb=[t6rg,t6rg]\n",
    "sb=[s1rg,s6rg]\n",
    "plt.plot(sb,tb, 'g-')\n",
    "\n",
    "# Se añade la representación de las expansiones isoentrópicas en la turbina para poder comparar la diferencia entre el \n",
    "# proceso real y el ideal\n",
    "tb=[t1rg,t6rg]\n",
    "sb=[s1rg,s2rg_id]\n",
    "plt.plot(sb, tb, 'g--')\n",
    "\n",
    "tb=[t2rg,t3rg]\n",
    "sb=[s2rg,s3rg_id]\n",
    "plt.plot(sb, tb, 'g--')"
   ]
  },
  {
   "cell_type": "markdown",
   "metadata": {
    "pycharm": {
     "name": "#%% md\n"
    }
   },
   "source": [
    "# Ejercicio 6: Análisis de sensibilidad\n",
    "Tomando uno de los ciclos desarrollados en los ejercicios anteriores, realizar un análisis de\n",
    "sensibilidad variando sus propiedades iniciales (temperaturas, rendimientos de las turbinas y\n",
    "bombas, presiones…) y ver qué impacto tienen sobre los parámetros de desempeño del ciclo\n",
    "(rendimiento térmico del ciclo, potencias y calores, etc.). Se valorará positivamente la originalidad\n",
    "del análisis y la presentación del mismo: gráficas, mapas de calor, o cualquier medio original que se\n",
    "considere oportuno."
   ]
  },
  {
   "cell_type": "code",
   "execution_count": 67,
   "metadata": {
    "pycharm": {
     "name": "#%%\n"
    }
   },
   "outputs": [
    {
     "name": "stdout",
     "output_type": "stream",
     "text": [
      " p1rec= 10 Mpa \n",
      " v1rec= 0.02643930874103274 m3/kg \n",
      " x1rec= 1.0 p.u \n",
      " t1rec= 400.0 ºC \n",
      " h1rec= 3097.3752744944654 KJ/Kg \n",
      " s1rec= 6.213928893953556 KJ/Kg*K\n",
      "-----------------------------------\n",
      " p2rec= 0.8 Mpa \n",
      " v2rec= 0.2226772191866088 m3/kg \n",
      " x2rec= 0.9262150256719099 p.u \n",
      " t2rec= 170.41351082657434 ºC \n",
      " h2rec= 2617.243621847353 KJ/Kg \n",
      " s2rec= 6.32098390370485 KJ/Kg*K\n",
      "-----------------------------------\n",
      " p3rec= 0.8 Mpa \n",
      " v3rec= 0.36519748959696074 m3/kg \n",
      " x3rec= 1.0 p.u \n",
      " t3rec= 368.0 ºC \n",
      " h3rec= 3200.0347558510334 KJ/Kg \n",
      " s3rec= 7.470490424081761 KJ/Kg*K\n",
      "-----------------------------------\n",
      " p4rec= 0.008 Mpa \n",
      " v4rec= 16.75972196550168 m3/kg \n",
      " x4rec= 0.9259759557678162 p.u \n",
      " t4rec= 41.51005270424139 ºC \n",
      " h4rec= 2398.4042464066692 KJ/Kg \n",
      " s4rec= 7.662246246538501 KJ/Kg*K\n",
      "-----------------------------------\n",
      " p5rec= 0.008 Mpa \n",
      " v5rec= 0.0010084729266462307 m3/kg \n",
      " x5rec= 0 p.u \n",
      " t5rec= 41.51005270424139 ºC \n",
      " h5rec= 173.8517685972624 KJ/Kg \n",
      " s5rec= 0.592531583591964 KJ/Kg*K\n",
      "-----------------------------------\n",
      " p6rec= 10 Mpa \n",
      " v6rec= 0.0010043504463604868 m3/kg \n",
      " x6rec= 0.0 p.u \n",
      " t6rec= 42.14291082625596 ºC \n",
      " h6rec= 185.27823767200783 KJ/Kg \n",
      " s6rec= 0.5968827576234697 KJ/Kg*K\n"
     ]
    }
   ],
   "source": [
    "#Se va a realizar este ejercicio basando el ciclo con recalentamiento, que es el que más rendimiento ofrece\n",
    "\n",
    "#Se va a estudiar qué efecto tiene en el ciclo una reducción de la temperatura de entrada de las turbinas en un 20% \n",
    "#El objetivo de esta propuesta, es observar la variabilidad en la cantidad de combustible y el efecto de esto sobre el rendimiento\n",
    "\n",
    "# a) Cálculo de todos los estados del ciclo\n",
    "\n",
    "\n",
    "# Estado 1\n",
    "\n",
    "p1rec=10\n",
    "t1rec=0.8*500\n",
    "\n",
    "h1rec=seu.pt2h(p1rec,t1rec)\n",
    "s1rec=seu.pt2s(p1rec,t1rec)\n",
    "v1rec=seu.pt2v(p1rec,t1rec)\n",
    "x1rec=seu.pt2x(p1rec,t1rec)\n",
    "\n",
    "print(\" p1rec= {} Mpa \\n v1rec= {} m3/kg \\n x1rec= {} p.u \\n t1rec= {} ºC \\n h1rec= {} KJ/Kg \\n s1rec= {} KJ/Kg*K\".format(p1rec,v1rec,x1rec,t1rec,h1rec,s1rec))\n",
    "\n",
    "print(\"-----------------------------------\")\n",
    "\n",
    "\n",
    "# Estado 2 \n",
    "\n",
    "ηturb_hp=0.91\n",
    "\n",
    "p2rec=0.8\n",
    "s2rec_id=s1rec\n",
    "h2rec_id=seu.ps2h(p2rec,s2rec_id)\n",
    "h2rec=h1rec-(ηturb_hp*(h1rec-h2rec_id))\n",
    "\n",
    "s2rec=seu.ph2s(p2rec,h2rec)\n",
    "v2rec=seu.ph2v(p2rec,h2rec)\n",
    "t2rec=seu.ph2t(p2rec,h2rec)\n",
    "x2rec=seu.ph2x(p2rec,h2rec)\n",
    "\n",
    "print(\" p2rec= {} Mpa \\n v2rec= {} m3/kg \\n x2rec= {} p.u \\n t2rec= {} ºC \\n h2rec= {} KJ/Kg \\n s2rec= {} KJ/Kg*K\".format(p2rec,v2rec,x2rec,t2rec,h2rec,s2rec))\n",
    "\n",
    "print(\"-----------------------------------\")\n",
    "\n",
    "\n",
    "# Estado 3\n",
    "\n",
    "p3rec=0.8\n",
    "t3rec=0.8*460\n",
    "\n",
    "s3rec=seu.pt2s(p3rec,t3rec)\n",
    "v3rec=seu.pt2v(p3rec,t3rec)\n",
    "h3rec=seu.pt2h(p3rec,t3rec)\n",
    "x3rec=seu.pt2x(p3rec,t3rec)\n",
    "\n",
    "print(\" p3rec= {} Mpa \\n v3rec= {} m3/kg \\n x3rec= {} p.u \\n t3rec= {} ºC \\n h3rec= {} KJ/Kg \\n s3rec= {} KJ/Kg*K\".format(p3rec,v3rec,x3rec,t3rec,h3rec,s3rec))\n",
    "\n",
    "print(\"-----------------------------------\")\n",
    "\n",
    "\n",
    "# Estado 4\n",
    "\n",
    "ηturb_lp=0.93\n",
    "\n",
    "p4rec=0.008\n",
    "s4rec_id=s3rec\n",
    "h4rec_id=seu.ps2h(p4rec,s4rec_id)\n",
    "h4rec=h3rec-(ηturb_lp*(h3rec-h4rec_id))\n",
    "\n",
    "s4rec=seu.ph2s(p4rec,h4rec)\n",
    "v4rec=seu.ph2v(p4rec,h4rec)\n",
    "t4rec=seu.ph2t(p4rec,h4rec)\n",
    "x4rec=seu.ph2x(p4rec,h4rec)\n",
    "\n",
    "print(\" p4rec= {} Mpa \\n v4rec= {} m3/kg \\n x4rec= {} p.u \\n t4rec= {} ºC \\n h4rec= {} KJ/Kg \\n s4rec= {} KJ/Kg*K\".format(p4rec,v4rec,x4rec,t4rec,h4rec,s4rec))\n",
    "\n",
    "print(\"-----------------------------------\")\n",
    "\n",
    "\n",
    "# Estado 5\n",
    "\n",
    "x5rec=0\n",
    "p5rec=p4rec\n",
    "\n",
    "h5rec=seu.px2h(p5rec,x5rec)\n",
    "v5rec=seu.px2v(p5rec,x5rec)\n",
    "t5rec=seu.px2t(p5rec,x5rec)\n",
    "s5rec=seu.px2s(p5rec,x5rec)\n",
    "\n",
    "print(\" p5rec= {} Mpa \\n v5rec= {} m3/kg \\n x5rec= {} p.u \\n t5rec= {} ºC \\n h5rec= {} KJ/Kg \\n s5rec= {} KJ/Kg*K\".format(p5rec,v5rec,x5rec,t5rec,h5rec,s5rec))\n",
    "\n",
    "print(\"-----------------------------------\")\n",
    "\n",
    "\n",
    "# Estado 6\n",
    "\n",
    "ηpumprec=0.88\n",
    "\n",
    "p6rec=p1rec\n",
    "s6rec_id=s5rec\n",
    "h6rec_id=seu.ps2h(p6rec,s6rec_id)\n",
    "h6rec=h5rec+((h6rec_id-h5rec)/ηpumprec)\n",
    "\n",
    "s6rec=seu.ph2s(p6rec,h6rec)\n",
    "v6rec=seu.ph2v(p6rec,h6rec)\n",
    "t6rec=seu.ph2t(p6rec,h6rec)\n",
    "x6rec=seu.ph2x(p6rec,h6rec)\n",
    "\n",
    "print(\" p6rec= {} Mpa \\n v6rec= {} m3/kg \\n x6rec= {} p.u \\n t6rec= {} ºC \\n h6rec= {} KJ/Kg \\n s6rec= {} KJ/Kg*K\".format(p6rec,v6rec,x6rec,t6rec,h6rec,s6rec))\n"
   ]
  },
  {
   "cell_type": "code",
   "execution_count": 68,
   "metadata": {
    "pycharm": {
     "name": "#%%\n"
    }
   },
   "outputs": [
    {
     "name": "stdout",
     "output_type": "stream",
     "text": [
      " ηthrec= 36.34839316522231 %\n",
      " bwrrec= 0.8914656254246602 %\n"
     ]
    }
   ],
   "source": [
    "# El rendimiento térmico del ciclo en % (ηth)\n",
    "\n",
    "ηthrec=100*(h1rec-h2rec+h3rec-h4rec+h5rec-h6rec)/(h1rec-h6rec+h3rec-h2rec)\n",
    "\n",
    "print(\" ηthrec= {} %\".format(ηthrec))\n",
    "\n",
    "# El ratio de trabajo de retorno en % (back work ratio, bwr)\n",
    "\n",
    "bwrrec=100*(h6rec-h5rec)/(h1rec-h2rec+h3rec-h4rec)\n",
    "\n",
    "print(\" bwrrec= {} %\".format(bwrrec))"
   ]
  },
  {
   "cell_type": "code",
   "execution_count": 69,
   "metadata": {
    "pycharm": {
     "name": "#%%\n"
    }
   },
   "outputs": [
    {
     "name": "stdout",
     "output_type": "stream",
     "text": [
      " ṁrec_2= 157.43869994320147 kg/s\n",
      " Ẇt1_rec= 75.59130319434215 MW \n",
      " Ẇt2_rec= 126.20766524172699 MW \n",
      " Ẇpump_rec= 1.7989684360691163 MW \n",
      " Q̇cald_rec= 458.476771585777 MW \n",
      " Q̇rec_rec= 91.75387847596355 MW\n",
      "-----------------------------------\n",
      " Q̇total_rec2= 550.2306500617406 MW\n"
     ]
    }
   ],
   "source": [
    "# c) El flujo másico de vapor en kg/s (ṁ)\n",
    "\n",
    "Ẇcycle_rec=200000\n",
    "\n",
    "ṁrec_2=Ẇcycle_rec/(h1rec-h2rec+h3rec-h4rec+h5rec-h6rec)\n",
    "\n",
    "print(\" ṁrec_2= {} kg/s\".format(ṁrec_2))\n",
    "\n",
    "Ẇt1_rec=ṁrec_2*(h1rec-h2rec)/1000\n",
    "Ẇt2_rec=ṁrec_2*(h3rec-h4rec)/1000\n",
    "Ẇpump_rec=ṁrec_2*(h6rec-h5rec)/1000\n",
    "Q̇cald_rec=ṁrec_2*(h1rec-h6rec)/1000\n",
    "Q̇rec_rec=ṁrec_2*(h3rec-h2rec)/1000\n",
    "Q̇total_rec2=Q̇cald_rec+Q̇rec_rec\n",
    "\n",
    "print(\" Ẇt1_rec= {} MW \\n Ẇt2_rec= {} MW \\n Ẇpump_rec= {} MW \\n Q̇cald_rec= {} MW \\n Q̇rec_rec= {} MW\".format(Ẇt1_rec,Ẇt2_rec,Ẇpump_rec,Q̇cald_rec,Q̇rec_rec))\n",
    "print(\"-----------------------------------\")\n",
    "print(\" Q̇total_rec2= {} MW\".format(Q̇total_rec2))"
   ]
  },
  {
   "cell_type": "code",
   "execution_count": 70,
   "metadata": {
    "pycharm": {
     "name": "#%%\n"
    }
   },
   "outputs": [
    {
     "name": "stdout",
     "output_type": "stream",
     "text": [
      " ṁcomb_ej4= 18.42280926916221 kg/s \n",
      " ṁcomb_sens= 19.616065955855277 kg/s\n"
     ]
    }
   ],
   "source": [
    "# Para ambos casos, el del ejercicio 4, cuyo calor total es Q̇total_rec=516.7598 MW y en éste \n",
    "# cuyo calor total es Q̇total_rec2= 550.2306 MW, se propone un rendimiento del 85% en la caldera y carbón como combustible\n",
    "# que tiene 33000 kJ/kg de poder calorífico \n",
    "\n",
    "Lc=33000\n",
    "ṁcomb_ej4=(516.7598*1000)/(0.85*Lc)\n",
    "\n",
    "ṁcomb_sens=(Q̇total_rec2*1000)/(0.85*Lc) \n",
    "\n",
    "\n",
    "print(\" ṁcomb_ej4= {} kg/s \\n ṁcomb_sens= {} kg/s\".format(ṁcomb_ej4,ṁcomb_sens))\n"
   ]
  },
  {
   "cell_type": "code",
   "execution_count": 71,
   "metadata": {
    "pycharm": {
     "name": "#%%\n"
    }
   },
   "outputs": [],
   "source": [
    "# De aquí resulta la paradoja que quería estudiar. En un principio, al reducir la temperatura de entrada a las turbinas, \n",
    "# debería resultar en un menor aporte de calor por parte de la caldera. \n",
    "\n",
    "# Lo que sucede es que al variar estos puntos y sus entalpías, el proceso reduce su rendimiento en un 2% y esto afecta\n",
    "# directamente al trabajo que el ciclo es capaz de llevar a cabo. \n",
    "\n",
    "# Esta pérdida en la eficiencia desemboca en la necesidad de un mayor flujo másico de combustible ya que es necesario \n",
    "# un mayor aporte de calor (a pesar de tener que alcanzar temperaturas menores) para producir la misma potencia \n"
   ]
  },
  {
   "cell_type": "code",
   "execution_count": 72,
   "metadata": {
    "pycharm": {
     "name": "#%%\n"
    }
   },
   "outputs": [
    {
     "data": {
      "text/plain": [
       "[<matplotlib.lines.Line2D at 0x1f7b6408f70>]"
      ]
     },
     "execution_count": 72,
     "metadata": {},
     "output_type": "execute_result"
    },
    {
     "data": {
      "image/png": "[encoded data removed]",
      "text/plain": [
       "<Figure size 792x468 with 1 Axes>"
      ]
     },
     "metadata": {
      "needs_background": "light"
     },
     "output_type": "display_data"
    }
   ],
   "source": [
    "# e) Dibujo del ciclo de vapor\n",
    "\n",
    "# Código para el tamaño del gráfico\n",
    "plt.figure(figsize=(11.0,6.5))\n",
    "\n",
    "# Código para el nombre de los ejes y el título\n",
    "plt.title(\"Ciclo con recalentamiento\")\n",
    "plt.xlabel('S [kJ/kg*K]')\n",
    "plt.ylabel('T [°C]')\n",
    "\n",
    "# Código para los puntos de saturación y su color (campana)\n",
    "svap=[s for s in [seu.tx2s(t, 1) for t in npt]]\n",
    "sliq=[s for s in [seu.tx2s(t, 0) for t in npt]]\n",
    "plt.plot(svap, npt, 'k')\n",
    "plt.plot(sliq, npt, 'k')\n",
    "\n",
    "# Le indicamos los puntos a señalar y unir\n",
    "t=[t1rec,t2rec,t3rec,t4rec,t5rec,t6rec]\n",
    "s=[s1rec,s2rec,s3rec,s4rec,s5rec,s6rec]\n",
    "\n",
    "t.append(seu.px2t(p1rec,0))\n",
    "s.append(seu.px2s(p1rec,0))\n",
    "\n",
    "# Se añade el punto de sobrecalentamiento\n",
    "t.append(seu.px2t(p1rec,1))\n",
    "s.append(seu.px2s(p1rec,1))\n",
    "\n",
    "t.append(t1rec)\n",
    "s.append(s1rec)\n",
    "\n",
    "plt.plot(s, t, 'go-')\n",
    "\n",
    "# Se añade la representación de la expansión isoentrópica en las fases de la turbina para poder comparar la diferencia entre el \n",
    "# proceso real y el ideal\n",
    "tb=[t1rec,t4rec]\n",
    "sb=[s1rec,s2rec_id]\n",
    "plt.plot(sb, tb, 'g--')\n",
    "\n",
    "tb=[t3rec,t4rec]\n",
    "sb=[s3rec,s4rec_id]\n",
    "plt.plot(sb, tb, 'g--')"
   ]
  },
  {
   "cell_type": "code",
   "execution_count": null,
   "metadata": {
    "pycharm": {
     "name": "#%%\n"
    }
   },
   "outputs": [],
   "source": []
  }
 ],
 "metadata": {
  "kernelspec": {
   "display_name": "Python 3",
   "language": "python",
   "name": "python3"
  },
  "language_info": {
   "codemirror_mode": {
    "name": "ipython",
    "version": 3
   },
   "file_extension": ".py",
   "mimetype": "text/x-python",
   "name": "python",
   "nbconvert_exporter": "python",
   "pygments_lexer": "ipython3",
   "version": "3.8.6"
  }
 },
 "nbformat": 4,
 "nbformat_minor": 4
}