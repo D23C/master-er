{
 "cells": [
  {
   "cell_type": "markdown",
   "metadata": {
    "pycharm": {
     "name": "#%% md\n"
    }
   },
   "source": [
    "# Ciclos de Vapor\n",
    "## Introducción a la Producción Energética Convencional - Máster de Energías Renovables\n",
    "### Sara Miquel. Enero 2021\n"
   ]
  },
  {
   "cell_type": "code",
   "execution_count": 1,
   "metadata": {
    "pycharm": {
     "name": "#%%\n"
    }
   },
   "outputs": [
    {
     "name": "stdout",
     "output_type": "stream",
     "text": [
      "Requirement already satisfied: seuif97 in c:\\users\\usuari\\anaconda3\\lib\\site-packages (1.1.0.7)\n",
      "Note: you may need to restart the kernel to use updated packages.\n"
     ]
    }
   ],
   "source": [
    "pip install seuif97"
   ]
  },
  {
   "cell_type": "code",
   "execution_count": 2,
   "metadata": {
    "pycharm": {
     "name": "#%%\n"
    }
   },
   "outputs": [],
   "source": [
    "from seuif97 import *"
   ]
  },
  {
   "cell_type": "markdown",
   "metadata": {
    "pycharm": {
     "name": "#%% md\n"
    }
   },
   "source": [
    "## Ejercicio 1: Ciclo de Rankine Ideal"
   ]
  },
  {
   "cell_type": "markdown",
   "metadata": {
    "pycharm": {
     "name": "#%% md\n"
    }
   },
   "source": [
    "El ciclo Rankine del vapor es ampliamente utilizado en las plantas de potencia para generar electricidad aprovechando la expansión del vapor a alta temperatura y presión. Los componentes del ciclo Rankine (bomba, caldera, turbina y condensador) son dispositivos de flujo estacionario."
   ]
  },
  {
   "cell_type": "code",
   "execution_count": 3,
   "metadata": {
    "pycharm": {
     "name": "#%%\n"
    }
   },
   "outputs": [],
   "source": [
    "# Datos del enunciado\n",
    "P1 = 8 \n",
    "P2 = 0.008 \n",
    "X1=1\n",
    "Wcycle = 100000\n",
    "# W cycle = 100 KW; W cycle = 100000 MW\n",
    "# Entalpía,h (KJ/kg);   Entropía,S (KJ/Kg·K);   Temperatura, T (ºC);   Presión, P (MPa);   Calidad, X"
   ]
  },
  {
   "cell_type": "markdown",
   "metadata": {
    "pycharm": {
     "name": "#%% md\n"
    }
   },
   "source": [
    "Se calculan los siguientes parámetros: \n",
    "a) Cálculo de todos los estados del ciclo\n",
    "b) El rendimiento térmico en % (ηth)\n",
    "c) El ratio de trabajo de retorno en % (back work ratio, bwr)\n",
    "d) El flujo másico de vapor en kg/s (ṁ)\n",
    "e) Los calores intercambiados en MW (Qin y Qout)\n",
    "f) Los trabajos de la turbina y la bomba en MW (Wp y Wt)\n",
    "g) (Opcional) Dibujo del ciclo de vapor"
   ]
  },
  {
   "cell_type": "code",
   "execution_count": 4,
   "metadata": {
    "pycharm": {
     "name": "#%%\n"
    }
   },
   "outputs": [],
   "source": [
    "# Estados termodinámicos del proceso del ciclo ideal\n",
    "\n",
    "# Estado 1: X1=1; P1= 8\n",
    "T1 = px2t(P1,X1) \n",
    "h1 = px2h(P1,X1) \n",
    "S1 = px2s(P1,X1) \n",
    "\n",
    "# Estado 2: S2=S1=5.74; P2= 0.008\n",
    "S2=S1\n",
    "T2 = ps2t(P2,S2)\n",
    "h2 = ps2h(P2,S2)\n",
    "X2 = ps2x(P2,S2)\n",
    "V2 = ps2v(P2,S2)\n",
    "\n",
    "# Estado 3: T3=T2=41.510052; X3=0\n",
    "T3=T2\n",
    "X3 = 0\n",
    "P3 = tx2p(T3,X3)\n",
    "h3 = tx2h(T3,X3)\n",
    "S3 = tx2s(T3,X3)\n",
    "V3 = tx2v(T3,X3)\n",
    "\n",
    "# Estado 4: S4=S3=0.59253; P4=P1=8\n",
    "S4=S3\n",
    "P4=P1\n",
    "T4 = ps2t(P4,S4)\n",
    "h4 = ps2h(P4,S4)\n",
    "X4 = ps2x(P4,S4)\n",
    "V4 = ps2v(P4,S4)\n",
    "\n",
    "# Estado 5\n",
    "T5i = px2t(P1,0)\n",
    "S5i = px2s(P1,0)\n"
   ]
  },
  {
   "cell_type": "code",
   "execution_count": 5,
   "metadata": {
    "pycharm": {
     "name": "#%%\n"
    }
   },
   "outputs": [],
   "source": [
    "# Cálculo del rendimiento\n",
    "m = Wcycle/((h1-h2)-(h4-h3))\n",
    "Wt = m * (h1-h2)\n",
    "Wp = m * (h4 - h3)\n",
    "Qin = m * (h4-h1)\n",
    "Qout = m * (h3-h2)\n",
    "Rendimiento = (abs((Wt-Wp)/Qin)*100)\n",
    "bwr = (Wp/Wt)*100 # ratio de trabajo de retorno\n",
    "WcycleW = Qin - Qout # Para calcular las potencias, hace falta hacer el cálculo del flujo\n",
    "Qout = m * (h3-h2)\n",
    "m = Wcycle/((h1-h2)-(h4-h3)) # Diferencias entre turbina - bomba\n",
    "Qout = abs(m * (h3-h2)) # en MW\n",
    "Qin = abs(m * (h4-h1))\n",
    "Wt = m * (h1-h2) # En MW\n",
    "Wp = m * (h4 - h3)"
   ]
  },
  {
   "cell_type": "code",
   "execution_count": 6,
   "metadata": {
    "pycharm": {
     "name": "#%%\n"
    }
   },
   "outputs": [
    {
     "name": "stdout",
     "output_type": "stream",
     "text": [
      "Estado 1\n",
      "T1 = 295.00912125631703 ºC\n",
      "h1 = 2758.611080680434 kJ/kg\n",
      "S1 = 5.744848808940075 kJ/kg·K\n",
      "Estado 2\n",
      "T2 = 41.51005270424139\n",
      "h2 = 1795.0770367371815\n",
      "X2 = 0.6748393810242206\n",
      "V2 = 12.214543575697041 m^3/kg\n",
      "Estado 3\n",
      "P3 = 0.007999999999999962\n",
      "h3 = 173.8517685972624\n",
      "S3 = 0.592531583591964\n",
      "V3 = 0.0010084729266462307\n",
      "Estado 4\n",
      "T4 = 41.75196883675659\n",
      "h4 = 181.89778626716353\n",
      "X4 = 0.0\n",
      "V4 = 0.001005058770876371\n",
      "Estado 5\n",
      "S5i = 3.207651008044679\n",
      "T5i = 295.00912125631703\n",
      "El rendimiento térmico (%) es de: 37.08165857431649\n",
      "bwr (%) = 0.8350527644018554\n",
      "bwr, es la variable que nos define la cantidad consumida de la total producida\n",
      "m (kg/s)= 104.65855902980353\n",
      "Qout (MW) = 169675.10042623078\n",
      "Qin (MW) = 269675.10042623075\n",
      "Wt (MW) = 100842.0846152602\n",
      "Wp (MW) = 842.0846152601885\n"
     ]
    }
   ],
   "source": [
    "print( 'Estado 1')\n",
    "print ('T1 =', T1, 'ºC')\n",
    "print ('h1 =',h1,'kJ/kg')\n",
    "print ('S1 =',S1,'kJ/kg·K')\n",
    "\n",
    "print('Estado 2')\n",
    "print ('T2 =',T2)\n",
    "print ('h2 =',h2)\n",
    "print ('X2 =',X2)\n",
    "print ('V2 =',V2, 'm^3/kg')\n",
    "\n",
    "print('Estado 3')\n",
    "print ('P3 =',P3)\n",
    "print ('h3 =',h3)\n",
    "print ('S3 =',S3)\n",
    "print ('V3 =',V3)\n",
    "\n",
    "print('Estado 4')\n",
    "print ('T4 =',T4)\n",
    "print ('h4 =',h4)\n",
    "print ('X4 =',X4)\n",
    "print ('V4 =',V4)\n",
    "\n",
    "print('Estado 5')\n",
    "print('S5i =',S5i)\n",
    "print('T5i =',T5i)\n",
    "\n",
    "print ('El rendimiento térmico (%) es de:',Rendimiento)\n",
    "print('bwr (%) =',bwr)\n",
    "print ('bwr, es la variable que nos define la cantidad consumida de la total producida')\n",
    "print ('m (kg/s)=',m)\n",
    "print ('Qout (MW) =', Qout)\n",
    "print ('Qin (MW) =', Qin)\n",
    "print ('Wt (MW) =', Wt)\n",
    "print ('Wp (MW) =', Wp)\n"
   ]
  },
  {
   "cell_type": "markdown",
   "metadata": {
    "pycharm": {
     "name": "#%% md\n"
    }
   },
   "source": [
    "#### Representación del ciclo de vapor ideal\n",
    "El diagrama T-s (temperatura y entropía) de un ciclo Rankine ideal está formado por cuatro procesos: dos isoentrópicos y dos isobáricos. La bomba y la turbina son los equipos que operan según procesos isoentrópicos (adiabáticos e internamente reversibles). La caldera y el condensador operan sin pérdidas de carga y por tanto sin caídas de presión. Los estados principales del ciclo quedan definidos por los números del 1 al 4 en el diagrama T-s (1: vapor sobrecalentado; 2: mezcla bifásica de título elevado o vapor húmedo; 3: líquido saturado; 4: líquido subenfriado)."
   ]
  },
  {
   "cell_type": "code",
   "execution_count": 17,
   "metadata": {
    "pycharm": {
     "name": "#%%\n"
    }
   },
   "outputs": [
    {
     "data": {
      "text/plain": [
       "[<matplotlib.lines.Line2D at 0x1507f6da4f0>]"
      ]
     },
     "execution_count": 17,
     "metadata": {},
     "output_type": "execute_result"
    },
    {
     "data": {
      "image/png": "[encoded data removed]",
      "text/plain": [
       "<Figure size 1080x576 with 1 Axes>"
      ]
     },
     "metadata": {
      "needs_background": "light"
     },
     "output_type": "display_data"
    }
   ],
   "source": [
    "%matplotlib inline\n",
    "import matplotlib.pyplot as plt\n",
    "import numpy as np\n",
    "\n",
    "plt.figure(figsize=(15.0,8.0))\n",
    "\n",
    "S_ideal=[S1,S2,S3,S4,S5i,S1]\n",
    "T_ideal=[T1,T2,T3,T4,T5i,T1]\n",
    "\n",
    "plt.plot(S_ideal, T_ideal, 'o-')\n",
    "plt.xlabel('Entropy (kJ/kg*K)')\n",
    "plt.ylabel('Temperature (°C)')\n",
    "plt.title('Diagrama T-S. Ciclo de Rankine Ideal')\n",
    "plt.grid()\n",
    "\n",
    "# saturated vapor and liquid entropy lines \n",
    "npt = np.linspace(10,647.096-273.15,200) # range of temperatures\n",
    "svap = [s for s in [tx2s(t, 1) for t in npt]]\n",
    "sliq = [s for s in [tx2s(t, 0) for t in npt]]\n",
    "plt.plot(svap, npt, 'forestgreen')\n",
    "plt.plot(sliq, npt, 'forestgreen')"
   ]
  },
  {
   "cell_type": "markdown",
   "metadata": {
    "pycharm": {
     "name": "#%% md\n"
    }
   },
   "source": [
    "## Ejercicio 2: Ciclo de Rankine con irreversibilidades"
   ]
  },
  {
   "cell_type": "markdown",
   "metadata": {
    "pycharm": {
     "name": "#%% md\n"
    }
   },
   "source": [
    "Al implementar el ciclo ideal Rankine en una instalación de producción de potencia se presentan desviaciones de las magnitudes debido a la irreversibilidad de los procesos y equipos. Las irreversibilidades se clasifican en dos tipos: Irreversibilidades internas y externas. El trabajo real necesario para aumentar la presión del líquido en la bomba será mayor que el ideal (isentrópico) mientras que el trabajo real de expansión obtenido en la turbina será menor que el ideal debido a las pérdidas internas."
   ]
  },
  {
   "cell_type": "code",
   "execution_count": 19,
   "metadata": {
    "pycharm": {
     "name": "#%%\n"
    }
   },
   "outputs": [],
   "source": [
    "# Datos del enunciado  Nota: Se utiliza la 'r' de real\n",
    "\n",
    "RendT=0.85\n",
    "RendP=0.85\n",
    "\n",
    "# Estado 2 Real\n",
    "\n",
    "h2r = h1 - RendT*(h1-h2)\n",
    "T2r=T2 # A partir de estos datos calculamos el resto\n",
    "P2r = th2p(T2, h2r)\n",
    "S2r = th2s(T2, h2r)\n",
    "V2r = th2v(T2, h2r)\n",
    "X2r = th2x(T2, h2r)\n",
    "\n",
    "# Estado 4 Real\n",
    "h4r = h3 + ((h4-h3)/RendP) # A partir de la entalpía y presión (igual que el ideal), calculamos el resto\n",
    "P4r = P4\n",
    "T4r = ph2t(P4,h4r)\n",
    "S4r = ph2s(P4,h4r)\n",
    "V4r = ph2v(P4,h4r)\n",
    "X4r = ph2x(P4,h4r)\n",
    "\n",
    "# Se calcula el rendimiento real, El back work ratio, el flujo másico de vapor, los calores intercambiados en MW y \n",
    "# los los trabajos de la turbina y la bomba en MW (Wp y Wt)\n",
    "mr = Wcycle / ((h1-h2r) - (h4r-h3)) # Diferencia turbina - bomba\n",
    "Qoutr = (mr * (h2r - h3)) / 1000 \n",
    "Qinr = (mr * (h1 - h4r)) / 1000\n",
    "Wtr = (mr * (h1 - h2r)) / 1000 \n",
    "Wpr = (mr * (h4r - h3)) / 1000\n",
    "Rendimientor = (Wtr - Wpr) / Qinr * 100"
   ]
  },
  {
   "cell_type": "code",
   "execution_count": 20,
   "metadata": {
    "pycharm": {
     "name": "#%%\n"
    }
   },
   "outputs": [
    {
     "name": "stdout",
     "output_type": "stream",
     "text": [
      "ESTADO 2\n",
      "Entalpía estado 2 (h2r) = 1939.6071433286693\n",
      "Presión estado 2 (P2r) = 0.007999999999999962\n",
      "Entropía estado 2 (S2r) = 6.204171132868009\n",
      "Vol estado 2 (V2r) = 13.303364213366768\n",
      "X2r = 0.7350004268630066\n",
      "ESTADO 4\n",
      "Entalpía estado 4 (h4r) = 183.31767173832256\n",
      "Presión estado 4 (P4r) = 8\n",
      "Temperatura estado 4 (T4r) = 42.093300748692855\n",
      "Entropía estado 4 (S4r) = 0.5970381178051598\n",
      "Vol estado 4 (V4r) = 0.001005196435764367\n",
      "X4r = 0.0\n",
      "mr =  123.52724118453493 kg/s\n",
      "Calor especifico en el condensador, Qoutr = 218.11889004733536 MW\n",
      "Calor especifico en la caldera, Qinr = 318.11889004733536 MW\n",
      "Trabajo especifico de la turbina, Wtr = 101.16929690033517 MW\n",
      "Trabajo especifico de la bomba,  Wpr = 1.1692969003351843 MW\n",
      "Rendimiento térmico = 31.43478841672062 %\n"
     ]
    }
   ],
   "source": [
    "print('ESTADO 2')\n",
    "print('Entalpía estado 2 (h2r) =',h2r) \n",
    "print('Presión estado 2 (P2r) =',P2r)\n",
    "print('Entropía estado 2 (S2r) =',S2r)\n",
    "print('Vol estado 2 (V2r) =',V2r)\n",
    "print('X2r =',X2r)\n",
    "\n",
    "print('ESTADO 4')\n",
    "print ('Entalpía estado 4 (h4r) =',h4r) \n",
    "print('Presión estado 4 (P4r) =',P4r)\n",
    "print('Temperatura estado 4 (T4r) =',T4r)\n",
    "print('Entropía estado 4 (S4r) =',S4r)\n",
    "print('Vol estado 4 (V4r) =',V4r)\n",
    "print('X4r =',X4r)\n",
    "\n",
    "print ('mr = ',mr, 'kg/s')\n",
    "print ('Calor especifico en el condensador, Qoutr =', Qoutr, 'MW')\n",
    "print ('Calor especifico en la caldera, Qinr =', Qinr, 'MW')\n",
    "print ('Trabajo especifico de la turbina, Wtr =', Wtr, 'MW')\n",
    "print ('Trabajo especifico de la bomba,  Wpr =',  Wpr, 'MW')\n",
    "print ('Rendimiento térmico =',Rendimientor, '%') "
   ]
  },
  {
   "cell_type": "markdown",
   "metadata": {
    "pycharm": {
     "name": "#%% md\n"
    }
   },
   "source": [
    "#### Representación ciclo real"
   ]
  },
  {
   "cell_type": "code",
   "execution_count": 24,
   "metadata": {
    "pycharm": {
     "name": "#%%\n"
    }
   },
   "outputs": [
    {
     "data": {
      "text/plain": [
       "[<matplotlib.lines.Line2D at 0x1507f852d00>]"
      ]
     },
     "execution_count": 24,
     "metadata": {},
     "output_type": "execute_result"
    },
    {
     "data": {
      "image/png": "[encoded data removed]",
      "text/plain": [
       "<Figure size 1080x576 with 1 Axes>"
      ]
     },
     "metadata": {
      "needs_background": "light"
     },
     "output_type": "display_data"
    }
   ],
   "source": [
    "%matplotlib inline\n",
    "import matplotlib.pyplot as plt\n",
    "import numpy as np\n",
    "\n",
    "plt.figure(figsize=(15.0,8.0))\n",
    " \n",
    "S_ideal=[S1,S2,S3,S4,S5i,S1]\n",
    "T_ideal=[T1,T2,T3,T4,T5i,T1]      \n",
    "S_real=[S1,S2r,S3,S4r,S5i,S1]\n",
    "T_real=[T1,T2r,T3,T4r,T5i,T1]\n",
    "\n",
    "plt.plot(S_ideal, T_ideal, 'o-')\n",
    "plt.plot(S_real, T_real, 'o--')\n",
    "plt.legend(('Ideal','Real'))\n",
    "plt.xlabel('Entropy (kJ/ kg*K)')\n",
    "plt.ylabel('Temperature (°C)')\n",
    "plt.title('Diagrama T-S. Rankine Ciclos real e ideal')\n",
    "plt.grid()\n",
    "\n",
    "# Representación de la línea\n",
    "npt = np.linspace(10,647.096-273.15,200) # range of temperatures\n",
    "svap = [s for s in [tx2s(t, 1) for t in npt]]\n",
    "sliq = [s for s in [tx2s(t, 0) for t in npt]]\n",
    "plt.plot(svap, npt, 'forestgreen')\n",
    "plt.plot(sliq, npt, 'forestgreen')"
   ]
  },
  {
   "cell_type": "markdown",
   "metadata": {
    "pycharm": {
     "name": "#%% md\n"
    }
   },
   "source": [
    " ## Ejercicio 3: Ciclo de Rankine con sobrecalentamiento"
   ]
  },
  {
   "cell_type": "markdown",
   "metadata": {
    "pycharm": {
     "name": "#%% md\n"
    }
   },
   "source": [
    "La temperatura promedio a la que el calor es transferido hacia el vapor puede ser  incrementada sin aumentar la presión de la caldera, gracias al sobrecalentamiento  del vapor a altas temperaturas. El sobrecalentamiento del vapor a temperaturas más altas tiene otro efecto muy conveniente: disminuye el contenido de humedad del vapor a la salida de la turbina"
   ]
  },
  {
   "cell_type": "code",
   "execution_count": 25,
   "metadata": {
    "pycharm": {
     "name": "#%%\n"
    }
   },
   "outputs": [],
   "source": [
    "# Datos del enunciado. Nota: Se utiliza la 's' de sobrecalentamiento\n",
    "P1s = 8 \n",
    "P2s = 0.008 \n",
    "T1s = 450 # (ºC)\n",
    "Wcycles = 100000\n",
    "RendTs = 0.85\n",
    "RendPs = 0.85"
   ]
  },
  {
   "cell_type": "code",
   "execution_count": 26,
   "metadata": {
    "pycharm": {
     "name": "#%%\n"
    }
   },
   "outputs": [],
   "source": [
    "# Cálculo de los estados del ciclo\n",
    "\n",
    "# ESTADO 1, partiendo de los datos de P1s y T1s\n",
    "\n",
    "h1s = pt2h(P1s,T1s)\n",
    "S1s = pt2s(P1s,T1s)\n",
    "V1s = pt2v(P1s,T1s)\n",
    "X1s = pt2x(P1s,T1s)\n",
    "\n",
    "# ESTADO 2; Primero se calcula el ideal (Nota: se utiliza 'i' de ideal)\n",
    "\n",
    "S2is=S1s\n",
    "T2is = ps2t(P2s,S2is)\n",
    "h2is = ps2h(P2s,S2is)\n",
    "X2is = ps2x(P2s,S2is)\n",
    "V2is = ps2v(P2s,S2is)\n",
    "\n",
    "# ESTADO 2 REAL; A partir de (T2si=T2sr)\n",
    "\n",
    "h2rs = h1s - RendTs*(h1s-h2is)\n",
    "T2rs=T2is\n",
    "P2rs = th2p(T2is, h2rs)\n",
    "S2rs = th2s(T2is, h2rs)\n",
    "V2rs = th2v(T2is, h2rs)\n",
    "X2rs = th2x(T2is, h2rs)\n",
    "\n",
    "# ESTADO 3\n",
    "\n",
    "T3s=T2is\n",
    "X3s=0\n",
    "P3s = tx2p(T3s,X3s)\n",
    "h3s = tx2h(T3s,X3s)\n",
    "S3s = tx2s(T3s,X3s)\n",
    "V3s = tx2v(T3s,X3s)\n",
    "\n",
    "# ESTADO 4 (Ideal)\n",
    "\n",
    "S4s=S3s\n",
    "P4s=P1s\n",
    "T4is = ps2t(P4s,S4s)\n",
    "h4is = ps2h(P4s,S4s)\n",
    "X4is = ps2x(P4s,S4s)\n",
    "V4is = ps2v(P4s,S4s)\n",
    "\n",
    "# ESTADO 4 REAL. Nota: 'r' de real. Obtenemos la entalpía real y la presión es la misma que en el estado 4\n",
    "\n",
    "h4rs = h3s + ((h4is-h3s)/RendPs) \n",
    "T4rs = ph2t(P4s,h4rs)\n",
    "S4rs = ph2s(P4s,h4rs)\n",
    "V4rs = ph2v(P4s,h4rs)\n",
    "X4rs = ph2x(P4s,h4rs)\n",
    "\n",
    "# ESTADO 5\n",
    "\n",
    "T5s=T1\n",
    "X5s=0\n",
    "S5s = tx2s(T5s,X5s)\n",
    "P5s = tx2p(T5s,X5s)\n",
    "h5s = tx2h(T5s,X5s)\n",
    "V5s = tx2v(T5s,X5s)"
   ]
  },
  {
   "cell_type": "code",
   "execution_count": 27,
   "metadata": {
    "pycharm": {
     "name": "#%%\n"
    }
   },
   "outputs": [
    {
     "name": "stdout",
     "output_type": "stream",
     "text": [
      "ESTADO 1:\n",
      "h1s = 3273.2340290678903\n",
      "S1s = 6.55767674925585\n",
      "V1s = 0.03819698603253424\n",
      "X1s = 1.0\n",
      "P1s = 8\n",
      "T1s = 450\n",
      "ESTADO 2 IDEAL:\n",
      "T2is = 41.51005270424139\n",
      "h2is = 2050.8410236685245\n",
      "X2is = 0.781301828915292\n",
      "V2is = 14.141347021090214 m^3/kg\n",
      "S2is = 6.55767674925585\n",
      "P2s = 0.008\n",
      "ESTADO 2 REAL:\n",
      "h2rs 2234.1999744784293\n",
      "P2rs = 0.007999999999999962\n",
      "S2rs = 7.140398656720041\n",
      "V2rs = 15.5226855840485\n",
      "X2rs = 0.8576254856590433\n",
      "T2rs = 41.51005270424139\n",
      "ESTADO 3\n",
      "P3s = 0.007999999999999962\n",
      "h3s = 173.8517685972624\n",
      "S3s = 0.592531583591964\n",
      "V3s = 0.0010084729266462307\n",
      "T3s = 41.51005270424139\n",
      "ESTADO 4 ideal:\n",
      "T4is = 41.75196883675659\n",
      "h4is = 181.89778626716353\n",
      "X4is = 0.0\n",
      "V4is = 0.001005058770876371\n",
      "S4s = 0.592531583591964\n",
      "P4s = 8\n",
      "ESTADO 4 REAL:\n",
      "h4rs = 183.31767173832256\n",
      "T4rs = 42.093300748692855\n",
      "S4rs = 0.5970381178051598\n",
      "V4rs = 0.001005196435764367\n",
      "X4rs = 0.0\n",
      "P4s = 8\n",
      "ESTADO 5\n",
      "S5s =  3.2076510080446785\n",
      "T5s = 295.00912125631703\n"
     ]
    }
   ],
   "source": [
    "print('ESTADO 1:')\n",
    "print('h1s =',h1s)\n",
    "print('S1s =',S1s)\n",
    "print('V1s =',V1s)\n",
    "print('X1s =',X1s)\n",
    "print('P1s =',P1s)\n",
    "print('T1s =',T1s)\n",
    "\n",
    "print ('ESTADO 2 IDEAL:')\n",
    "print('T2is =',T2is)\n",
    "print('h2is =',h2is)\n",
    "print('X2is =',X2is)\n",
    "print('V2is =',V2is, 'm^3/kg')\n",
    "print('S2is =',S2is)\n",
    "print('P2s =',P2s)\n",
    "\n",
    "print ('ESTADO 2 REAL:')\n",
    "print ('h2rs',h2rs)\n",
    "print('P2rs =',P2rs)\n",
    "print('S2rs =',S2rs)\n",
    "print('V2rs =',V2rs)\n",
    "print('X2rs =',X2rs)\n",
    "print('T2rs =',T2rs)\n",
    "\n",
    "print('ESTADO 3')\n",
    "print('P3s =',P3s)\n",
    "print('h3s =',h3s)\n",
    "print('S3s =',S3s)\n",
    "print('V3s =',V3s)\n",
    "print('T3s =',T3s)\n",
    "\n",
    "print('ESTADO 4 ideal:')\n",
    "print ('T4is =',T4is)\n",
    "print ('h4is =',h4is)\n",
    "print ('X4is =',X4is)\n",
    "print ('V4is =',V4is)\n",
    "print('S4s =',S4s)\n",
    "print('P4s =', P4s) \n",
    "\n",
    "print('ESTADO 4 REAL:')\n",
    "print ('h4rs =',h4rs) \n",
    "print('T4rs =',T4rs)\n",
    "print('S4rs =',S4rs)\n",
    "print('V4rs =',V4rs)\n",
    "print('X4rs =',X4rs)\n",
    "print('P4s =', P4s) \n",
    "\n",
    "print('ESTADO 5')\n",
    "print('S5s = ',S5s)\n",
    "print('T5s =',T5s)"
   ]
  },
  {
   "cell_type": "code",
   "execution_count": 28,
   "metadata": {
    "pycharm": {
     "name": "#%%\n"
    }
   },
   "outputs": [],
   "source": [
    "# Se calcula el rendimiento térmico en % (ηth), el ratio de trabajo de retorno en % (bwr), \n",
    "# el flujo másico de vapor en kg/s (ṁ), los calores intercambiados en MW (Qin y Qout), \n",
    "# los trabajos de la turbina y la bomba en MW (Wp y Wt).\n",
    "\n",
    "mrs = Wcycle/((h1s-h2rs)-(h4rs-h3s)) # Diferencia turbina - bomba\n",
    "Qoutrs = (mrs * (h2rs-h3s))/1000\n",
    "Qinrs = (mrs * (h1s-h4rs))/1000\n",
    "Wtrs = (mrs * (h1s-h2rs))/1000\n",
    "Wprs = (mrs * (h4rs - h3s))/1000\n",
    "Rendimientors = (Wtrs-Wprs)/Qinrs *100"
   ]
  },
  {
   "cell_type": "code",
   "execution_count": 29,
   "metadata": {
    "pycharm": {
     "name": "#%%\n"
    }
   },
   "outputs": [
    {
     "name": "stdout",
     "output_type": "stream",
     "text": [
      "Wcycle = 100000 MW\n",
      "mrs = 97.1281015825126 kg/s\n",
      "Qoutrs = 200.11770983617356 MW\n",
      "Qinrs = 300.11770983617356 MW\n",
      "Wtrs 100.91940520185511 MW\n",
      "Wprs 0.9194052018551155 MW\n",
      "Rendimiento térmico  = 33.32025959234042 %\n"
     ]
    }
   ],
   "source": [
    "print('Wcycle =', Wcycle,'MW')\n",
    "print ('mrs =',mrs, 'kg/s')\n",
    "print ('Qoutrs =', Qoutrs, 'MW')\n",
    "print ('Qinrs =', Qinrs,'MW' )\n",
    "print ('Wtrs', Wtrs, 'MW')\n",
    "print ('Wprs', Wprs, 'MW')\n",
    "print ('Rendimiento térmico  =',Rendimientors, '%')"
   ]
  },
  {
   "cell_type": "code",
   "execution_count": 31,
   "metadata": {
    "pycharm": {
     "name": "#%%\n"
    }
   },
   "outputs": [
    {
     "data": {
      "text/plain": [
       "[<matplotlib.lines.Line2D at 0x1507f6957f0>]"
      ]
     },
     "execution_count": 31,
     "metadata": {},
     "output_type": "execute_result"
    },
    {
     "data": {
      "image/png": "[encoded data removed]",
      "text/plain": [
       "<Figure size 1080x576 with 1 Axes>"
      ]
     },
     "metadata": {
      "needs_background": "light"
     },
     "output_type": "display_data"
    }
   ],
   "source": [
    "# Se representa el ciclo de vapor en sobrecalentamiento\n",
    "\n",
    "%matplotlib inline\n",
    "import matplotlib.pyplot as plt\n",
    "import numpy as np\n",
    "\n",
    "plt.figure(figsize=(15.0,8.0))\n",
    "S_ideal_calentado=[S1,S1s,S2is,S3s,S4s,S5i,S1]\n",
    "T_ideal_calentado=[T1,T1s,T2is,T3s,T4is,T5i,T1]    \n",
    "S_calentado=[S1,S1s,S2rs,S3s,S4rs,S5s,S1]\n",
    "T_calentado=[T1,T1s,T2rs,T3s,T4rs,T5s,T1]\n",
    "\n",
    "plt.plot(S_calentado, T_calentado, 'yo--')\n",
    "plt.plot(S_ideal_calentado, T_ideal_calentado, 'o-')\n",
    "plt.legend(('Sobrecalentado','Ideal'))\n",
    "plt.xlabel('Entropy (kJ/kg*K)')\n",
    "plt.ylabel('Temperature (°C)')\n",
    "plt.title('Diagrama T-S. Ciclo de Rankine en Sobrecalentamiento')\n",
    "plt.grid()\n",
    "\n",
    "# Representación de la línea\n",
    "npt = np.linspace(10,647.096-273.15,200) # rango de temperaturas\n",
    "svap = [s for s in [tx2s(t, 1) for t in npt]]\n",
    "sliq = [s for s in [tx2s(t, 0) for t in npt]]\n",
    "plt.plot(svap, npt, 'forestgreen')\n",
    "plt.plot(sliq, npt, 'forestgreen')\n"
   ]
  },
  {
   "cell_type": "markdown",
   "metadata": {
    "pycharm": {
     "name": "#%% md\n"
    }
   },
   "source": [
    "\n",
    "## Ejercicio 4: Ciclo de Rankine con recalentamiento"
   ]
  },
  {
   "cell_type": "markdown",
   "metadata": {
    "pycharm": {
     "name": "#%% md\n"
    }
   },
   "source": [
    "El ciclo Rankine con recalentamiento puede ayudar a elevar mínimamente la eficiencia del ciclo, pero se usa para alargar el tiempo de vida de la turbina. Idealmente podríamos usar una cantidad infinita de recalentamientos para continuar elevando la eficiencia pero en la practica solo se usan dos o tres, ya que la ganancia de trabajos es muy pequeña."
   ]
  },
  {
   "cell_type": "code",
   "execution_count": 32,
   "metadata": {
    "pycharm": {
     "name": "#%%\n"
    }
   },
   "outputs": [],
   "source": [
    "# Datos del enunciado:\n",
    "\n",
    "t1 = 500\n",
    "p1 = 10\n",
    "p2 = 0.8\n",
    "t3 = 460\n",
    "p4 = 0.008\n",
    "x5 = 0\n",
    "w_cycle = 200\n",
    "r_t1 = 0.91\n",
    "r_t2 = 0.93\n",
    "r_p = 0.88"
   ]
  },
  {
   "cell_type": "code",
   "execution_count": 33,
   "metadata": {
    "pycharm": {
     "name": "#%%\n"
    }
   },
   "outputs": [],
   "source": [
    "# Definición de los estados\n",
    "\n",
    "import seuif97 as sf\n",
    "\n",
    "class State_Pyromat(object):\n",
    "    def __init__(self, numero='', descripcion='', fluido=None, **kwargs):\n",
    "        self.numero = numero\n",
    "        self.descripcion = descripcion\n",
    "        self.kwargs = kwargs\n",
    "        if fluido is None:\n",
    "            self.fluido = pm.get('mp.H2O')\n",
    "        else:\n",
    "            self.fluido = fluido\n",
    "        self.all_keys = ('T', 'p', 's', 'h', 'x')\n",
    "        for kwarg, val in kwargs.items():\n",
    "            setattr(self, kwarg, val) ## Este bucle está haciendo: self.t=480\n",
    "        self.calcular_propiedades()\n",
    " \n",
    "    def __repr__(self):\n",
    "        return f'Estado {self.numero} - {self.descripcion}: P = {self.p:.4f} MPa, T = {self.T:.2f} ºC,'\\\n",
    "               f'x = {self.x:.2f} p.u., h = {self.h:.2f} KJ/kg, s = {self.s:.2f} KJ/kg·K'\n",
    "            \n",
    "    def calcular_propiedades(self):\n",
    "        keys = [k for k in self.kwargs.keys()]\n",
    "        unknown_keys = list(set(self.all_keys).difference(keys))\n",
    "        function = ''.join(keys)\n",
    "        values = [getattr(self, k) for k in keys]\n",
    "        for var in unknown_keys:           \n",
    "            setattr(self, var, getattr(self.fluido, var)(**self.kwargs)[0]) ### para PyroMat\n",
    "            \n",
    "\n",
    "class State(object):\n",
    "    '''Estados para SEUIF97'''\n",
    "    def __init__(self, numero='', descripcion='', fluido=None, **kwargs):\n",
    "        self.numero = numero\n",
    "        self.descripcion = descripcion\n",
    "        self.kwargs = kwargs\n",
    "        self.all_keys = ('t', 'p', 's', 'h', 'x')\n",
    "        for kwarg, val in kwargs.items():\n",
    "            setattr(self, kwarg, val)\n",
    "        self.calcular_propiedades()\n",
    " \n",
    "    def __repr__(self):\n",
    "        return f'Estado {self.numero} - {self.descripcion}: P = {self.p:.4f} MPa, T = {self.t:.2f} ºC,'\\\n",
    "               f'x = {self.x:.2f} p.u., h = {self.h:.2f} KJ/kg, s = {self.s:.2f} KJ/kg·K'\n",
    "            \n",
    "    def calcular_propiedades(self):\n",
    "        keys = [k for k in self.kwargs.keys()] # Lo ponemos dentro una lista (cogemos solo el argumento kawargs)\n",
    "        unknown_keys = list(set(self.all_keys).difference(keys)) ## Diferencia entre self.all_keys = ('t','p','s','h','x') y keys.Siendo una lista\n",
    "        function = ''.join(keys)\n",
    "        values = [getattr(self, k) for k in keys]\n",
    "        \n",
    "        for var in unknown_keys:\n",
    "            try:\n",
    "                setattr(self, var, getattr(sf, f'{function}2{var}')(*values)) ## Estaran todas las variables que no hayamos utilizado\n",
    "            except AttributeError as e:\n",
    "                setattr(self, var, getattr(sf, f'{function[::-1]}2{var}')(*values[::-1]))"
   ]
  },
  {
   "cell_type": "markdown",
   "metadata": {
    "pycharm": {
     "name": "#%% md\n"
    }
   },
   "source": [
    "#### a) Calcular todos los estados "
   ]
  },
  {
   "cell_type": "code",
   "execution_count": 34,
   "metadata": {
    "pycharm": {
     "name": "#%%\n"
    }
   },
   "outputs": [],
   "source": [
    "estado1 = State(1, 'Entrada turbina', t=t1, p=p1)\n",
    "estado2ideal = State('2i', 'Salida turbina etapa 1 (ideal)', s=estado1.s, p=0.8)\n",
    "h2r = estado1.h - r_t1*(estado1.h - estado2ideal.h)\n",
    "estado2 = State(2, 'Salida turbina etapa 1 (real)', h=h2r, p=0.8)\n",
    "estado3 = State(3, 'Entrada turbina etapa 2', p=estado2.p, t=t3)\n",
    "estado4ideal = State('4i', 'Salida turbina etapa 2 (ideal)', s=estado3.s, p=p4)\n",
    "h4r = estado3.h - r_t2*(estado3.h - estado4ideal.h)\n",
    "estado4 = State(4, 'Salida turbina etapa 2 (real)', h=h4r, p=p4)\n",
    "estado5 = State(5, 'Entrada bomba', x=x5, t=estado4.t)\n",
    "estado6ideal = State('6i', 'Salida bomba (ideal)', p=p1, s=estado5.s)\n",
    "h6r = (estado5.h - estado6ideal.h)/r_p + estado5.h\n",
    "estado6 = State(6, 'Salida bomba (real)', h=h6r, p=estado6ideal.p)\n"
   ]
  },
  {
   "cell_type": "code",
   "execution_count": 35,
   "metadata": {
    "pycharm": {
     "name": "#%%\n"
    }
   },
   "outputs": [
    {
     "name": "stdout",
     "output_type": "stream",
     "text": [
      "Estado 1 - Entrada turbina: P = 10.0000 MPa, T = 500.00 ºC,x = 1.00 p.u., h = 3375.06 KJ/kg, s = 6.60 KJ/kg·K\n",
      "Estado 2i - Salida turbina etapa 1 (ideal): P = 0.8000 MPa, T = 170.41 ºC,x = 0.99 p.u., h = 2740.70 KJ/kg, s = 6.60 KJ/kg·K\n",
      "Estado 2 - Salida turbina etapa 1 (real): P = 0.8000 MPa, T = 182.20 ºC,x = 1.00 p.u., h = 2797.80 KJ/kg, s = 6.73 KJ/kg·K\n",
      "Estado 3 - Entrada turbina etapa 2: P = 0.8000 MPa, T = 460.00 ºC,x = 1.00 p.u., h = 3395.16 KJ/kg, s = 7.75 KJ/kg·K\n",
      "Estado 4i - Salida turbina etapa 2 (ideal): P = 0.0080 MPa, T = 41.51 ºC,x = 0.94 p.u., h = 2427.54 KJ/kg, s = 7.75 KJ/kg·K\n",
      "Estado 4 - Salida turbina etapa 2 (real): P = 0.0080 MPa, T = 41.51 ºC,x = 0.97 p.u., h = 2495.27 KJ/kg, s = 7.97 KJ/kg·K\n",
      "Estado 5 - Entrada bomba: P = 0.0080 MPa, T = 41.51 ºC,x = 0.00 p.u., h = 173.85 KJ/kg, s = 0.59 KJ/kg·K\n",
      "Estado 6i - Salida bomba (ideal): P = 10.0000 MPa, T = 41.81 ºC,x = 0.00 p.u., h = 183.91 KJ/kg, s = 0.59 KJ/kg·K\n",
      "Estado 6 - Salida bomba (real): P = 10.0000 MPa, T = 36.64 ºC,x = 0.00 p.u., h = 162.43 KJ/kg, s = 0.52 KJ/kg·K\n"
     ]
    }
   ],
   "source": [
    "print(estado1)\n",
    "print(estado2ideal)\n",
    "print(estado2)\n",
    "print(estado3)\n",
    "print(estado4ideal)\n",
    "print(estado4)\n",
    "print(estado5)\n",
    "print(estado6ideal)\n",
    "print(estado6)"
   ]
  },
  {
   "cell_type": "code",
   "execution_count": 36,
   "metadata": {
    "pycharm": {
     "name": "#%%\n"
    }
   },
   "outputs": [],
   "source": [
    "import pandas as pd\n",
    "import numpy as np\n",
    "import matplotlib.pyplot as plt\n",
    "\n",
    "Tc = 647.096 - 273.15  # Critical point temperature (ºC)\n",
    "Pt = 611.657e-6  # Triple point pressure (MPa)\n",
    "Tt = 0.01  # Triple point temperature (ºC)\n",
    "# Plotting vars\n",
    "isop = np.array([Pt, 0.001, 0.002, 0.005, 0.01, 0.02, 0.05, 0.1, 0.2, 0.5, 1.0, 2.0, 5.0, 10.0, 20.0, 35.0, 50.0, 100.0])\n",
    "isoh = np.linspace(200, 3600, 25)\n",
    "\n",
    "\n",
    "class RankineCycleReheat(object):\n",
    "    def __init__(self, t1, p1, p2, t3, p4, x5, w_cycle, r_t1, r_t2, r_p):\n",
    "        self.t1 = t1\n",
    "        self.p1 = p1\n",
    "        self.p2 = p2\n",
    "        self.t3 = t3\n",
    "        self.p4 = p4\n",
    "        self.x5 = x5\n",
    "        self.w_cycle = w_cycle\n",
    "        self.r_t1 = r_t1\n",
    "        self.r_t2 = r_t2\n",
    "        self.r_p = r_p\n",
    "        self.ordered_states = ['s1', 's2i', 'sc', 's3', 's4i', 's5', 's6i', 'sa', 'sb', 's1']\n",
    "        self.calcular_todo()\n",
    "\n",
    "    def fijar_estados(self):\n",
    "        self.estado1 = State(1, 'Entrada turbina', t=self.t1, p=self.p1)\n",
    "        self.estado2ideal = State('2i', 'Salida turbina etapa 1 (ideal)', s=self.estado1.s, p=self.p2)\n",
    "        self.h2r = self.estado1.h - self.r_t1*(self.estado1.h - self.estado2ideal.h)\n",
    "        self.estado2 = State(2, 'Salida turbina etapa 1 (real)', h=self.h2r, p=self.p2)\n",
    "        self.estado3 = State(3, 'Entrada turbina etapa 2', p=self.estado2.p, t=self.t3)\n",
    "        self.estado4ideal = State('4i', 'Salida turbina etapa 2 (ideal)', s=self.estado3.s, p=self.p4)\n",
    "        self.h4r = self.estado3.h - self.r_t2*(self.estado3.h - self.estado4ideal.h)\n",
    "        self.estado4 = State(4, 'Salida turbina etapa 2 (real)', h=self.h4r, p=self.p4)\n",
    "        self.estado5 = State(5, 'Entrada bomba', x=self.x5, t=self.estado4.t)\n",
    "        self.estado6ideal = State('6i', 'Salida bomba (ideal)', p=self.p1, s=self.estado5.s)\n",
    "        self.h6r = (self.estado6ideal.h - self.estado5.h)/self.r_p + self.estado5.h\n",
    "        self.estado6 = State(6, 'Salida bomba (real)', h=self.h6r, p=self.estado6ideal.p)\n",
    "        self.states_dict = {'s1':self.estado1, 's2i':self.estado2ideal, 's2':self.estado2, 's3':self.estado3, \n",
    "                            's4i':self.estado4ideal, 's4':self.estado4, 's5':self.estado5, 's6i':self.estado6ideal,\n",
    "                            's6':self.estado6}\n",
    "        self.fijar_estados_intermedios()\n",
    "        \n",
    "    def hacer_df(self):\n",
    "        df = pd.DataFrame([])\n",
    "        for k, st in self.states_dict.items():\n",
    "            for var in st.all_keys:\n",
    "                df.loc[k, var] = getattr(st, var)\n",
    "        return df\n",
    "    \n",
    "    def calcular_todo(self):\n",
    "        self.fijar_estados()\n",
    "        self.calcular_entalpias()\n",
    "        self.calcular_flujo_masico()\n",
    "        self.calcular_potencias()\n",
    "        self.calcular_rendimientos()\n",
    "#         self.print_values()\n",
    "    \n",
    "    def calcular_entalpias(self):\n",
    "        self.w_t1 = self.estado1.h - self.estado2.h\n",
    "        self.w_t2 = self.estado3.h - self.estado4.h\n",
    "        self.w_p = self.estado6.h - self.estado5.h\n",
    "        self.q_in_caldera = self.estado1.h - self.estado6.h\n",
    "        self.q_in_recalentamiento = self.estado3.h - self.estado2.h\n",
    "        self.q_in = self.q_in_caldera + self.q_in_recalentamiento\n",
    "        self.q_out = self.estado4.h - self.estado5.h\n",
    "        \n",
    "    def calcular_flujo_masico(self):\n",
    "        self.mass_flow = (self.w_cycle * 1e3) / (self.w_t1 + self.w_t2 - self.w_p)\n",
    "        \n",
    "    def calcular_potencias(self):\n",
    "        self.w_t1_mw = self.w_t1 * self.mass_flow / 1e3\n",
    "        self.w_t2_mw = self.w_t2 * self.mass_flow / 1e3\n",
    "        self.w_p_mw = self.w_p * self.mass_flow / 1e3\n",
    "        self.q_in_mw = self.q_in * self.mass_flow / 1e3\n",
    "        self.q_out_mw = self.q_out * self.mass_flow / 1e3\n",
    "        \n",
    "    def calcular_rendimientos(self):\n",
    "        self.r_th = (self.w_t1_mw + self.w_t2_mw - self.w_p_mw) / self.q_in_mw\n",
    "        self.bwr = self.w_p_mw / (self.w_t1_mw + self.w_t2_mw)\n",
    "        \n",
    "    def print_values(self):\n",
    "        print(\n",
    "            f'Qin = {self.q_in:.2f} KJ/kg, Qout = {self.q_out:.2f}  KJ/kg, Wt1 = {self.w_t1:.2f} KJ/kg, '\n",
    "            f'Wt2 = {self.w_t2:.2f} KJ/kg, Wp = {self.w_p:.2f} KJ/kg')\n",
    "        print(f'Qin = {self.q_in_mw:.2f} MW, Qout = {self.q_out_mw:.2f} MW, Wt1 = {self.w_t1_mw:.2f} MW, '\n",
    "              f'Wt2 = {self.w_t2_mw:.2f} MW, Wp = {self.w_p_mw:.2f} MW')\n",
    "        print(f'Thermal efficiency = {self.r_th:.3f}, Back work ratio = {self.bwr:.3f}')\n",
    "    \n",
    "    def fijar_estados_intermedios(self):\n",
    "        self.estado_a = State('a', p=self.estado6.p, x=0)\n",
    "        self.states_dict['sa'] = self.estado_a\n",
    "        # if self.s1.t != self.sa.t:\n",
    "        self.estado_b = State('b', t=self.estado_a.t, x=1)\n",
    "        self.states_dict['sb'] = self.estado_b\n",
    "        self.estado_c = State('c', t=self.estado2.t, x=1)\n",
    "        self.states_dict['sc'] = self.estado_c\n",
    "    \n",
    "    def plot_water_curve(self, ax=None, quality=False, isobars=False, isenthalpic=False, show=False):\n",
    "        if ax is None:\n",
    "            fig, ax = plt.subplots(1,1)\n",
    "        T = np.linspace(0.01, Tc, 100)\n",
    "        for x in np.array([0, 1.0]):\n",
    "            S = np.array([sf.tx2s(t, x) for t in T])\n",
    "            ax.plot(S, T, 'k', lw=1.0)\n",
    "        if quality:\n",
    "            for x in np.linspace(0.1, 0.9, 11):\n",
    "                S = np.array([sf.tx2s(t, x) for t in T])\n",
    "                ax.plot(S, T, 'k--', lw=0.2)\n",
    "        if isobars:\n",
    "            for p in isop:\n",
    "                T = np.array([sf.ph2t(p, h) for h in isoh])\n",
    "                S = np.array([sf.ph2s(p, h) for h in isoh])\n",
    "                ax.plot(S, T, 'b', lw=0.2)\n",
    "        if isenthalpic:\n",
    "            for h in isoh:\n",
    "                T = np.array([sf.ph2t(p, h) for p in isop])\n",
    "                S = np.array([sf.ph2s(p, h) for p in isop])\n",
    "                ax.plot(S, T, 'green', lw=0.2)\n",
    "        if show:\n",
    "            plt.show()\n",
    "        return ax\n",
    "    \n",
    "    def plot_cycle(self, water_curve=True, ax=None, **kwargs):\n",
    "        if water_curve:\n",
    "            ax = self.plot_water_curve(**kwargs)\n",
    "        if ax is None:\n",
    "            fig, ax = plt.subplots(1, 1)\n",
    "        s = []\n",
    "        t = []\n",
    "        for k in self.ordered_states:\n",
    "            s.append(self.states_dict[k].s)\n",
    "            t.append(self.states_dict[k].t)\n",
    "\n",
    "        ax.plot(s, t, 'ro-')\n",
    "        if self.r_t1 < 1.0:\n",
    "            real_turb = ['s1', 's2', 's2i']\n",
    "            s_t = []\n",
    "            t_t = []\n",
    "            for k in real_turb:\n",
    "                s_t.append(self.states_dict[k].s)\n",
    "                t_t.append(self.states_dict[k].t)\n",
    "            ax.plot(s_t, t_t, 'ro--')\n",
    "        if self.r_t2 != 1.0:\n",
    "            real_turb = ['s3', 's4', 's4i']\n",
    "            s_t = []\n",
    "            t_t = []\n",
    "            for k in real_turb:\n",
    "                s_t.append(self.states_dict[k].s)\n",
    "                t_t.append(self.states_dict[k].t)\n",
    "            ax.plot(s_t, t_t, 'ro--')\n",
    "        if self.r_p != 1.0:\n",
    "            real_pump = ['s5', 's6', 'sa']\n",
    "            s_p = []\n",
    "            t_p = []\n",
    "            for k in real_pump:\n",
    "                s_p.append(self.states_dict[k].s)\n",
    "                t_p.append(self.states_dict[k].t)\n",
    "            ax.plot(s_p, t_p, 'ro--')"
   ]
  },
  {
   "cell_type": "code",
   "execution_count": 37,
   "metadata": {
    "pycharm": {
     "name": "#%%\n"
    }
   },
   "outputs": [
    {
     "name": "stdout",
     "output_type": "stream",
     "text": [
      "              t          p         s            h         x\n",
      "s1   500.000000  10.000000  6.599323  3375.058442  1.000000\n",
      "s2i  170.413511   0.800000  6.599323  2740.704098  0.986520\n",
      "s2   182.198448   0.800000  6.727177  2797.795989  1.000000\n",
      "s3   460.000000   0.800000  7.754835  3395.164792  1.000000\n",
      "s4i   41.510053   0.008000  7.754835  2427.538081  0.938103\n",
      "s4    41.510053   0.008000  7.970096  2495.271951  0.966297\n",
      "s5    41.510053   0.008000  0.592532   173.851769  0.000000\n",
      "s6i   41.812925  10.000000  0.592532   183.907061  0.000000\n",
      "s6    42.142911  10.000000  0.596883   185.278238  0.000000\n",
      "sa   310.999488  10.000000  3.360291  1407.867501  0.000000\n",
      "sb   310.999488  10.000000  5.615890  2725.472567  1.000000\n",
      "sc   182.198448   1.054349  6.566683  2779.107700  1.000000\n"
     ]
    }
   ],
   "source": [
    "# Cálculo de los apartados:  b) Rendimiento térmico del ciclo en % (ηth); c) Flujo másico de vapor en kg/s (ṁ); \n",
    "# d) Si el agua de refrigeración entra en el condensador a 15 ºC y sale a 35 ºC, \n",
    "# ¿cuál es el flujo másico del agua de refrigeración en el condensador?\n",
    "# Tabla con los datos calculados +:\n",
    "\n",
    "if __name__ == '__main__':\n",
    "    t1 = 500\n",
    "    p1 = 10\n",
    "    p2 = 0.8\n",
    "    t3 = 460\n",
    "    p4 = 0.008\n",
    "    x5 = 0\n",
    "    w_cycle = 200\n",
    "    r_t1 = 0.91\n",
    "    r_t2 = 0.93\n",
    "    r_p = 0.88\n",
    "    ciclo = RankineCycleReheat(t1, p1, p2, t3, p4, x5, w_cycle, r_t1, r_t2, r_p)\n",
    "    df = ciclo.hacer_df()\n",
    "    print(df)"
   ]
  },
  {
   "cell_type": "markdown",
   "metadata": {
    "pycharm": {
     "name": "#%% md\n"
    }
   },
   "source": [
    "# Ejercicio 6: Análisis de sensibilidad"
   ]
  },
  {
   "cell_type": "markdown",
   "metadata": {
    "pycharm": {
     "name": "#%% md\n"
    }
   },
   "source": [
    "Tomando uno de los ciclos desarrollados en los ejercicios anteriores, realizar un análisis de\n",
    "sensibilidad variando sus propiedades iniciales (temperaturas, rendimientos de las turbinas y\n",
    "bombas, presiones…) y ver que impacto tienen sobre los parámetros de desempeño del ciclo\n",
    "(rendimiento térmico del ciclo, potencias y calores, etc.). Se valorará positivamente la originalidad\n",
    "del análisis y la presentación del mismo: gráficas, mapas de calor, o cualquier medio original que se\n",
    "considere oportuno."
   ]
  },
  {
   "cell_type": "code",
   "execution_count": 81,
   "metadata": {
    "pycharm": {
     "name": "#%%\n"
    }
   },
   "outputs": [],
   "source": [
    "# El ciclo escogido es el sobrecalentado. Se presentan los datos modificados\n",
    "\n",
    "P1sm = 10\n",
    "P2sm = 0.002\n",
    "T1sm = 600\n",
    "Wcyclesm = 100000\n",
    "RendTsm = 0.85\n",
    "RendPsm = 0.85"
   ]
  },
  {
   "cell_type": "markdown",
   "metadata": {
    "pycharm": {
     "name": "#%% md\n"
    }
   },
   "source": [
    "Se ha escogido una temperatura más elevada, ya que el aumento en la temperatura de la caldera nos ayuda a evitar el aumento de la humedad producido por una elevación en la presión de la caldera. El límite máximo al que se puede elevar la temperatura 𝑇4 viene condicionado por la resistencia de las aleaciones empleadas. Temperaturas excesivamente elevadas serían peligrosas, por lo tanto, para la instalación. "
   ]
  },
  {
   "cell_type": "code",
   "execution_count": 82,
   "metadata": {
    "pycharm": {
     "name": "#%%\n"
    }
   },
   "outputs": [],
   "source": [
    "# Se definen los estados como en el ejercicio anterior. Nota: se utiliza 'm' para estos datos modificados \n",
    "\n",
    "# ESTADO 1 (P1s y T1s)\n",
    "h1sm = pt2h(P1sm,T1sm)\n",
    "S1sm = pt2s(P1sm,T1sm)\n",
    "V1sm = pt2v(P1sm,T1sm)\n",
    "X1sm = pt2x(P1sm,T1sm)\n",
    "\n",
    "# ESTADO 2 (ideal)\n",
    "S2ism=S1sm\n",
    "T2ism = ps2t(P2sm,S2ism)\n",
    "h2ism = ps2h(P2sm,S2ism)\n",
    "X2ism = ps2x(P2sm,S2ism)\n",
    "V2ism = ps2v(P2sm,S2ism)\n",
    "\n",
    "# ESTADO 2 Real\n",
    "h2rsm = h1sm - RendTsm*(h1sm-h2ism)\n",
    "T2rsm=T2ism\n",
    "P2rsm = th2p(T2ism, h2rsm)\n",
    "S2rsm = th2s(T2ism, h2rsm)\n",
    "V2rsm = th2v(T2ism, h2rsm)\n",
    "X2rsm = th2x(T2ism, h2rsm)\n",
    "\n",
    "# ESTADO 3\n",
    "T3sm=T2ism\n",
    "X3sm=0\n",
    "P3sm = tx2p(T3sm,X3sm)\n",
    "h3sm = tx2h(T3sm,X3sm)\n",
    "S3sm = tx2s(T3sm,X3sm)\n",
    "V3sm = tx2v(T3sm,X3sm)\n",
    "\n",
    "# ESTADO 4 Ideal\n",
    "S4sm=S3sm\n",
    "P4sm=P1sm\n",
    "T4ism = ps2t(P4sm,S4sm)\n",
    "h4ism = ps2h(P4sm,S4sm)\n",
    "X4ism = ps2x(P4sm,S4sm)\n",
    "V4ism = ps2v(P4sm,S4sm)\n",
    "\n",
    "# ESTADO 4 Real\n",
    "h4rsm = h3sm + ((h4ism-h3sm)/RendPsm)\n",
    "T4rsm = ph2t(P4sm,h4rsm)\n",
    "S4rsm = ph2s(P4sm,h4rsm)\n",
    "V4rsm = ph2v(P4sm,h4rsm)\n",
    "X4rsm = ph2x(P4sm,h4rsm)\n",
    "\n",
    "# ESTADO 5 \n",
    "T5sm=T1 \n",
    "X5sm=0\n",
    "S5sm = tx2s(T5sm,X5sm)\n",
    "P5sm = tx2p(T5sm,X5sm )\n",
    "h5sm = tx2h(T5sm,X5sm)\n",
    "V5sm = tx2v(T5sm,X5sm)\n",
    "\n",
    "mrsm = Wcyclesm/((h1sm-h2rsm)-(h4rsm-h3sm)) \n",
    "Qoutrsm = (mrsm * (h2rsm-h3sm))/1000\n",
    "Qinrsm = (mrsm * (h1sm-h4rsm))/1000\n",
    "Wtrsm = (mrsm * (h1sm-h2rsm))/1000\n",
    "Wprsm = (mrsm * (h4rsm - h3sm))/1000\n",
    "Rendimientorm = (Wtrsm-Wprsm)/Qinrsm *100\n"
   ]
  },
  {
   "cell_type": "code",
   "execution_count": 83,
   "metadata": {
    "pycharm": {
     "name": "#%%\n"
    }
   },
   "outputs": [
    {
     "name": "stdout",
     "output_type": "stream",
     "text": [
      "mrsm = 73.18356061090961 kg/s\n",
      "Qoutrsm = 159.11799654323272 MW\n",
      "Qinrsm = 259.1179965432328 MW\n",
      "Wtrsm 100.86001776196525 MW\n",
      "Wprsm 0.8600177619652466 MW\n",
      "Rendimiento térmico  = 38.59245646155473 %\n"
     ]
    }
   ],
   "source": [
    "print ('mrsm =',mrsm, 'kg/s')\n",
    "print ('Qoutrsm =', Qoutrsm, 'MW')\n",
    "print ('Qinrsm =', Qinrsm,'MW' )\n",
    "print ('Wtrsm', Wtrsm, 'MW')\n",
    "print ('Wprsm', Wprsm, 'MW')\n",
    "print ('Rendimiento térmico  =',Rendimientorm, '%')"
   ]
  },
  {
   "cell_type": "code",
   "execution_count": 84,
   "metadata": {
    "pycharm": {
     "name": "#%%\n"
    }
   },
   "outputs": [
    {
     "data": {
      "text/plain": [
       "[<matplotlib.lines.Line2D at 0x150035a20a0>]"
      ]
     },
     "execution_count": 84,
     "metadata": {},
     "output_type": "execute_result"
    },
    {
     "data": {
      "image/png": "[encoded data removed]",
      "text/plain": [
       "<Figure size 1080x576 with 1 Axes>"
      ]
     },
     "metadata": {
      "needs_background": "light"
     },
     "output_type": "display_data"
    }
   ],
   "source": [
    "# Graficamos el nuevo ciclo Rankine\n",
    "\n",
    "%matplotlib inline\n",
    "\n",
    "import matplotlib.pyplot as plt\n",
    "import numpy as np\n",
    "\n",
    "plt.figure(figsize=(15.0,8.0))\n",
    " \n",
    "S_ideal_calentadom=[S1,S1sm,S2ism,S3sm,S4sm,S5i,S1]\n",
    "T_ideal_calentadom=[T1,T1sm,T2ism,T3sm,T4ism,T5i,T1]   \n",
    "S_calentadom=[S1,S1sm,S2rsm,S3sm,S4rsm,S5sm,S1]\n",
    "T_calentadom=[T1,T1sm,T2rsm,T3sm,T4rsm,T5sm,T1]\n",
    "\n",
    "plt.plot(S_calentadom, T_calentadom, 'yo--')\n",
    "plt.plot(S_ideal_calentadom, T_ideal_calentadom, 'bo-')\n",
    "plt.legend(('Sobrecalentado','Ideal'))\n",
    "plt.xlabel('Entropy (kJ/kg*K)')\n",
    "plt.ylabel('Temperature (°C)')\n",
    "plt.title('Diagrama T-S. Ciclo de Rankine con Sobrecalentamiento Modificado')\n",
    "plt.grid()\n",
    "\n",
    "# Representación de la línea\n",
    "npt = np.linspace(10,647.096-273.15,200) # range of temperatures\n",
    "svap = [s for s in [tx2s(t, 1) for t in npt]]\n",
    "sliq = [s for s in [tx2s(t, 0) for t in npt]]\n",
    "plt.plot(svap, npt, 'Forestgreen')\n",
    "plt.plot(sliq, npt, 'Forestgreen')"
   ]
  },
  {
   "cell_type": "code",
   "execution_count": 85,
   "metadata": {
    "pycharm": {
     "name": "#%%\n"
    }
   },
   "outputs": [
    {
     "name": "stdout",
     "output_type": "stream",
     "text": [
      "Ciclo sobrecalentado 1 (parámetros anteriores)\n",
      "Wcycle = 100000 MW\n",
      "mrs = 97.1281015825126 kg/s\n",
      "Qoutrs = 200.11770983617356 MW\n",
      "Qinrs = 300.11770983617356 MW\n",
      "Wtrs 100.91940520185511 MW\n",
      "Wprs 0.9194052018551155 MW\n",
      "Rendimiento térmico  = 33.32025959234042 %\n",
      "######\n",
      "Ciclo sobrecalentado modificado\n",
      "mrsm = 73.18356061090961 kg/s\n",
      "Qoutrsm = 159.11799654323272 MW\n",
      "Qinrsm = 259.1179965432328 MW\n",
      "Wtrsm 100.86001776196525 MW\n",
      "Wprsm 0.8600177619652466 MW\n",
      "Rendimiento térmico  = 38.59245646155473 %\n"
     ]
    }
   ],
   "source": [
    "# Recordemos los parámetros del ciclo sobrecalentado anterior\n",
    "\n",
    "print('Ciclo sobrecalentado 1 (parámetros anteriores)')\n",
    "print('Wcycle =', Wcycle,'MW')\n",
    "print ('mrs =',mrs, 'kg/s')\n",
    "print ('Qoutrs =', Qoutrs, 'MW')\n",
    "print ('Qinrs =', Qinrs,'MW' )\n",
    "print ('Wtrs', Wtrs, 'MW')\n",
    "print ('Wprs', Wprs, 'MW')\n",
    "print ('Rendimiento térmico  =',Rendimientors, '%')\n",
    "print('######')\n",
    "print('Ciclo sobrecalentado modificado')\n",
    "print ('mrsm =',mrsm, 'kg/s')\n",
    "print ('Qoutrsm =', Qoutrsm, 'MW')\n",
    "print ('Qinrsm =', Qinrsm,'MW' )\n",
    "print ('Wtrsm', Wtrsm, 'MW')\n",
    "print ('Wprsm', Wprsm, 'MW')\n",
    "print ('Rendimiento térmico  =',Rendimientorm, '%')"
   ]
  },
  {
   "cell_type": "markdown",
   "metadata": {
    "pycharm": {
     "name": "#%% md\n"
    }
   },
   "source": [
    "Se observa que con estos nuevos parámetros se ha mejorado un poco el rendimiento térmico del ciclo. Este aumento del rendimiento reside en las mejoras del ciclo básico de Rankine que se han planteado, como aumentando la presión máxima y temperatura máxima y disminuyendo la presión mínima del ciclo. Se ha escogido aumentar la presión de entrada a la turbina a 10 MPa y la temperatura de entrada a 600 ºC. En este nuevo cliclo, el vapor entra al condensador a una presión de 0,002 MPa. El trabajo neto del ciclo se ha mantenido en 100 MW, y los rendimientos de la turbina (ηt) y de la bomba (ηp) son ambos 0.85. De este modo, las modificaciones en los parámetros se justifican solo con los pequeños cambios realizados. Los datos obtenidos muestran una disminución del flujo másico, así como también valores de calor ligeramente menores. Los trabajos de la turbina y de la bomba también disminuyen pero, sin embargo, el rendimiento térmico del ciclo incrementa un 5,272%. "
   ]
  }
 ],
 "metadata": {
  "kernelspec": {
   "display_name": "Python 3",
   "language": "python",
   "name": "python3"
  },
  "language_info": {
   "codemirror_mode": {
    "name": "ipython",
    "version": 3
   },
   "file_extension": ".py",
   "mimetype": "text/x-python",
   "name": "python",
   "nbconvert_exporter": "python",
   "pygments_lexer": "ipython3",
   "version": "3.8.3"
  }
 },
 "nbformat": 4,
 "nbformat_minor": 4
}