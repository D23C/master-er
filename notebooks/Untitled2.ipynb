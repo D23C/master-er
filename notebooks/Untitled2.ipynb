{
 "cells": [
  {
   "cell_type": "code",
   "execution_count": 2,
   "metadata": {
    "pycharm": {
     "name": "#%%\n"
    }
   },
   "outputs": [],
   "source": [
    "import cantera as ct\n",
    "import numpy as np\n",
    "import matplotlib.pyplot as plt\n",
    "\n",
    "\n",
    "w = ct.Water()"
   ]
  },
  {
   "cell_type": "code",
   "execution_count": 27,
   "metadata": {
    "pycharm": {
     "name": "#%%\n"
    }
   },
   "outputs": [
    {
     "name": "stdout",
     "output_type": "stream",
     "text": [
      "647.286\n"
     ]
    },
    {
     "data": {
      "image/png": "[encoded data removed]",
      "text/plain": [
       "<Figure size 432x288 with 1 Axes>"
      ]
     },
     "metadata": {
      "needs_background": "light"
     },
     "output_type": "display_data"
    }
   ],
   "source": [
    "print(w.critical_temperature)\n",
    "\n",
    "def plot_water_curve(w):\n",
    "    Ts = np.linspace(274, w.critical_temperature-0.1, 1000)\n",
    "    Xs = 0\n",
    "\n",
    "    T_line = []\n",
    "    s_line = []\n",
    "\n",
    "    for i in Ts:\n",
    "        w.TX = i, 0.0\n",
    "        T_line.append(w.T)\n",
    "        s_line.append(w.s)\n",
    "\n",
    "    Ts2 = np.linspace(w.critical_temperature-0.1, 274, 1000)\n",
    "    Xs2 = 1\n",
    "\n",
    "    T2_line = []\n",
    "    s2_line = []\n",
    "\n",
    "    for i in Ts:\n",
    "        w.TX = i, 1.0\n",
    "        T2_line.append(w.T)\n",
    "        s2_line.append(w.s)\n",
    "    \n",
    "    plt.plot(s_line, T_line, color='blue')\n",
    "    plt.plot(s2_line, T2_line, color='blue')\n",
    "    plt.ylim(0, 1000)\n",
    "\n",
    "    \n",
    "def plot_isobars(P):\n",
    "    Ts3 = np.linspace(w.critical_temperature-0.1, 650, 1000)\n",
    "    S = np.linspace(3900, 11900, 1000)\n",
    "\n",
    "    T3_line = []\n",
    "    s3_line = []\n",
    "    for i in S:\n",
    "        w.SP = i, P\n",
    "        T3_line.append(w.T)\n",
    "        s3_line.append(w.s)\n",
    "    \n",
    "    plt.plot(s3_line, T3_line, color='red')\n",
    "\n",
    "P1 = 10e6\n",
    "P2 = 10e3\n",
    "\n",
    "plot_water_curve(w)\n",
    "plot_isobars(P1)\n",
    "plot_isobars(P2)\n",
    "\n",
    "plt.ylim(0, 1000)\n",
    "plt.show()\n",
    "# print(line)"
   ]
  },
  {
   "cell_type": "code",
   "execution_count": null,
   "metadata": {
    "pycharm": {
     "name": "#%%\n"
    }
   },
   "outputs": [],
   "source": []
  }
 ],
 "metadata": {
  "kernelspec": {
   "display_name": "Python 3",
   "language": "python",
   "name": "python3"
  },
  "language_info": {
   "codemirror_mode": {
    "name": "ipython",
    "version": 3
   },
   "file_extension": ".py",
   "mimetype": "text/x-python",
   "name": "python",
   "nbconvert_exporter": "python",
   "pygments_lexer": "ipython3",
   "version": "3.7.1"
  }
 },
 "nbformat": 4,
 "nbformat_minor": 2
}