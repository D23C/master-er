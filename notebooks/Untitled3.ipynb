{
 "cells": [
  {
   "cell_type": "markdown",
   "metadata": {
    "pycharm": {
     "name": "#%% md\n"
    }
   },
   "source": [
    "Neon, who works in a steam power plant, is asked to monitor the performance of a new system. The new system is running a Rankine cycle with water as the working fluid.\n",
    "\n",
    "What is known:\n",
    "\n",
    "The Schematic of the new system is shown on the left. The design data is:\n",
    "* Condenser Pressure: 10 kPa\n",
    "* Boiler Pressure: 16 MPa\n",
    "* Steam temperature at the turbine inlet: 600ºC\n",
    "\n",
    "The actual data measured by Neon are:\n",
    "\n",
    "* P1 = 9 kPa       \n",
    "* T1 = 38ºC\n",
    "* P2 = 16 MPa    \n",
    "* P3 = 15.9 MPa \n",
    "* P4 = 15.2 MPa  \n",
    "* T4 = 625ºC\n",
    "* P5 = 15 MPa     \n",
    "* T5 = 600ºC\n",
    "* P6 = 10 kPa\n",
    "\n",
    "The pump has an efficiency of 85% and the turbine has an efficiency of 80%.   \n",
    "The mass flow rate is 20 kg/s."
   ]
  },
  {
   "cell_type": "code",
   "execution_count": 3,
   "metadata": {
    "pycharm": {
     "name": "#%%\n"
    }
   },
   "outputs": [],
   "source": [
    "import cantera as ct\n",
    "import numpy as np\n",
    "import matplotlib.pyplot as plt\n"
   ]
  },
  {
   "cell_type": "code",
   "execution_count": 39,
   "metadata": {
    "pycharm": {
     "name": "#%%\n"
    }
   },
   "outputs": [],
   "source": [
    "def plot_water_curve(w):\n",
    "    Ts = np.linspace(274, w.critical_temperature-0.1, 1000)\n",
    "    Xs = 0\n",
    "    T_line = []\n",
    "    s_line = []\n",
    "    for i in Ts:\n",
    "        w.TX = i, 0.0\n",
    "        T_line.append(w.T)\n",
    "        s_line.append(w.s)\n",
    "\n",
    "    Ts2 = np.linspace(w.critical_temperature-0.1, 274, 1000)\n",
    "    Xs2 = 1\n",
    "    T2_line = []\n",
    "    s2_line = []\n",
    "    for i in Ts:\n",
    "        w.TX = i, 1.0\n",
    "        T2_line.append(w.T)\n",
    "        s2_line.append(w.s)\n",
    "    \n",
    "    plt.plot(s_line, T_line, color='blue')\n",
    "    plt.plot(s2_line, T2_line, color='blue')\n",
    "    plt.ylim(0, 1000)\n",
    "\n",
    "    \n",
    "def plot_isobar(P):\n",
    "    Ts3 = np.linspace(w.critical_temperature-0.1, 650, 1000)\n",
    "    S = np.linspace(3900, 11900, 1000)\n",
    "    T3_line = []\n",
    "    s3_line = []\n",
    "    for i in S:\n",
    "        w.SP = i, P\n",
    "        T3_line.append(w.T)\n",
    "        s3_line.append(w.s)\n",
    "    \n",
    "    plt.plot(s3_line, T3_line, color='red')\n",
    "    \n",
    "def plot_estado(estado):\n",
    "    t = estado[-2]\n",
    "    s = estado[-1]\n",
    "    plt.scatter(s, t, c='green', s=20)"
   ]
  },
  {
   "cell_type": "code",
   "execution_count": 30,
   "metadata": {
    "pycharm": {
     "name": "#%%\n"
    }
   },
   "outputs": [],
   "source": [
    "def bomba(fluido, presion_final, rendimiento):\n",
    "    \"\"\"Adiabatically pump a fluid to pressure p_final, using\n",
    "    a pump with isentropic efficiency eta.\"\"\"\n",
    "    h0 = fluido.h\n",
    "    s0 = fluido.s\n",
    "    fluido.SP = s0, presion_final\n",
    "    h1s = fluido.h\n",
    "    trabajo_isentropico = h1s - h0\n",
    "    trabajo_real = trabajo_isentropico / rendimiento\n",
    "    print('Trabajo isentropico (bomba): ', trabajo_isentropico, ' Trabajo real (bomba): ', trabajo_real)\n",
    "    h1 = h0 + trabajo_real\n",
    "    fluido.HP = h1, presion_final\n",
    "    return trabajo_real\n",
    "\n",
    "def turbina(fluido, presion_final, rendimiento):\n",
    "    \"\"\"Adiabatically expand a fluid to pressure p_final, using\n",
    "    a turbine with isentropic efficiency eta.\"\"\"\n",
    "    h0 = fluido.h\n",
    "    s0 = fluido.s\n",
    "    fluido.SP = s0, presion_final\n",
    "    h1s = fluido.h\n",
    "    trabajo_isentropico = h0 - h1s\n",
    "    trabajo_real = trabajo_isentropico * rendimiento\n",
    "    print('Trabajo isentropico (turbina): ', trabajo_isentropico, ' Trabajo real (turbina): ', trabajo_real)\n",
    "    h1 = h0 - trabajo_real\n",
    "    fluido.HP = h1, presion_final\n",
    "    return trabajo_real\n",
    "\n",
    "def boiler(w, presion):\n",
    "    h_pre = w.h\n",
    "    w.PX = presion, 1.0\n",
    "    h_post = w.h\n",
    "    calor_in = h_post - h_pre\n",
    "    print('Calor (boiler): ', calor_in)\n",
    "    return calor_in\n",
    "\n",
    "def condensador(w, T_inicial):\n",
    "    h_pre = w.h\n",
    "    w.TX = T_inicial, 0.0\n",
    "    h_post = w.h\n",
    "    calor_out = h_pre - h_post\n",
    "    print('Calor disipado (condensador): ', calor_out)\n",
    "    return calor_out\n",
    "\n",
    "def entalpia(fluido):\n",
    "    return fluido.h\n",
    "\n",
    "def print_estados(fluido, id_estado):\n",
    "    h = fluido.h\n",
    "    p = fluido.P\n",
    "    T = fluido.T\n",
    "    s = fluido.s\n",
    "    print('Estado #{} --> h:{:.3f}, p:{:.3f}, T:{:.2f}, s:{:.2f}'.format(id_estado, h, p, T, s))\n",
    "    return id_estado, h, p, T, s\n",
    "\n",
    "def eficiencia_ciclo(calor_in, trabajo_turbina, trabajo_bomba):\n",
    "    eficiencia = (trabajo_turbina - trabajo_bomba) / calor_in\n",
    "    print('Eficiencia del ciclo:', eficiencia)\n",
    "    return eficiencia\n"
   ]
  },
  {
   "cell_type": "code",
   "execution_count": 32,
   "metadata": {
    "scrolled": true,
    "pycharm": {
     "name": "#%%\n"
    }
   },
   "outputs": [
    {
     "name": "stdout",
     "output_type": "stream",
     "text": [
      "Estado #1 --> h:-15858194.325, p:10000.000, T:300.00, s:3913.20\n",
      "Trabajo isentropico (bomba):  10002.00422010012  Trabajo real (bomba):  10002.00422010012\n",
      "Estado #2 --> h:-15848192.321, p:10000000.010, T:300.20, s:3913.20\n",
      "Calor (boiler):  2602248.7715388276\n",
      "Estado #3 --> h:-13245943.549, p:10000000.000, T:584.24, s:9134.30\n",
      "Trabajo isentropico (turbina):  949166.4464704841  Trabajo real (turbina):  949166.4464704841\n",
      "Estado #4 --> h:-14195109.996, p:10000.000, T:319.00, s:9134.30\n",
      "Calor disipado (condensador):  1663090.2897106186\n",
      "Eficiencia del ciclo: 0.3609049421109011\n",
      "(1, -15858194.325112319, 9999.99999761302, 300.0, 3913.200034152833)\n"
     ]
    }
   ],
   "source": [
    "# condiciones de partida\n",
    "T_inicial = 300\n",
    "P_inicial = 10e3\n",
    "w = ct.Water()\n",
    "\n",
    "# Parámetros de los equipos\n",
    "rendimiento_bomba = 1.0\n",
    "rendimiento_turbina = 1.0\n",
    "\n",
    "# Estado 1 (antes de entrar en la bomba/salida del condensador)\n",
    "w.TP = T_inicial, P_inicial\n",
    "h1 = entalpia(w)\n",
    "estado1 = print_estados(w, 1)\n",
    "\n",
    "# Bomba\n",
    "P_salida = 10e6\n",
    "trabajo_bomba = bomba(w, P_salida, rendimiento_bomba)\n",
    "\n",
    "# Estado 2 (a la salida de la bomba/entrada al boiler)\n",
    "h2 = entalpia(w)\n",
    "estado2 = print_estados(w, 2)\n",
    "\n",
    "# Boiler\n",
    "calor_introducido = boiler(w, P_salida)\n",
    "\n",
    "# Estado 3 (a la salida del boiler/entrada de la turbina)\n",
    "h3 = entalpia(w)\n",
    "estado3 = print_estados(w, 3)\n",
    "\n",
    "# Turbina\n",
    "trabajo_turbina = turbina(w, P_inicial, rendimiento_turbina)\n",
    "\n",
    "# Estado 4 (a la salida de la turbina/entrada al condensador)\n",
    "h4 = entalpia(w)\n",
    "estado4 = print_estados(w, 4)\n",
    "\n",
    "# Condensador\n",
    "calor_disipado = condensador(w, T_inicial)\n",
    "\n",
    "# Eficiencia del ciclo\n",
    "eficiencia = eficiencia_ciclo(calor_introducido, trabajo_turbina, trabajo_bomba)\n",
    "\n",
    "print(estado1)\n",
    "\n"
   ]
  },
  {
   "cell_type": "code",
   "execution_count": 40,
   "metadata": {
    "pycharm": {
     "name": "#%%\n"
    }
   },
   "outputs": [
    {
     "data": {
      "image/png": "[encoded data removed]",
      "text/plain": [
       "<Figure size 432x288 with 1 Axes>"
      ]
     },
     "metadata": {
      "needs_background": "light"
     },
     "output_type": "display_data"
    }
   ],
   "source": [
    "plot_water_curve(w)\n",
    "plot_isobar(P_inicial)\n",
    "plot_isobar(P_salida)\n",
    "\n",
    "plot_estado(estado1)\n",
    "plot_estado(estado2)\n",
    "plot_estado(estado3)\n",
    "plot_estado(estado4)\n",
    "\n",
    "plt.show()"
   ]
  }
 ],
 "metadata": {
  "kernelspec": {
   "display_name": "Python 3",
   "language": "python",
   "name": "python3"
  },
  "language_info": {
   "codemirror_mode": {
    "name": "ipython",
    "version": 3
   },
   "file_extension": ".py",
   "mimetype": "text/x-python",
   "name": "python",
   "nbconvert_exporter": "python",
   "pygments_lexer": "ipython3",
   "version": "3.7.1"
  }
 },
 "nbformat": 4,
 "nbformat_minor": 2
}