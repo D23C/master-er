{
 "cells": [
  {
   "cell_type": "markdown",
   "metadata": {
    "pycharm": {
     "name": "#%% md\n"
    }
   },
   "source": [
    "# Ciclo de Rankine\n",
    "\n",
    "Estudio de un ciclo ideal de Rankine básico (sin recalentamiento). Datos de partida:\n",
    "\n",
    "* Temperatura del agua a la entrada del boiler: 26,85 ºC (300 K)\n",
    "* Temperatura del vapor a la entrada de la turbina: 626,85 ºC (900 K)\n",
    "* Presión a la entrada del boiler: 10 kPa\n",
    "* Presión a la entrada de la turbina: 10 MPa\n",
    "* Flujo de vapor: 20 kg/s\n",
    "\n",
    "Eficiencias de los equipos: como es el ciclo ideal, de momento las dejamos a 1. Pero dejaremos preparado el código para añadir las eficiencias más tarde."
   ]
  },
  {
   "cell_type": "code",
   "execution_count": null,
   "metadata": {
    "pycharm": {
     "name": "#%%\n"
    }
   },
   "outputs": [],
   "source": []
  }
 ],
 "metadata": {
  "kernelspec": {
   "display_name": "rankine_jup",
   "language": "python",
   "name": "rankine_jup"
  },
  "language_info": {
   "codemirror_mode": {
    "name": "ipython",
    "version": 3
   },
   "file_extension": ".py",
   "mimetype": "text/x-python",
   "name": "python",
   "nbconvert_exporter": "python",
   "pygments_lexer": "ipython3",
   "version": "3.7.9"
  }
 },
 "nbformat": 4,
 "nbformat_minor": 2
}