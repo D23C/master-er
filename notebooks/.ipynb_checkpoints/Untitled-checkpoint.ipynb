{
 "cells": [
  {
   "cell_type": "code",
   "execution_count": 1,
   "metadata": {},
   "outputs": [],
   "source": [
    "import cantera as ct"
   ]
  },
  {
   "cell_type": "code",
   "execution_count": 34,
   "metadata": {},
   "outputs": [],
   "source": [
    "def bomba(fluido, p_final, rendimiento):\n",
    "    h0 = fluid.h\n",
    "    s0 = fluid.s\n",
    "    fluid.SP = s0, p_final\n",
    "    h1s = fluid.h\n",
    "    isentropic_work = h1s - h0\n",
    "    actual_work = isentropic_work / eta\n",
    "    h1 = h0 + actual_work\n",
    "    fluid.HP = h1, p_final\n",
    "    return actual_work\n",
    "\n",
    "# parameters\n",
    "eta_pump = 1     # pump isentropic efficiency\n",
    "eta_turbine = 1  # turbine isentropic efficiency\n",
    "p_max = 10.0e6       # maximum pressure\n",
    "\n",
    "\n",
    "def pump(fluid, p_final, eta):\n",
    "    \"\"\"Adiabatically pump a fluid to pressure p_final, using\n",
    "    a pump with isentropic efficiency eta.\"\"\"\n",
    "    h0 = fluid.h\n",
    "    s0 = fluid.s\n",
    "    fluid.SP = s0, p_final\n",
    "    h1s = fluid.h\n",
    "    isentropic_work = h1s - h0\n",
    "    actual_work = isentropic_work / eta\n",
    "    print('isent: ', isentropic_work, ' act: ', actual_work)\n",
    "    h1 = h0 + actual_work\n",
    "    fluid.HP = h1, p_final\n",
    "    return actual_work\n",
    "\n",
    "\n",
    "def expand(fluid, p_final, eta):\n",
    "    \"\"\"Adiabatically expand a fluid to pressure p_final, using\n",
    "    a turbine with isentropic efficiency eta.\"\"\"\n",
    "    h0 = fluid.h\n",
    "    s0 = fluid.s\n",
    "    fluid.SP =s0, p_final\n",
    "    h1s = fluid.h\n",
    "    isentropic_work = h0 - h1s\n",
    "    actual_work = isentropic_work * eta\n",
    "    h1 = h0 - actual_work\n",
    "    fluid.HP = h1, p_final\n",
    "    return actual_work\n",
    "\n",
    "def printState(n, fluid):\n",
    "    print('\\n***************** State {0} ******************'.format(n))\n",
    "    print(fluid.report())"
   ]
  },
  {
   "cell_type": "code",
   "execution_count": 40,
   "metadata": {},
   "outputs": [
    {
     "name": "stdout",
     "output_type": "stream",
     "text": [
      "1 --> h:  -15858194.325112319  p:  9999.99999761302  T:  300.0  s:  3913.200034152833\n",
      "isent:  10002.00422010012  act:  10002.00422010012\n",
      "2 --> h:  -15848192.320892219  p:  10000000.009905195  T:  300.2019204006157  s:  3913.200034147717\n",
      "3 --> h:  -13245943.549353391  p:  9999999.999902405  T:  584.2360251538855  s:  9134.304987816688\n",
      "4 --> h:  -14195109.995847054  p:  9999.999997612496  T:  319.00284009688676  s:  9134.304987816755\n",
      "turbine_work:  949166.446493661\n",
      "pump_work:  10002.00422010012\n",
      "heat added:  2602248.7715388276\n",
      "heat dissipated:  1663084.3292652648\n",
      "tot_out:  2612250.775758926\n",
      "tot_in:  2612250.7757589277\n",
      "efficiency =  0.36090494211980756\n"
     ]
    }
   ],
   "source": [
    "if __name__ == '__main__':\n",
    "    # create an object representing water\n",
    "    w = ct.Water()\n",
    "\n",
    "    # start with saturated liquid water at 300 K\n",
    "    # w.TX = 300.0, 0.0\n",
    "    w.TP = 300.0, 10e3 \n",
    "    h1 = w.h\n",
    "    p1 = w.P\n",
    "    T1 = w.T\n",
    "    s1 = w.s\n",
    "    print('1 --> h: ', h1, ' p: ', p1, ' T: ', T1, ' s: ', s1)\n",
    "    # printState(1, w)\n",
    "\n",
    "    # pump it adiabatically to p_max\n",
    "    pump_work = pump(w, p_max, eta_pump)\n",
    "    h2 = w.h\n",
    "    p2 = w.P\n",
    "    T2 = w.T\n",
    "    s2 = w.s\n",
    "    print('2 --> h: ', h2, ' p: ', p2, ' T: ', T2, ' s: ', s2)\n",
    "    # printState(2, w)\n",
    "\n",
    "    # heat it at constant pressure until it reaches the saturated vapor state\n",
    "    # at this pressure\n",
    "    w.PX = p_max, 1.0\n",
    "    h3 = w.h\n",
    "    p3 = w.P\n",
    "    T3 = w.T\n",
    "    s3 = w.s\n",
    "    print('3 --> h: ', h3, ' p: ', p3, ' T: ', T3, ' s: ', s3)\n",
    "    heat_added = h3 - h2\n",
    "    #printState(3, w)\n",
    "\n",
    "    # expand back to p1\n",
    "    turbine_work = expand(w, p1, eta_turbine)\n",
    "    h4 = w.h\n",
    "    p4 = w.P\n",
    "    T4 = w.T\n",
    "    s4 = w.s\n",
    "    heat_diss = h4 - h1\n",
    "    print('4 --> h: ', h4, ' p: ', p4, ' T: ', T4, ' s: ', s4)\n",
    "    print('turbine_work: ', turbine_work)\n",
    "    print('pump_work: ', pump_work)\n",
    "    print('heat added: ', heat_added)\n",
    "    print('heat dissipated: ', heat_diss)\n",
    "    print('tot_out: ', heat_diss + turbine_work)\n",
    "    print('tot_in: ', heat_added + pump_work)\n",
    "    #printState(4, w)\n",
    "\n",
    "    # efficiency\n",
    "    eff = (turbine_work - pump_work)/heat_added\n",
    "\n",
    "    print('efficiency = ', eff)"
   ]
  },
  {
   "cell_type": "code",
   "execution_count": 4,
   "metadata": {},
   "outputs": [
    {
     "name": "stdout",
     "output_type": "stream",
     "text": [
      "\n",
      "  water:\n",
      "\n",
      "       temperature             300  K\n",
      "          pressure          101325  Pa\n",
      "           density         996.633  kg/m^3\n",
      "  mean mol. weight          18.016  amu\n",
      "    vapor fraction               0\n",
      "\n",
      "                          1 kg            1 kmol\n",
      "                       -----------      ------------\n",
      "          enthalpy    -1.58581e+07       -2.857e+08     J\n",
      "   internal energy    -1.58582e+07       -2.857e+08     J\n",
      "           entropy         3913.17         7.05e+04     J/K\n",
      "    Gibbs function    -1.70321e+07       -3.068e+08     J\n",
      " heat capacity c_p         4180.79        7.532e+04     J/K\n",
      " heat capacity c_v            4131        7.442e+04     J/K\n",
      "\n"
     ]
    }
   ],
   "source": [
    "water = ct.Water()\n",
    "print(water.report())"
   ]
  }
 ],
 "metadata": {
  "kernelspec": {
   "display_name": "Python 3",
   "language": "python",
   "name": "python3"
  },
  "language_info": {
   "codemirror_mode": {
    "name": "ipython",
    "version": 3
   },
   "file_extension": ".py",
   "mimetype": "text/x-python",
   "name": "python",
   "nbconvert_exporter": "python",
   "pygments_lexer": "ipython3",
   "version": "3.7.1"
  }
 },
 "nbformat": 4,
 "nbformat_minor": 2
}
