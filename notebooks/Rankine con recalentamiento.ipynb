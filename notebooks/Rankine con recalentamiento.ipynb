{
 "cells": [
  {
   "cell_type": "markdown",
   "metadata": {
    "pycharm": {
     "name": "#%% md\n"
    }
   },
   "source": [
    "# Ciclo de Rankine\n",
    "\n",
    "Estudio de un ciclo ideal de Rankine básico (sin recalentamiento). Datos de partida:\n",
    "\n",
    "* Temperatura del agua a la entrada del boiler: 26,85 ºC (300 K)\n",
    "* Temperatura del vapor a la entrada de la turbina: 626,85 ºC (900 K)\n",
    "* Presión a la entrada del boiler: 10 kPa\n",
    "* Presión a la entrada de la turbina: 10 MPa\n",
    "* Flujo de vapor: 20 kg/s\n",
    "\n",
    "Eficiencias de los equipos: como es el ciclo ideal, de momento las dejamos a 1. Pero dejaremos preparado el código para añadir las eficiencias más tarde."
   ]
  },
  {
   "cell_type": "code",
   "execution_count": 4,
   "metadata": {
    "pycharm": {
     "name": "#%%\n"
    }
   },
   "outputs": [],
   "source": [
    "import cantera as ct\n",
    "import numpy as np\n",
    "import matplotlib.pyplot as plt"
   ]
  },
  {
   "cell_type": "code",
   "execution_count": 5,
   "metadata": {
    "pycharm": {
     "name": "#%%\n"
    }
   },
   "outputs": [],
   "source": [
    "# Definición de funciones\n",
    "\n",
    "def bomba(w, p_salida, rendimiento):\n",
    "    h_pre = w.h\n",
    "    s_pre = w.s\n",
    "    w.SP = s_pre, p_salida\n",
    "    h_isen = w.h\n",
    "    w_b_isentropico = h_isen - h_pre\n",
    "    w_b_real = w_b_isentropico / rendimiento\n",
    "    h_post = h_pre + w_b_real\n",
    "    w.HP = h_post, p_salida\n",
    "    print('Trabajo isentropico (bomba): {} J/kg'.format(w_b_isentropico))\n",
    "    print('Trabajo real (bomba): {} J/kg'.format(w_b_real))\n",
    "    return w_b_real\n",
    "\n",
    "def turbina(w, p_salida, rendimiento):\n",
    "    h_pre = w.h\n",
    "    s_pre = w.s\n",
    "    w.SP = s_pre, p_salida\n",
    "    h_isen = w.h\n",
    "    w_t_isentropico = h_pre - h_isen\n",
    "    w_t_real = w_t_isentropico * rendimiento\n",
    "    h_post = h_pre - w_t_real\n",
    "    w.HP = h_post, p_salida\n",
    "    print('Trabajo isentropico (turbina): {} J/kg'.format(w_t_isentropico))\n",
    "    print('Trabajo real (turbina): {} J/kg'.format(w_t_real))\n",
    "    return w_t_real\n",
    "\n",
    "def caldera(w, T_salida, p_salida):\n",
    "    h_pre = w.h\n",
    "    w.TP = T_salida, p_salida\n",
    "    h_post = w.h\n",
    "    q_in = h_post - h_pre\n",
    "    print('Calor introducido (caldera): {} J/kg'.format(q_in))\n",
    "    return q_in\n",
    "    \n",
    "def condensador(w, T_salida):\n",
    "    h_pre = w.h\n",
    "    w.TX = T_salida, 0.0\n",
    "    h_post = w.h\n",
    "    q_out = h_pre - h_post\n",
    "    print('Calor disipado (condensador): {} J/kg'.format(q_out))\n",
    "    return q_out\n",
    "\n",
    "def get_estado(w, id_estado):\n",
    "    h = w.h\n",
    "    s = w.s\n",
    "    T = w.T\n",
    "    p = w.P\n",
    "    print('Estado {} --> h: {:.2f} J/kg, s: {:.2f} J/kg·K, T: {:.2f} K, ' \n",
    "          'P: {:.2f} Pa'.format(id_estado, h, s, T, p))\n",
    "    return id_estado, h, s, T, p\n",
    "\n",
    "def eficiencia_ciclo(q_in, q_rc, w_t1_real, w_t2_real, w_b_real):\n",
    "    w_neto = w_t1_real + w_t2_real - w_b_real\n",
    "    q_total = q_in + q_rc\n",
    "    eficiencia = w_neto / q_total\n",
    "    print('Eficiencia del ciclo: {:.2f} %'.format(eficiencia * 100))\n",
    "    return eficiencia\n",
    "\n",
    "def potencia_ciclo(flujo_vapor, w_t1_real, w_t2_real, w_b_real):\n",
    "    w_neto = w_t1_real + w_t2_real - w_b_real\n",
    "    potencia = w_neto * flujo_vapor / 1000\n",
    "    print('Potencia del ciclo: {:.2f} kW'.format(potencia))\n",
    "    return potencia\n",
    "    "
   ]
  },
  {
   "cell_type": "code",
   "execution_count": 11,
   "metadata": {
    "pycharm": {
     "name": "#%%\n"
    }
   },
   "outputs": [],
   "source": [
    "def plot_water_curve(w):\n",
    "    Ts = np.linspace(274, w.critical_temperature-0.1, 1000)\n",
    "    Xs = 0\n",
    "    T_line = []\n",
    "    s_line = []\n",
    "    for i in Ts:\n",
    "        w.TX = i, 0.0\n",
    "        T_line.append(w.T)\n",
    "        s_line.append(w.s)\n",
    "\n",
    "    Ts2 = np.linspace(w.critical_temperature-0.1, 274, 1000)\n",
    "    Xs2 = 1\n",
    "    T2_line = []\n",
    "    s2_line = []\n",
    "    for i in Ts:\n",
    "        w.TX = i, 1.0\n",
    "        T2_line.append(w.T)\n",
    "        s2_line.append(w.s)\n",
    "    \n",
    "    plt.plot(s_line, T_line, color='blue')\n",
    "    plt.plot(s2_line, T2_line, color='blue')\n",
    "    plt.ylim(0, 1000)\n",
    "\n",
    "    \n",
    "def plot_isobar(P):\n",
    "   \n",
    "    S = np.linspace(3900, 11900, 1000)\n",
    "    T3_line = []\n",
    "    s3_line = []\n",
    "    for i in S:\n",
    "        w.SP = i, P\n",
    "        T3_line.append(w.T)\n",
    "        s3_line.append(w.s)\n",
    "    \n",
    "    plt.plot(s3_line, T3_line, color='red')\n",
    "    \n",
    "def plot_estado(estado, offset=10):\n",
    "    t = estado[-2]\n",
    "    s = estado[-3]\n",
    "    plt.scatter(s, t, c='green', s=20)\n",
    "    plt.annotate(str(estado[0]), xy=(s, t), xytext=(s+offset, t+offset))"
   ]
  },
  {
   "cell_type": "code",
   "execution_count": 8,
   "metadata": {
    "pycharm": {
     "name": "#%%\n"
    }
   },
   "outputs": [
    {
     "name": "stdout",
     "output_type": "stream",
     "text": [
      "Estado 1 --> h: -15858194.33 J/kg, s: 3913.20 J/kg·K, T: 300.00 K, P: 10000.00 Pa\n",
      "Trabajo isentropico (bomba): 10002.00422010012 J/kg\n",
      "Trabajo real (bomba): 10002.00422010012 J/kg\n",
      "Estado 2 --> h: -15848192.32 J/kg, s: 3913.20 J/kg·K, T: 300.20 K, P: 10000000.01 Pa\n",
      "Calor introducido (caldera): 3568890.793444095 J/kg\n",
      "Estado 3 --> h: -12279301.53 J/kg, s: 10497.45 J/kg·K, T: 900.00 K, P: 10000000.00 Pa\n",
      "Trabajo isentropico (turbina): 422295.6324289292 J/kg\n",
      "Trabajo real (turbina): 422295.6324289292 J/kg\n",
      "Estado 4 --> h: -12701597.16 J/kg, s: 10497.45 J/kg·K, T: 690.03 K, P: 3000000.00 Pa\n",
      "Calor introducido (caldera): 474312.3490972519 J/kg\n",
      "Estado 5 --> h: -12227284.81 J/kg, s: 11097.43 J/kg·K, T: 900.00 K, P: 3000000.00 Pa\n",
      "Trabajo isentropico (turbina): 1341582.7305098549 J/kg\n",
      "Trabajo real (turbina): 1341582.7305098549 J/kg\n",
      "Estado 6 --> h: -13568867.54 J/kg, s: 11097.43 J/kg·K, T: 319.00 K, P: 10000.00 Pa\n",
      "Calor disipado (condensador): 2289332.744244838 J/kg\n",
      "Eficiencia del ciclo: 43.38 %\n",
      "Potencia del ciclo: 35077.53 kW\n"
     ]
    }
   ],
   "source": [
    "# Condiciones de partida\n",
    "T_baja = 300\n",
    "T_alta = 900\n",
    "p_baja = 10e3\n",
    "p_media = 3e6\n",
    "p_alta = 10e6\n",
    "f_vapor = 20\n",
    "\n",
    "# Rendimientos de los equipos\n",
    "rend_t = 1\n",
    "rend_t2 = 1\n",
    "rend_b = 1\n",
    "\n",
    "# Definición del fluido\n",
    "w = ct.Water()\n",
    "\n",
    "# Estado 1 (entrada bomba/salida condensador)\n",
    "w.TP = T_baja, p_baja\n",
    "estado1 = get_estado(w, 1)\n",
    "\n",
    "# Bomba\n",
    "w_bomba = bomba(w, p_alta, rend_b)\n",
    "\n",
    "# Estado 2 (salida bomba/entrada caldera)\n",
    "estado2 = get_estado(w, 2)\n",
    "\n",
    "# Caldera\n",
    "calor_in = caldera(w, T_alta, p_alta)\n",
    "\n",
    "# Estado 3 (salida caldera/entrada turbina 1)\n",
    "estado3 = get_estado(w, 3)\n",
    "\n",
    "# Turbina 1\n",
    "w_turbina1 = turbina(w, p_media, rend_t)\n",
    "\n",
    "# Estado 4 (salida turbina 1/entrada recalentamiento)\n",
    "estado4 = get_estado(w, 4)\n",
    "\n",
    "# Caldera recalentamiento\n",
    "calor_rc = caldera(w, T_alta, p_media)\n",
    "\n",
    "# Estado 5 (salida recalentamiento/entrada turbina 2)\n",
    "estado5 = get_estado(w, 5)\n",
    "\n",
    "# Turbina 2\n",
    "w_turbina2 = turbina(w, p_baja, rend_t2)\n",
    "\n",
    "# Estado 6 (salida turbina 2/entrada condensador)\n",
    "estado6 = get_estado(w, 6)\n",
    "\n",
    "# Condensador\n",
    "calor_out = condensador(w, T_baja)\n",
    "\n",
    "# Cálculo de eficiencia y potencia del ciclo\n",
    "efic_ciclo = eficiencia_ciclo(calor_in, calor_rc, w_turbina1, w_turbina2, w_bomba)\n",
    "potencia = potencia_ciclo(f_vapor, w_turbina1, w_turbina2, w_bomba)\n"
   ]
  },
  {
   "cell_type": "code",
   "execution_count": 13,
   "metadata": {
    "pycharm": {
     "name": "#%%\n"
    }
   },
   "outputs": [
    {
     "data": {
      "image/png": "[encoded data removed]",
      "text/plain": [
       "<Figure size 432x288 with 1 Axes>"
      ]
     },
     "metadata": {
      "needs_background": "light"
     },
     "output_type": "display_data"
    }
   ],
   "source": [
    "plot_water_curve(w)\n",
    "plot_isobar(p_baja)\n",
    "plot_isobar(p_media)\n",
    "plot_isobar(p_alta)\n",
    "\n",
    "plot_estado(estado1, offset=-70)\n",
    "plot_estado(estado2, offset=30)\n",
    "plot_estado(estado3, offset=-70)\n",
    "plot_estado(estado4, offset=30)\n",
    "plot_estado(estado5, offset=30)\n",
    "plot_estado(estado6, offset=30)\n",
    "\n",
    "plt.grid()\n",
    "plt.show()"
   ]
  }
 ],
 "metadata": {
  "kernelspec": {
   "display_name": "Python 3",
   "language": "python",
   "name": "python3"
  },
  "language_info": {
   "codemirror_mode": {
    "name": "ipython",
    "version": 3
   },
   "file_extension": ".py",
   "mimetype": "text/x-python",
   "name": "python",
   "nbconvert_exporter": "python",
   "pygments_lexer": "ipython3",
   "version": "3.7.1"
  }
 },
 "nbformat": 4,
 "nbformat_minor": 2
}